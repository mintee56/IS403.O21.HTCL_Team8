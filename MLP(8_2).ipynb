{
  "nbformat": 4,
  "nbformat_minor": 0,
  "metadata": {
    "colab": {
      "provenance": []
    },
    "kernelspec": {
      "name": "python3",
      "display_name": "Python 3"
    },
    "language_info": {
      "name": "python"
    }
  },
  "cells": [
    {
      "cell_type": "markdown",
      "source": [
        "DOGE"
      ],
      "metadata": {
        "id": "zwy1GAibF8H4"
      }
    },
    {
      "cell_type": "code",
      "execution_count": 15,
      "metadata": {
        "colab": {
          "base_uri": "https://localhost:8080/"
        },
        "id": "b_yNNHYnQ31O",
        "outputId": "9dbd21bb-d3cd-49bd-dc00-7277a71436d7"
      },
      "outputs": [
        {
          "output_type": "stream",
          "name": "stdout",
          "text": [
            "Drive already mounted at /content/drive; to attempt to forcibly remount, call drive.mount(\"/content/drive\", force_remount=True).\n"
          ]
        }
      ],
      "source": [
        "# Import necessary libraries\n",
        "from google.colab import drive\n",
        "drive.mount('/content/drive')\n",
        "import pandas as pd\n",
        "import numpy as np\n",
        "from sklearn.preprocessing import MinMaxScaler\n",
        "from sklearn.model_selection import train_test_split\n",
        "from sklearn.metrics import mean_squared_error, mean_absolute_percentage_error\n",
        "from keras.models import Sequential\n",
        "from keras.layers import Dense\n"
      ]
    },
    {
      "cell_type": "code",
      "source": [
        "# Load data\n",
        "data = pd.read_csv('/content/drive/MyDrive/DataBA/DOGE.csv')  # Thay thế đường dẫn này bằng đường dẫn của bạn\n",
        "data['Date'] = pd.to_datetime(data['Date'])\n",
        "data.set_index('Date', inplace=True)"
      ],
      "metadata": {
        "id": "VmBVHwMwRu8y"
      },
      "execution_count": 16,
      "outputs": []
    },
    {
      "cell_type": "code",
      "source": [
        "# Sử dụng giá đóng cửa\n",
        "prices = data['Close'].values.reshape(-1, 1)\n",
        "\n",
        "# Chuẩn hóa dữ liệu\n",
        "scaler = MinMaxScaler(feature_range=(0, 1))\n",
        "scaled_prices = scaler.fit_transform(prices)"
      ],
      "metadata": {
        "id": "KDi_M3-M_CmU"
      },
      "execution_count": 17,
      "outputs": []
    },
    {
      "cell_type": "code",
      "source": [
        "# Tạo tập dữ liệu với look_back\n",
        "def create_dataset(data, look_back=1):\n",
        "    X, Y = [], []\n",
        "    for i in range(len(data) - look_back - 1):\n",
        "        X.append(data[i:(i + look_back), 0])\n",
        "        Y.append(data[i + look_back, 0])\n",
        "    return np.array(X), np.array(Y)\n",
        "\n",
        "look_back = 90  # Chúng ta sẽ sử dụng look_back là 90 cho các mô hình 90, 60, và 30 ngày\n",
        "X, Y = create_dataset(scaled_prices, look_back)"
      ],
      "metadata": {
        "id": "0H6aZ7ksZMfJ"
      },
      "execution_count": 18,
      "outputs": []
    },
    {
      "cell_type": "code",
      "source": [
        "# Chia tập dữ liệu thành train và test\n",
        "train_size = int(len(X) * 0.8)\n",
        "test_size = len(X) - train_size\n",
        "X_train, X_test = X[:train_size], X[train_size:]\n",
        "Y_train, Y_test = Y[:train_size], Y[train_size:]"
      ],
      "metadata": {
        "id": "oRzXCs3TZeLW"
      },
      "execution_count": 19,
      "outputs": []
    },
    {
      "cell_type": "code",
      "source": [
        "\n",
        "# Tạo và huấn luyện mô hình MLP\n",
        "# Tạo mô hình MLP\n",
        "model = Sequential()\n",
        "model.add(Dense(64, input_dim=look_back, activation='relu'))\n",
        "model.add(Dense(32, activation='relu'))\n",
        "model.add(Dense(1, activation='linear'))\n",
        "model.compile(loss='mean_squared_error', optimizer='adam')\n",
        "\n",
        "# Huấn luyện mô hình\n",
        "model.fit(X_train, Y_train, epochs=50, batch_size=16, verbose=1)"
      ],
      "metadata": {
        "colab": {
          "base_uri": "https://localhost:8080/"
        },
        "id": "MKBvp7ntZeTL",
        "outputId": "c2e7815c-4482-4d5b-b069-905daca40f9b"
      },
      "execution_count": 20,
      "outputs": [
        {
          "output_type": "stream",
          "name": "stdout",
          "text": [
            "Epoch 1/50\n",
            "96/96 [==============================] - 1s 2ms/step - loss: 0.0053\n",
            "Epoch 2/50\n",
            "96/96 [==============================] - 0s 2ms/step - loss: 0.0024\n",
            "Epoch 3/50\n",
            "96/96 [==============================] - 0s 2ms/step - loss: 0.0013\n",
            "Epoch 4/50\n",
            "96/96 [==============================] - 0s 2ms/step - loss: 0.0012\n",
            "Epoch 5/50\n",
            "96/96 [==============================] - 0s 2ms/step - loss: 0.0016\n",
            "Epoch 6/50\n",
            "96/96 [==============================] - 0s 3ms/step - loss: 0.0011\n",
            "Epoch 7/50\n",
            "96/96 [==============================] - 0s 2ms/step - loss: 0.0011\n",
            "Epoch 8/50\n",
            "96/96 [==============================] - 0s 2ms/step - loss: 9.1661e-04\n",
            "Epoch 9/50\n",
            "96/96 [==============================] - 0s 2ms/step - loss: 0.0011\n",
            "Epoch 10/50\n",
            "96/96 [==============================] - 0s 2ms/step - loss: 0.0011\n",
            "Epoch 11/50\n",
            "96/96 [==============================] - 0s 4ms/step - loss: 9.0460e-04\n",
            "Epoch 12/50\n",
            "96/96 [==============================] - 0s 3ms/step - loss: 9.1002e-04\n",
            "Epoch 13/50\n",
            "96/96 [==============================] - 0s 3ms/step - loss: 0.0011\n",
            "Epoch 14/50\n",
            "96/96 [==============================] - 0s 3ms/step - loss: 8.8595e-04\n",
            "Epoch 15/50\n",
            "96/96 [==============================] - 0s 3ms/step - loss: 7.5864e-04\n",
            "Epoch 16/50\n",
            "96/96 [==============================] - 0s 3ms/step - loss: 7.6942e-04\n",
            "Epoch 17/50\n",
            "96/96 [==============================] - 0s 4ms/step - loss: 9.9272e-04\n",
            "Epoch 18/50\n",
            "96/96 [==============================] - 0s 3ms/step - loss: 8.5399e-04\n",
            "Epoch 19/50\n",
            "96/96 [==============================] - 0s 3ms/step - loss: 7.0774e-04\n",
            "Epoch 20/50\n",
            "96/96 [==============================] - 0s 4ms/step - loss: 8.9898e-04\n",
            "Epoch 21/50\n",
            "96/96 [==============================] - 0s 3ms/step - loss: 6.0237e-04\n",
            "Epoch 22/50\n",
            "96/96 [==============================] - 0s 4ms/step - loss: 6.2936e-04\n",
            "Epoch 23/50\n",
            "96/96 [==============================] - 0s 3ms/step - loss: 7.4339e-04\n",
            "Epoch 24/50\n",
            "96/96 [==============================] - 0s 3ms/step - loss: 6.2308e-04\n",
            "Epoch 25/50\n",
            "96/96 [==============================] - 0s 3ms/step - loss: 6.3346e-04\n",
            "Epoch 26/50\n",
            "96/96 [==============================] - 0s 4ms/step - loss: 7.2257e-04\n",
            "Epoch 27/50\n",
            "96/96 [==============================] - 0s 2ms/step - loss: 8.1137e-04\n",
            "Epoch 28/50\n",
            "96/96 [==============================] - 0s 2ms/step - loss: 6.0417e-04\n",
            "Epoch 29/50\n",
            "96/96 [==============================] - 0s 2ms/step - loss: 8.5441e-04\n",
            "Epoch 30/50\n",
            "96/96 [==============================] - 0s 2ms/step - loss: 7.8986e-04\n",
            "Epoch 31/50\n",
            "96/96 [==============================] - 0s 2ms/step - loss: 6.9611e-04\n",
            "Epoch 32/50\n",
            "96/96 [==============================] - 0s 2ms/step - loss: 8.4961e-04\n",
            "Epoch 33/50\n",
            "96/96 [==============================] - 0s 2ms/step - loss: 7.2347e-04\n",
            "Epoch 34/50\n",
            "96/96 [==============================] - 0s 3ms/step - loss: 0.0011\n",
            "Epoch 35/50\n",
            "96/96 [==============================] - 0s 2ms/step - loss: 5.8029e-04\n",
            "Epoch 36/50\n",
            "96/96 [==============================] - 0s 2ms/step - loss: 8.7835e-04\n",
            "Epoch 37/50\n",
            "96/96 [==============================] - 0s 2ms/step - loss: 6.3584e-04\n",
            "Epoch 38/50\n",
            "96/96 [==============================] - 0s 2ms/step - loss: 6.3627e-04\n",
            "Epoch 39/50\n",
            "96/96 [==============================] - 0s 2ms/step - loss: 6.8566e-04\n",
            "Epoch 40/50\n",
            "96/96 [==============================] - 0s 2ms/step - loss: 5.9635e-04\n",
            "Epoch 41/50\n",
            "96/96 [==============================] - 0s 2ms/step - loss: 6.0987e-04\n",
            "Epoch 42/50\n",
            "96/96 [==============================] - 0s 2ms/step - loss: 6.2104e-04\n",
            "Epoch 43/50\n",
            "96/96 [==============================] - 0s 2ms/step - loss: 5.5499e-04\n",
            "Epoch 44/50\n",
            "96/96 [==============================] - 0s 3ms/step - loss: 6.0147e-04\n",
            "Epoch 45/50\n",
            "96/96 [==============================] - 0s 2ms/step - loss: 5.8544e-04\n",
            "Epoch 46/50\n",
            "96/96 [==============================] - 0s 2ms/step - loss: 6.6011e-04\n",
            "Epoch 47/50\n",
            "96/96 [==============================] - 0s 2ms/step - loss: 6.0732e-04\n",
            "Epoch 48/50\n",
            "96/96 [==============================] - 0s 2ms/step - loss: 5.4169e-04\n",
            "Epoch 49/50\n",
            "96/96 [==============================] - 0s 3ms/step - loss: 6.5539e-04\n",
            "Epoch 50/50\n",
            "96/96 [==============================] - 0s 2ms/step - loss: 6.0449e-04\n"
          ]
        },
        {
          "output_type": "execute_result",
          "data": {
            "text/plain": [
              "<keras.src.callbacks.History at 0x7c4e7ab21f60>"
            ]
          },
          "metadata": {},
          "execution_count": 20
        }
      ]
    },
    {
      "cell_type": "code",
      "source": [
        "# Dự đoán trên tập test\n",
        "Y_pred = model.predict(X_test)\n",
        "Y_pred = scaler.inverse_transform(Y_pred.reshape(-1, 1))\n",
        "Y_test = scaler.inverse_transform(Y_test.reshape(-1, 1))"
      ],
      "metadata": {
        "colab": {
          "base_uri": "https://localhost:8080/"
        },
        "id": "vLPJZ4dNZeWL",
        "outputId": "9390541a-0bb9-4faf-92b5-602f5b253571"
      },
      "execution_count": 21,
      "outputs": [
        {
          "output_type": "stream",
          "name": "stdout",
          "text": [
            "12/12 [==============================] - 0s 2ms/step\n"
          ]
        }
      ]
    },
    {
      "cell_type": "code",
      "source": [
        "# Tính toán các chỉ số RMSE, MAPE, và MASE\n",
        "rmse = np.sqrt(mean_squared_error(Y_test, Y_pred))\n",
        "mape = mean_absolute_percentage_error(Y_test, Y_pred)\n",
        "\n",
        "def mase(y_true, y_pred, y_train):\n",
        "    n = len(y_train)\n",
        "    d = np.mean(np.abs(np.diff(y_train)))\n",
        "    errors = np.abs(y_true - y_pred)\n",
        "    return np.mean(errors) / d\n",
        "\n",
        "mase_score = mase(Y_test, Y_pred, Y_train)\n",
        "\n",
        "print(f'RMSE: {rmse}')\n",
        "print(f'MAPE: {mape}')\n",
        "print(f'MASE: {mase_score}')\n"
      ],
      "metadata": {
        "colab": {
          "base_uri": "https://localhost:8080/"
        },
        "id": "K0v0mgooFfZp",
        "outputId": "3577aca9-326a-42e8-c51d-1c0e210c792c"
      },
      "execution_count": 24,
      "outputs": [
        {
          "output_type": "stream",
          "name": "stdout",
          "text": [
            "RMSE: 105.93228420097573\n",
            "MAPE: 0.02784781113154518\n",
            "MASE: 7093.547841036366\n"
          ]
        }
      ]
    },
    {
      "cell_type": "code",
      "source": [
        "def predict_future(model, data, look_back, days):\n",
        "    future_data = data[-look_back:].reshape(1, -1)\n",
        "    predictions = []\n",
        "    for _ in range(days):\n",
        "        prediction = model.predict(future_data)\n",
        "        predictions.append(prediction[0][0])\n",
        "        future_data = np.append(future_data[:, 1:], prediction, axis=1)\n",
        "    return np.array(predictions).reshape(-1, 1)\n",
        "\n",
        "lst_output_90 = scaler.inverse_transform(predict_future(model, scaled_prices, look_back, 90))\n",
        "lst_output_60 = scaler.inverse_transform(predict_future(model, scaled_prices, look_back, 60))\n",
        "lst_output_30 = scaler.inverse_transform(predict_future(model, scaled_prices, look_back, 30))\n"
      ],
      "metadata": {
        "colab": {
          "base_uri": "https://localhost:8080/"
        },
        "id": "ZINbhrVTZeYw",
        "outputId": "54b06c81-35c0-4e9a-e912-8494223cb987"
      },
      "execution_count": 22,
      "outputs": [
        {
          "output_type": "stream",
          "name": "stdout",
          "text": [
            "1/1 [==============================] - 0s 21ms/step\n",
            "1/1 [==============================] - 0s 22ms/step\n",
            "1/1 [==============================] - 0s 22ms/step\n",
            "1/1 [==============================] - 0s 24ms/step\n",
            "1/1 [==============================] - 0s 21ms/step\n",
            "1/1 [==============================] - 0s 22ms/step\n",
            "1/1 [==============================] - 0s 26ms/step\n",
            "1/1 [==============================] - 0s 28ms/step\n",
            "1/1 [==============================] - 0s 21ms/step\n",
            "1/1 [==============================] - 0s 31ms/step\n",
            "1/1 [==============================] - 0s 21ms/step\n",
            "1/1 [==============================] - 0s 22ms/step\n",
            "1/1 [==============================] - 0s 21ms/step\n",
            "1/1 [==============================] - 0s 21ms/step\n",
            "1/1 [==============================] - 0s 21ms/step\n",
            "1/1 [==============================] - 0s 21ms/step\n",
            "1/1 [==============================] - 0s 21ms/step\n",
            "1/1 [==============================] - 0s 23ms/step\n",
            "1/1 [==============================] - 0s 34ms/step\n",
            "1/1 [==============================] - 0s 21ms/step\n",
            "1/1 [==============================] - 0s 23ms/step\n",
            "1/1 [==============================] - 0s 27ms/step\n",
            "1/1 [==============================] - 0s 20ms/step\n",
            "1/1 [==============================] - 0s 22ms/step\n",
            "1/1 [==============================] - 0s 22ms/step\n",
            "1/1 [==============================] - 0s 21ms/step\n",
            "1/1 [==============================] - 0s 21ms/step\n",
            "1/1 [==============================] - 0s 21ms/step\n",
            "1/1 [==============================] - 0s 23ms/step\n",
            "1/1 [==============================] - 0s 32ms/step\n",
            "1/1 [==============================] - 0s 25ms/step\n",
            "1/1 [==============================] - 0s 21ms/step\n",
            "1/1 [==============================] - 0s 24ms/step\n",
            "1/1 [==============================] - 0s 34ms/step\n",
            "1/1 [==============================] - 0s 24ms/step\n",
            "1/1 [==============================] - 0s 23ms/step\n",
            "1/1 [==============================] - 0s 23ms/step\n",
            "1/1 [==============================] - 0s 25ms/step\n",
            "1/1 [==============================] - 0s 21ms/step\n",
            "1/1 [==============================] - 0s 23ms/step\n",
            "1/1 [==============================] - 0s 22ms/step\n",
            "1/1 [==============================] - 0s 26ms/step\n",
            "1/1 [==============================] - 0s 22ms/step\n",
            "1/1 [==============================] - 0s 21ms/step\n",
            "1/1 [==============================] - 0s 22ms/step\n",
            "1/1 [==============================] - 0s 30ms/step\n",
            "1/1 [==============================] - 0s 24ms/step\n",
            "1/1 [==============================] - 0s 22ms/step\n",
            "1/1 [==============================] - 0s 22ms/step\n",
            "1/1 [==============================] - 0s 21ms/step\n",
            "1/1 [==============================] - 0s 22ms/step\n",
            "1/1 [==============================] - 0s 23ms/step\n",
            "1/1 [==============================] - 0s 30ms/step\n",
            "1/1 [==============================] - 0s 27ms/step\n",
            "1/1 [==============================] - 0s 30ms/step\n",
            "1/1 [==============================] - 0s 22ms/step\n",
            "1/1 [==============================] - 0s 22ms/step\n",
            "1/1 [==============================] - 0s 32ms/step\n",
            "1/1 [==============================] - 0s 23ms/step\n",
            "1/1 [==============================] - 0s 21ms/step\n",
            "1/1 [==============================] - 0s 24ms/step\n",
            "1/1 [==============================] - 0s 23ms/step\n",
            "1/1 [==============================] - 0s 22ms/step\n",
            "1/1 [==============================] - 0s 22ms/step\n",
            "1/1 [==============================] - 0s 26ms/step\n",
            "1/1 [==============================] - 0s 23ms/step\n",
            "1/1 [==============================] - 0s 21ms/step\n",
            "1/1 [==============================] - 0s 22ms/step\n",
            "1/1 [==============================] - 0s 22ms/step\n",
            "1/1 [==============================] - 0s 31ms/step\n",
            "1/1 [==============================] - 0s 22ms/step\n",
            "1/1 [==============================] - 0s 22ms/step\n",
            "1/1 [==============================] - 0s 22ms/step\n",
            "1/1 [==============================] - 0s 24ms/step\n",
            "1/1 [==============================] - 0s 22ms/step\n",
            "1/1 [==============================] - 0s 22ms/step\n",
            "1/1 [==============================] - 0s 26ms/step\n",
            "1/1 [==============================] - 0s 23ms/step\n",
            "1/1 [==============================] - 0s 22ms/step\n",
            "1/1 [==============================] - 0s 21ms/step\n",
            "1/1 [==============================] - 0s 20ms/step\n",
            "1/1 [==============================] - 0s 21ms/step\n",
            "1/1 [==============================] - 0s 22ms/step\n",
            "1/1 [==============================] - 0s 25ms/step\n",
            "1/1 [==============================] - 0s 22ms/step\n",
            "1/1 [==============================] - 0s 21ms/step\n",
            "1/1 [==============================] - 0s 20ms/step\n",
            "1/1 [==============================] - 0s 22ms/step\n",
            "1/1 [==============================] - 0s 29ms/step\n",
            "1/1 [==============================] - 0s 21ms/step\n",
            "1/1 [==============================] - 0s 21ms/step\n",
            "1/1 [==============================] - 0s 22ms/step\n",
            "1/1 [==============================] - 0s 21ms/step\n",
            "1/1 [==============================] - 0s 21ms/step\n",
            "1/1 [==============================] - 0s 22ms/step\n",
            "1/1 [==============================] - 0s 22ms/step\n",
            "1/1 [==============================] - 0s 23ms/step\n",
            "1/1 [==============================] - 0s 22ms/step\n",
            "1/1 [==============================] - 0s 23ms/step\n",
            "1/1 [==============================] - 0s 27ms/step\n",
            "1/1 [==============================] - 0s 28ms/step\n",
            "1/1 [==============================] - 0s 21ms/step\n",
            "1/1 [==============================] - 0s 22ms/step\n",
            "1/1 [==============================] - 0s 21ms/step\n",
            "1/1 [==============================] - 0s 21ms/step\n",
            "1/1 [==============================] - 0s 28ms/step\n",
            "1/1 [==============================] - 0s 22ms/step\n",
            "1/1 [==============================] - 0s 22ms/step\n",
            "1/1 [==============================] - 0s 21ms/step\n",
            "1/1 [==============================] - 0s 24ms/step\n",
            "1/1 [==============================] - 0s 22ms/step\n",
            "1/1 [==============================] - 0s 26ms/step\n",
            "1/1 [==============================] - 0s 32ms/step\n",
            "1/1 [==============================] - 0s 34ms/step\n",
            "1/1 [==============================] - 0s 38ms/step\n",
            "1/1 [==============================] - 0s 32ms/step\n",
            "1/1 [==============================] - 0s 32ms/step\n",
            "1/1 [==============================] - 0s 32ms/step\n",
            "1/1 [==============================] - 0s 35ms/step\n",
            "1/1 [==============================] - 0s 33ms/step\n",
            "1/1 [==============================] - 0s 31ms/step\n",
            "1/1 [==============================] - 0s 31ms/step\n",
            "1/1 [==============================] - 0s 31ms/step\n",
            "1/1 [==============================] - 0s 30ms/step\n",
            "1/1 [==============================] - 0s 39ms/step\n",
            "1/1 [==============================] - 0s 31ms/step\n",
            "1/1 [==============================] - 0s 38ms/step\n",
            "1/1 [==============================] - 0s 30ms/step\n",
            "1/1 [==============================] - 0s 32ms/step\n",
            "1/1 [==============================] - 0s 30ms/step\n",
            "1/1 [==============================] - 0s 31ms/step\n",
            "1/1 [==============================] - 0s 32ms/step\n",
            "1/1 [==============================] - 0s 31ms/step\n",
            "1/1 [==============================] - 0s 41ms/step\n",
            "1/1 [==============================] - 0s 30ms/step\n",
            "1/1 [==============================] - 0s 40ms/step\n",
            "1/1 [==============================] - 0s 33ms/step\n",
            "1/1 [==============================] - 0s 30ms/step\n",
            "1/1 [==============================] - 0s 33ms/step\n",
            "1/1 [==============================] - 0s 30ms/step\n",
            "1/1 [==============================] - 0s 31ms/step\n",
            "1/1 [==============================] - 0s 33ms/step\n",
            "1/1 [==============================] - 0s 45ms/step\n",
            "1/1 [==============================] - 0s 35ms/step\n",
            "1/1 [==============================] - 0s 37ms/step\n",
            "1/1 [==============================] - 0s 32ms/step\n",
            "1/1 [==============================] - 0s 38ms/step\n",
            "1/1 [==============================] - 0s 33ms/step\n",
            "1/1 [==============================] - 0s 34ms/step\n",
            "1/1 [==============================] - 0s 37ms/step\n",
            "1/1 [==============================] - 0s 32ms/step\n",
            "1/1 [==============================] - 0s 21ms/step\n",
            "1/1 [==============================] - 0s 26ms/step\n",
            "1/1 [==============================] - 0s 22ms/step\n",
            "1/1 [==============================] - 0s 22ms/step\n",
            "1/1 [==============================] - 0s 22ms/step\n",
            "1/1 [==============================] - 0s 22ms/step\n",
            "1/1 [==============================] - 0s 22ms/step\n",
            "1/1 [==============================] - 0s 21ms/step\n",
            "1/1 [==============================] - 0s 21ms/step\n",
            "1/1 [==============================] - 0s 23ms/step\n",
            "1/1 [==============================] - 0s 22ms/step\n",
            "1/1 [==============================] - 0s 33ms/step\n",
            "1/1 [==============================] - 0s 24ms/step\n",
            "1/1 [==============================] - 0s 28ms/step\n",
            "1/1 [==============================] - 0s 21ms/step\n",
            "1/1 [==============================] - 0s 22ms/step\n",
            "1/1 [==============================] - 0s 21ms/step\n",
            "1/1 [==============================] - 0s 21ms/step\n",
            "1/1 [==============================] - 0s 21ms/step\n",
            "1/1 [==============================] - 0s 23ms/step\n",
            "1/1 [==============================] - 0s 23ms/step\n",
            "1/1 [==============================] - 0s 23ms/step\n",
            "1/1 [==============================] - 0s 22ms/step\n",
            "1/1 [==============================] - 0s 25ms/step\n",
            "1/1 [==============================] - 0s 27ms/step\n",
            "1/1 [==============================] - 0s 22ms/step\n",
            "1/1 [==============================] - 0s 22ms/step\n",
            "1/1 [==============================] - 0s 24ms/step\n",
            "1/1 [==============================] - 0s 21ms/step\n"
          ]
        }
      ]
    },
    {
      "cell_type": "code",
      "source": [
        "import matplotlib.dates as mdates\n",
        "import matplotlib.pyplot as plt\n",
        "\n",
        "# Generate future dates for predictions\n",
        "last_date = data.index[-1]\n",
        "predict_data_index_90 = pd.date_range(start=last_date + pd.Timedelta(days=1), periods=90, freq='D')\n",
        "predict_data_index_60 = pd.date_range(start=last_date + pd.Timedelta(days=1), periods=60, freq='D')\n",
        "predict_data_index_30 = pd.date_range(start=last_date + pd.Timedelta(days=1), periods=30, freq='D')\n",
        "\n",
        "# Plot the data\n",
        "plt.figure(figsize=(6, 5))\n",
        "\n",
        "# Plot actual prices\n",
        "plt.plot(data.index, scaler.inverse_transform(scaled_prices), label='Actual')\n",
        "\n",
        "# Plot predictions\n",
        "plt.plot(predict_data_index_90, lst_output_90, label='Predict 90 days', linestyle='--')\n",
        "plt.plot(predict_data_index_60, lst_output_60, label='Predict 60 days', linestyle='--')\n",
        "plt.plot(predict_data_index_30, lst_output_30, label='Predict 30 days', linestyle='--')\n",
        "\n",
        "# Set x-axis formatting and rotation\n",
        "plt.gca().xaxis.set_major_formatter(mdates.DateFormatter(\"%Y-%m\"))\n",
        "plt.xticks(rotation=45)\n",
        "\n",
        "plt.xlabel('Date')\n",
        "plt.ylabel('Price')\n",
        "plt.title('Cryptocurrency Price Prediction')\n",
        "plt.legend()\n",
        "plt.tight_layout()\n",
        "plt.show()\n"
      ],
      "metadata": {
        "colab": {
          "base_uri": "https://localhost:8080/",
          "height": 507
        },
        "id": "pn1u5-GtZead",
        "outputId": "fee09a3f-dd8e-45f3-b3e7-04850d042af2"
      },
      "execution_count": 45,
      "outputs": [
        {
          "output_type": "display_data",
          "data": {
            "text/plain": [
              "<Figure size 600x500 with 1 Axes>"
            ],
            "image/png": "[encoded data removed]"
          },
          "metadata": {}
        }
      ]
    },
    {
      "cell_type": "markdown",
      "source": [
        "BTC"
      ],
      "metadata": {
        "id": "R1zSuXGTGDNA"
      }
    },
    {
      "cell_type": "code",
      "source": [
        "# Import necessary libraries\n",
        "from google.colab import drive\n",
        "drive.mount('/content/drive')\n",
        "import pandas as pd\n",
        "import numpy as np\n",
        "from sklearn.preprocessing import MinMaxScaler\n",
        "from sklearn.model_selection import train_test_split\n",
        "from sklearn.metrics import mean_squared_error, mean_absolute_percentage_error\n",
        "from keras.models import Sequential\n",
        "from keras.layers import Dense"
      ],
      "metadata": {
        "colab": {
          "base_uri": "https://localhost:8080/"
        },
        "id": "3_RLLkdjGIu3",
        "outputId": "888ff60b-061a-4416-f9ba-dc083caccf36"
      },
      "execution_count": 25,
      "outputs": [
        {
          "output_type": "stream",
          "name": "stdout",
          "text": [
            "Drive already mounted at /content/drive; to attempt to forcibly remount, call drive.mount(\"/content/drive\", force_remount=True).\n"
          ]
        }
      ]
    },
    {
      "cell_type": "code",
      "source": [
        "# Load data\n",
        "data = pd.read_csv('/content/drive/MyDrive/DataBA/BTC.csv')  # Thay thế đường dẫn này bằng đường dẫn của bạn\n",
        "data['Date'] = pd.to_datetime(data['Date'])\n",
        "data.set_index('Date', inplace=True)"
      ],
      "metadata": {
        "id": "DaD9BWBTGIxH"
      },
      "execution_count": 26,
      "outputs": []
    },
    {
      "cell_type": "code",
      "source": [
        "# Sử dụng giá đóng cửa\n",
        "prices = data['Close'].values.reshape(-1, 1)\n",
        "\n",
        "# Chuẩn hóa dữ liệu\n",
        "scaler = MinMaxScaler(feature_range=(0, 1))\n",
        "scaled_prices = scaler.fit_transform(prices)"
      ],
      "metadata": {
        "id": "-K-qUEIFGI06"
      },
      "execution_count": 27,
      "outputs": []
    },
    {
      "cell_type": "code",
      "source": [
        "# Tạo tập dữ liệu với look_back\n",
        "def create_dataset(data, look_back=1):\n",
        "    X, Y = [], []\n",
        "    for i in range(len(data) - look_back - 1):\n",
        "        X.append(data[i:(i + look_back), 0])\n",
        "        Y.append(data[i + look_back, 0])\n",
        "    return np.array(X), np.array(Y)\n",
        "\n",
        "look_back = 90  # Chúng ta sẽ sử dụng look_back là 90 cho các mô hình 90, 60, và 30 ngày\n",
        "X, Y = create_dataset(scaled_prices, look_back)"
      ],
      "metadata": {
        "id": "qtrCbdFyGI3a"
      },
      "execution_count": 28,
      "outputs": []
    },
    {
      "cell_type": "code",
      "source": [
        "# Chia tập dữ liệu thành train và test\n",
        "train_size = int(len(X) * 0.8)\n",
        "test_size = len(X) - train_size\n",
        "X_train, X_test = X[:train_size], X[train_size:]\n",
        "Y_train, Y_test = Y[:train_size], Y[train_size:]"
      ],
      "metadata": {
        "id": "UvHJVAHtGI5o"
      },
      "execution_count": 29,
      "outputs": []
    },
    {
      "cell_type": "code",
      "source": [
        "# Tạo và huấn luyện mô hình MLP\n",
        "# Tạo mô hình MLP\n",
        "model = Sequential()\n",
        "model.add(Dense(64, input_dim=look_back, activation='relu'))\n",
        "model.add(Dense(32, activation='relu'))\n",
        "model.add(Dense(1, activation='linear'))\n",
        "model.compile(loss='mean_squared_error', optimizer='adam')\n",
        "\n",
        "# Huấn luyện mô hình\n",
        "model.fit(X_train, Y_train, epochs=50, batch_size=16, verbose=1)"
      ],
      "metadata": {
        "colab": {
          "base_uri": "https://localhost:8080/"
        },
        "id": "0sLIK1_vGI73",
        "outputId": "ca4b4931-1ae3-4476-aeac-ebd4f401cdd8"
      },
      "execution_count": 30,
      "outputs": [
        {
          "output_type": "stream",
          "name": "stdout",
          "text": [
            "Epoch 1/50\n",
            "96/96 [==============================] - 1s 2ms/step - loss: 0.0040\n",
            "Epoch 2/50\n",
            "96/96 [==============================] - 0s 2ms/step - loss: 0.0018\n",
            "Epoch 3/50\n",
            "96/96 [==============================] - 0s 2ms/step - loss: 0.0012\n",
            "Epoch 4/50\n",
            "96/96 [==============================] - 0s 2ms/step - loss: 0.0010\n",
            "Epoch 5/50\n",
            "96/96 [==============================] - 0s 2ms/step - loss: 0.0013\n",
            "Epoch 6/50\n",
            "96/96 [==============================] - 0s 2ms/step - loss: 0.0011\n",
            "Epoch 7/50\n",
            "96/96 [==============================] - 0s 2ms/step - loss: 9.4863e-04\n",
            "Epoch 8/50\n",
            "96/96 [==============================] - 0s 2ms/step - loss: 8.9835e-04\n",
            "Epoch 9/50\n",
            "96/96 [==============================] - 0s 2ms/step - loss: 7.6754e-04\n",
            "Epoch 10/50\n",
            "96/96 [==============================] - 0s 2ms/step - loss: 8.5869e-04\n",
            "Epoch 11/50\n",
            "96/96 [==============================] - 0s 2ms/step - loss: 7.3864e-04\n",
            "Epoch 12/50\n",
            "96/96 [==============================] - 0s 2ms/step - loss: 9.3358e-04\n",
            "Epoch 13/50\n",
            "96/96 [==============================] - 0s 2ms/step - loss: 9.2855e-04\n",
            "Epoch 14/50\n",
            "96/96 [==============================] - 0s 2ms/step - loss: 6.8206e-04\n",
            "Epoch 15/50\n",
            "96/96 [==============================] - 0s 2ms/step - loss: 0.0010\n",
            "Epoch 16/50\n",
            "96/96 [==============================] - 0s 3ms/step - loss: 6.2616e-04\n",
            "Epoch 17/50\n",
            "96/96 [==============================] - 0s 3ms/step - loss: 6.7619e-04\n",
            "Epoch 18/50\n",
            "96/96 [==============================] - 0s 3ms/step - loss: 5.6534e-04\n",
            "Epoch 19/50\n",
            "96/96 [==============================] - 0s 2ms/step - loss: 6.3160e-04\n",
            "Epoch 20/50\n",
            "96/96 [==============================] - 0s 3ms/step - loss: 5.5419e-04\n",
            "Epoch 21/50\n",
            "96/96 [==============================] - 0s 3ms/step - loss: 7.3103e-04\n",
            "Epoch 22/50\n",
            "96/96 [==============================] - 0s 3ms/step - loss: 5.9940e-04\n",
            "Epoch 23/50\n",
            "96/96 [==============================] - 0s 3ms/step - loss: 7.4847e-04\n",
            "Epoch 24/50\n",
            "96/96 [==============================] - 0s 3ms/step - loss: 7.0078e-04\n",
            "Epoch 25/50\n",
            "96/96 [==============================] - 0s 3ms/step - loss: 5.6910e-04\n",
            "Epoch 26/50\n",
            "96/96 [==============================] - 0s 3ms/step - loss: 0.0011\n",
            "Epoch 27/50\n",
            "96/96 [==============================] - 0s 3ms/step - loss: 5.6351e-04\n",
            "Epoch 28/50\n",
            "96/96 [==============================] - 0s 3ms/step - loss: 5.6797e-04\n",
            "Epoch 29/50\n",
            "96/96 [==============================] - 0s 3ms/step - loss: 6.3777e-04\n",
            "Epoch 30/50\n",
            "96/96 [==============================] - 0s 3ms/step - loss: 6.6005e-04\n",
            "Epoch 31/50\n",
            "96/96 [==============================] - 0s 3ms/step - loss: 5.4838e-04\n",
            "Epoch 32/50\n",
            "96/96 [==============================] - 0s 3ms/step - loss: 5.9714e-04\n",
            "Epoch 33/50\n",
            "96/96 [==============================] - 0s 3ms/step - loss: 5.3329e-04\n",
            "Epoch 34/50\n",
            "96/96 [==============================] - 0s 2ms/step - loss: 6.4078e-04\n",
            "Epoch 35/50\n",
            "96/96 [==============================] - 0s 2ms/step - loss: 5.5385e-04\n",
            "Epoch 36/50\n",
            "96/96 [==============================] - 0s 2ms/step - loss: 5.1041e-04\n",
            "Epoch 37/50\n",
            "96/96 [==============================] - 0s 2ms/step - loss: 4.6174e-04\n",
            "Epoch 38/50\n",
            "96/96 [==============================] - 0s 2ms/step - loss: 5.1638e-04\n",
            "Epoch 39/50\n",
            "96/96 [==============================] - 0s 2ms/step - loss: 4.6457e-04\n",
            "Epoch 40/50\n",
            "96/96 [==============================] - 0s 2ms/step - loss: 5.1859e-04\n",
            "Epoch 41/50\n",
            "96/96 [==============================] - 0s 2ms/step - loss: 4.7541e-04\n",
            "Epoch 42/50\n",
            "96/96 [==============================] - 0s 2ms/step - loss: 4.6140e-04\n",
            "Epoch 43/50\n",
            "96/96 [==============================] - 0s 2ms/step - loss: 4.1970e-04\n",
            "Epoch 44/50\n",
            "96/96 [==============================] - 0s 2ms/step - loss: 7.2952e-04\n",
            "Epoch 45/50\n",
            "96/96 [==============================] - 0s 2ms/step - loss: 4.6262e-04\n",
            "Epoch 46/50\n",
            "96/96 [==============================] - 0s 2ms/step - loss: 8.6057e-04\n",
            "Epoch 47/50\n",
            "96/96 [==============================] - 0s 3ms/step - loss: 6.4898e-04\n",
            "Epoch 48/50\n",
            "96/96 [==============================] - 0s 2ms/step - loss: 4.7338e-04\n",
            "Epoch 49/50\n",
            "96/96 [==============================] - 0s 2ms/step - loss: 4.3197e-04\n",
            "Epoch 50/50\n",
            "96/96 [==============================] - 0s 2ms/step - loss: 6.4720e-04\n"
          ]
        },
        {
          "output_type": "execute_result",
          "data": {
            "text/plain": [
              "<keras.src.callbacks.History at 0x7c4e6b74e590>"
            ]
          },
          "metadata": {},
          "execution_count": 30
        }
      ]
    },
    {
      "cell_type": "code",
      "source": [
        "# Dự đoán trên tập test\n",
        "Y_pred = model.predict(X_test)\n",
        "Y_pred = scaler.inverse_transform(Y_pred.reshape(-1, 1))\n",
        "Y_test = scaler.inverse_transform(Y_test.reshape(-1, 1))"
      ],
      "metadata": {
        "colab": {
          "base_uri": "https://localhost:8080/"
        },
        "id": "IZ1cNePIGZr4",
        "outputId": "0ab8d17b-ba66-46ac-9065-99665d6b858a"
      },
      "execution_count": 31,
      "outputs": [
        {
          "output_type": "stream",
          "name": "stdout",
          "text": [
            "12/12 [==============================] - 0s 2ms/step\n"
          ]
        }
      ]
    },
    {
      "cell_type": "code",
      "source": [
        "# Tính toán các chỉ số RMSE, MAPE, và MASE\n",
        "rmse = np.sqrt(mean_squared_error(Y_test, Y_pred))\n",
        "mape = mean_absolute_percentage_error(Y_test, Y_pred)\n",
        "\n",
        "def mase(y_true, y_pred, y_train):\n",
        "    n = len(y_train)\n",
        "    d = np.mean(np.abs(np.diff(y_train)))\n",
        "    errors = np.abs(y_true - y_pred)\n",
        "    return np.mean(errors) / d\n",
        "\n",
        "mase_score = mase(Y_test, Y_pred, Y_train)\n",
        "\n",
        "print(f'RMSE: {rmse}')\n",
        "print(f'MAPE: {mape}')\n",
        "print(f'MASE: {mase_score}')\n"
      ],
      "metadata": {
        "colab": {
          "base_uri": "https://localhost:8080/"
        },
        "id": "00TO7ojhGZt3",
        "outputId": "64247898-acc3-4033-c784-a861f99ca70c"
      },
      "execution_count": 32,
      "outputs": [
        {
          "output_type": "stream",
          "name": "stdout",
          "text": [
            "RMSE: 2055.3263435442846\n",
            "MAPE: 0.031065003928353877\n",
            "MASE: 158636.23436831933\n"
          ]
        }
      ]
    },
    {
      "cell_type": "code",
      "source": [
        "def predict_future(model, data, look_back, days):\n",
        "    future_data = data[-look_back:].reshape(1, -1)\n",
        "    predictions = []\n",
        "    for _ in range(days):\n",
        "        prediction = model.predict(future_data)\n",
        "        predictions.append(prediction[0][0])\n",
        "        future_data = np.append(future_data[:, 1:], prediction, axis=1)\n",
        "    return np.array(predictions).reshape(-1, 1)\n",
        "\n",
        "lst_output_90 = scaler.inverse_transform(predict_future(model, scaled_prices, look_back, 90))\n",
        "lst_output_60 = scaler.inverse_transform(predict_future(model, scaled_prices, look_back, 60))\n",
        "lst_output_30 = scaler.inverse_transform(predict_future(model, scaled_prices, look_back, 30))\n"
      ],
      "metadata": {
        "colab": {
          "base_uri": "https://localhost:8080/"
        },
        "id": "VUayueXBGZwH",
        "outputId": "d09ed645-f1b0-485d-edcf-f373e5bf642d"
      },
      "execution_count": 33,
      "outputs": [
        {
          "output_type": "stream",
          "name": "stdout",
          "text": [
            "1/1 [==============================] - 0s 32ms/step\n",
            "1/1 [==============================] - 0s 29ms/step\n",
            "1/1 [==============================] - 0s 29ms/step\n",
            "1/1 [==============================] - 0s 28ms/step\n",
            "1/1 [==============================] - 0s 29ms/step\n",
            "1/1 [==============================] - 0s 29ms/step\n",
            "1/1 [==============================] - 0s 32ms/step\n",
            "1/1 [==============================] - 0s 32ms/step\n",
            "1/1 [==============================] - 0s 31ms/step\n",
            "1/1 [==============================] - 0s 37ms/step\n",
            "1/1 [==============================] - 0s 29ms/step\n",
            "1/1 [==============================] - 0s 32ms/step\n",
            "1/1 [==============================] - 0s 41ms/step\n",
            "1/1 [==============================] - 0s 29ms/step\n",
            "1/1 [==============================] - 0s 38ms/step\n",
            "1/1 [==============================] - 0s 29ms/step\n",
            "1/1 [==============================] - 0s 29ms/step\n",
            "1/1 [==============================] - 0s 30ms/step\n",
            "1/1 [==============================] - 0s 37ms/step\n",
            "1/1 [==============================] - 0s 31ms/step\n",
            "1/1 [==============================] - 0s 34ms/step\n",
            "1/1 [==============================] - 0s 32ms/step\n",
            "1/1 [==============================] - 0s 35ms/step\n",
            "1/1 [==============================] - 0s 30ms/step\n",
            "1/1 [==============================] - 0s 31ms/step\n",
            "1/1 [==============================] - 0s 38ms/step\n",
            "1/1 [==============================] - 0s 35ms/step\n",
            "1/1 [==============================] - 0s 30ms/step\n",
            "1/1 [==============================] - 0s 33ms/step\n",
            "1/1 [==============================] - 0s 35ms/step\n",
            "1/1 [==============================] - 0s 26ms/step\n",
            "1/1 [==============================] - 0s 20ms/step\n",
            "1/1 [==============================] - 0s 20ms/step\n",
            "1/1 [==============================] - 0s 21ms/step\n",
            "1/1 [==============================] - 0s 26ms/step\n",
            "1/1 [==============================] - 0s 28ms/step\n",
            "1/1 [==============================] - 0s 21ms/step\n",
            "1/1 [==============================] - 0s 26ms/step\n",
            "1/1 [==============================] - 0s 21ms/step\n",
            "1/1 [==============================] - 0s 20ms/step\n",
            "1/1 [==============================] - 0s 21ms/step\n",
            "1/1 [==============================] - 0s 20ms/step\n",
            "1/1 [==============================] - 0s 19ms/step\n",
            "1/1 [==============================] - 0s 20ms/step\n",
            "1/1 [==============================] - 0s 20ms/step\n",
            "1/1 [==============================] - 0s 24ms/step\n",
            "1/1 [==============================] - 0s 19ms/step\n",
            "1/1 [==============================] - 0s 20ms/step\n",
            "1/1 [==============================] - 0s 31ms/step\n",
            "1/1 [==============================] - 0s 20ms/step\n",
            "1/1 [==============================] - 0s 24ms/step\n",
            "1/1 [==============================] - 0s 23ms/step\n",
            "1/1 [==============================] - 0s 21ms/step\n",
            "1/1 [==============================] - 0s 20ms/step\n",
            "1/1 [==============================] - 0s 20ms/step\n",
            "1/1 [==============================] - 0s 21ms/step\n",
            "1/1 [==============================] - 0s 20ms/step\n",
            "1/1 [==============================] - 0s 20ms/step\n",
            "1/1 [==============================] - 0s 20ms/step\n",
            "1/1 [==============================] - 0s 20ms/step\n",
            "1/1 [==============================] - 0s 24ms/step\n",
            "1/1 [==============================] - 0s 26ms/step\n",
            "1/1 [==============================] - 0s 23ms/step\n",
            "1/1 [==============================] - 0s 25ms/step\n",
            "1/1 [==============================] - 0s 20ms/step\n",
            "1/1 [==============================] - 0s 22ms/step\n",
            "1/1 [==============================] - 0s 22ms/step\n",
            "1/1 [==============================] - 0s 19ms/step\n",
            "1/1 [==============================] - 0s 21ms/step\n",
            "1/1 [==============================] - 0s 20ms/step\n",
            "1/1 [==============================] - 0s 20ms/step\n",
            "1/1 [==============================] - 0s 20ms/step\n",
            "1/1 [==============================] - 0s 20ms/step\n",
            "1/1 [==============================] - 0s 20ms/step\n",
            "1/1 [==============================] - 0s 30ms/step\n",
            "1/1 [==============================] - 0s 25ms/step\n",
            "1/1 [==============================] - 0s 26ms/step\n",
            "1/1 [==============================] - 0s 20ms/step\n",
            "1/1 [==============================] - 0s 21ms/step\n",
            "1/1 [==============================] - 0s 19ms/step\n",
            "1/1 [==============================] - 0s 19ms/step\n",
            "1/1 [==============================] - 0s 21ms/step\n",
            "1/1 [==============================] - 0s 21ms/step\n",
            "1/1 [==============================] - 0s 21ms/step\n",
            "1/1 [==============================] - 0s 20ms/step\n",
            "1/1 [==============================] - 0s 20ms/step\n",
            "1/1 [==============================] - 0s 26ms/step\n",
            "1/1 [==============================] - 0s 20ms/step\n",
            "1/1 [==============================] - 0s 25ms/step\n",
            "1/1 [==============================] - 0s 20ms/step\n",
            "1/1 [==============================] - 0s 21ms/step\n",
            "1/1 [==============================] - 0s 22ms/step\n",
            "1/1 [==============================] - 0s 21ms/step\n",
            "1/1 [==============================] - 0s 24ms/step\n",
            "1/1 [==============================] - 0s 21ms/step\n",
            "1/1 [==============================] - 0s 20ms/step\n",
            "1/1 [==============================] - 0s 22ms/step\n",
            "1/1 [==============================] - 0s 21ms/step\n",
            "1/1 [==============================] - 0s 20ms/step\n",
            "1/1 [==============================] - 0s 20ms/step\n",
            "1/1 [==============================] - 0s 19ms/step\n",
            "1/1 [==============================] - 0s 26ms/step\n",
            "1/1 [==============================] - 0s 19ms/step\n",
            "1/1 [==============================] - 0s 20ms/step\n",
            "1/1 [==============================] - 0s 19ms/step\n",
            "1/1 [==============================] - 0s 20ms/step\n",
            "1/1 [==============================] - 0s 21ms/step\n",
            "1/1 [==============================] - 0s 22ms/step\n",
            "1/1 [==============================] - 0s 20ms/step\n",
            "1/1 [==============================] - 0s 20ms/step\n",
            "1/1 [==============================] - 0s 20ms/step\n",
            "1/1 [==============================] - 0s 20ms/step\n",
            "1/1 [==============================] - 0s 21ms/step\n",
            "1/1 [==============================] - 0s 34ms/step\n",
            "1/1 [==============================] - 0s 27ms/step\n",
            "1/1 [==============================] - 0s 21ms/step\n",
            "1/1 [==============================] - 0s 22ms/step\n",
            "1/1 [==============================] - 0s 22ms/step\n",
            "1/1 [==============================] - 0s 20ms/step\n",
            "1/1 [==============================] - 0s 20ms/step\n",
            "1/1 [==============================] - 0s 20ms/step\n",
            "1/1 [==============================] - 0s 20ms/step\n",
            "1/1 [==============================] - 0s 20ms/step\n",
            "1/1 [==============================] - 0s 20ms/step\n",
            "1/1 [==============================] - 0s 21ms/step\n",
            "1/1 [==============================] - 0s 20ms/step\n",
            "1/1 [==============================] - 0s 28ms/step\n",
            "1/1 [==============================] - 0s 20ms/step\n",
            "1/1 [==============================] - 0s 20ms/step\n",
            "1/1 [==============================] - 0s 20ms/step\n",
            "1/1 [==============================] - 0s 20ms/step\n",
            "1/1 [==============================] - 0s 19ms/step\n",
            "1/1 [==============================] - 0s 20ms/step\n",
            "1/1 [==============================] - 0s 21ms/step\n",
            "1/1 [==============================] - 0s 25ms/step\n",
            "1/1 [==============================] - 0s 21ms/step\n",
            "1/1 [==============================] - 0s 21ms/step\n",
            "1/1 [==============================] - 0s 20ms/step\n",
            "1/1 [==============================] - 0s 25ms/step\n",
            "1/1 [==============================] - 0s 32ms/step\n",
            "1/1 [==============================] - 0s 22ms/step\n",
            "1/1 [==============================] - 0s 21ms/step\n",
            "1/1 [==============================] - 0s 19ms/step\n",
            "1/1 [==============================] - 0s 19ms/step\n",
            "1/1 [==============================] - 0s 20ms/step\n",
            "1/1 [==============================] - 0s 20ms/step\n",
            "1/1 [==============================] - 0s 19ms/step\n",
            "1/1 [==============================] - 0s 23ms/step\n",
            "1/1 [==============================] - 0s 20ms/step\n",
            "1/1 [==============================] - 0s 20ms/step\n",
            "1/1 [==============================] - 0s 20ms/step\n",
            "1/1 [==============================] - 0s 27ms/step\n",
            "1/1 [==============================] - 0s 27ms/step\n",
            "1/1 [==============================] - 0s 20ms/step\n",
            "1/1 [==============================] - 0s 20ms/step\n",
            "1/1 [==============================] - 0s 23ms/step\n",
            "1/1 [==============================] - 0s 20ms/step\n",
            "1/1 [==============================] - 0s 32ms/step\n",
            "1/1 [==============================] - 0s 35ms/step\n",
            "1/1 [==============================] - 0s 36ms/step\n",
            "1/1 [==============================] - 0s 42ms/step\n",
            "1/1 [==============================] - 0s 29ms/step\n",
            "1/1 [==============================] - 0s 32ms/step\n",
            "1/1 [==============================] - 0s 32ms/step\n",
            "1/1 [==============================] - 0s 30ms/step\n",
            "1/1 [==============================] - 0s 29ms/step\n",
            "1/1 [==============================] - 0s 30ms/step\n",
            "1/1 [==============================] - 0s 32ms/step\n",
            "1/1 [==============================] - 0s 36ms/step\n",
            "1/1 [==============================] - 0s 32ms/step\n",
            "1/1 [==============================] - 0s 36ms/step\n",
            "1/1 [==============================] - 0s 34ms/step\n",
            "1/1 [==============================] - 0s 31ms/step\n",
            "1/1 [==============================] - 0s 31ms/step\n",
            "1/1 [==============================] - 0s 28ms/step\n",
            "1/1 [==============================] - 0s 29ms/step\n",
            "1/1 [==============================] - 0s 29ms/step\n",
            "1/1 [==============================] - 0s 28ms/step\n",
            "1/1 [==============================] - 0s 29ms/step\n",
            "1/1 [==============================] - 0s 32ms/step\n"
          ]
        }
      ]
    },
    {
      "cell_type": "code",
      "source": [
        "import matplotlib.dates as mdates\n",
        "import matplotlib.pyplot as plt\n",
        "\n",
        "# Generate future dates for predictions\n",
        "last_date = data.index[-1]\n",
        "predict_data_index_90 = pd.date_range(start=last_date + pd.Timedelta(days=1), periods=90, freq='D')\n",
        "predict_data_index_60 = pd.date_range(start=last_date + pd.Timedelta(days=1), periods=60, freq='D')\n",
        "predict_data_index_30 = pd.date_range(start=last_date + pd.Timedelta(days=1), periods=30, freq='D')\n",
        "\n",
        "# Plot the data\n",
        "plt.figure(figsize=(6, 5))\n",
        "\n",
        "# Plot actual prices\n",
        "plt.plot(data.index, scaler.inverse_transform(scaled_prices), label='Actual')\n",
        "\n",
        "# Plot predictions\n",
        "plt.plot(predict_data_index_90, lst_output_90, label='Predict 90 days', linestyle='--')\n",
        "plt.plot(predict_data_index_60, lst_output_60, label='Predict 60 days', linestyle='--')\n",
        "plt.plot(predict_data_index_30, lst_output_30, label='Predict 30 days', linestyle='--')\n",
        "\n",
        "# Set x-axis formatting and rotation\n",
        "plt.gca().xaxis.set_major_formatter(mdates.DateFormatter(\"%Y-%m\"))\n",
        "plt.xticks(rotation=45)\n",
        "\n",
        "plt.xlabel('Date')\n",
        "plt.ylabel('Price')\n",
        "plt.title('Cryptocurrency Price Prediction')\n",
        "plt.legend()\n",
        "plt.tight_layout()\n",
        "plt.show()\n"
      ],
      "metadata": {
        "colab": {
          "base_uri": "https://localhost:8080/",
          "height": 507
        },
        "id": "bo8QrHr5GkCT",
        "outputId": "66c5e51d-12bc-4126-ed90-048b2dc01af5"
      },
      "execution_count": 34,
      "outputs": [
        {
          "output_type": "display_data",
          "data": {
            "text/plain": [
              "<Figure size 600x500 with 1 Axes>"
            ],
            "image/png": "[encoded data removed]"
          },
          "metadata": {}
        }
      ]
    },
    {
      "cell_type": "markdown",
      "source": [
        "ETH"
      ],
      "metadata": {
        "id": "Jq5FX_b6GJKJ"
      }
    },
    {
      "cell_type": "code",
      "source": [
        "# Import necessary libraries\n",
        "from google.colab import drive\n",
        "drive.mount('/content/drive')\n",
        "import pandas as pd\n",
        "import numpy as np\n",
        "from sklearn.preprocessing import MinMaxScaler\n",
        "from sklearn.model_selection import train_test_split\n",
        "from sklearn.metrics import mean_squared_error, mean_absolute_percentage_error\n",
        "from keras.models import Sequential\n",
        "from keras.layers import Dense"
      ],
      "metadata": {
        "colab": {
          "base_uri": "https://localhost:8080/"
        },
        "id": "eijUXJVaIsKy",
        "outputId": "be93819d-7c51-4c74-9d2b-3359d1f796d9"
      },
      "execution_count": 35,
      "outputs": [
        {
          "output_type": "stream",
          "name": "stdout",
          "text": [
            "Drive already mounted at /content/drive; to attempt to forcibly remount, call drive.mount(\"/content/drive\", force_remount=True).\n"
          ]
        }
      ]
    },
    {
      "cell_type": "code",
      "source": [
        "# Load data\n",
        "data = pd.read_csv('/content/drive/MyDrive/DataBA/ETH.csv')  # Thay thế đường dẫn này bằng đường dẫn của bạn\n",
        "data['Date'] = pd.to_datetime(data['Date'])\n",
        "data.set_index('Date', inplace=True)"
      ],
      "metadata": {
        "id": "Is5WzuotIsSJ"
      },
      "execution_count": 36,
      "outputs": []
    },
    {
      "cell_type": "code",
      "source": [
        "# Sử dụng giá đóng cửa\n",
        "prices = data['Close'].values.reshape(-1, 1)\n",
        "\n",
        "# Chuẩn hóa dữ liệu\n",
        "scaler = MinMaxScaler(feature_range=(0, 1))\n",
        "scaled_prices = scaler.fit_transform(prices)"
      ],
      "metadata": {
        "id": "kBFThua6IsUY"
      },
      "execution_count": 37,
      "outputs": []
    },
    {
      "cell_type": "code",
      "source": [
        "# Tạo tập dữ liệu với look_back\n",
        "def create_dataset(data, look_back=1):\n",
        "    X, Y = [], []\n",
        "    for i in range(len(data) - look_back - 1):\n",
        "        X.append(data[i:(i + look_back), 0])\n",
        "        Y.append(data[i + look_back, 0])\n",
        "    return np.array(X), np.array(Y)\n",
        "\n",
        "look_back = 90  # Chúng ta sẽ sử dụng look_back là 90 cho các mô hình 90, 60, và 30 ngày\n",
        "X, Y = create_dataset(scaled_prices, look_back)"
      ],
      "metadata": {
        "id": "ej08S9-QIsWY"
      },
      "execution_count": 38,
      "outputs": []
    },
    {
      "cell_type": "code",
      "source": [
        "# Chia tập dữ liệu thành train và test\n",
        "train_size = int(len(X) * 0.8)\n",
        "test_size = len(X) - train_size\n",
        "X_train, X_test = X[:train_size], X[train_size:]\n",
        "Y_train, Y_test = Y[:train_size], Y[train_size:]"
      ],
      "metadata": {
        "id": "XTDqM1hNIsYY"
      },
      "execution_count": 39,
      "outputs": []
    },
    {
      "cell_type": "code",
      "source": [
        "# Tạo và huấn luyện mô hình MLP\n",
        "# Tạo mô hình MLP\n",
        "model = Sequential()\n",
        "model.add(Dense(64, input_dim=look_back, activation='relu'))\n",
        "model.add(Dense(32, activation='relu'))\n",
        "model.add(Dense(1, activation='linear'))\n",
        "model.compile(loss='mean_squared_error', optimizer='adam')\n",
        "\n",
        "# Huấn luyện mô hình\n",
        "model.fit(X_train, Y_train, epochs=50, batch_size=16, verbose=1)"
      ],
      "metadata": {
        "colab": {
          "base_uri": "https://localhost:8080/"
        },
        "id": "lHl8T6p9IsaI",
        "outputId": "ab3370a0-e46f-41ba-d69c-8a86389a1161"
      },
      "execution_count": 40,
      "outputs": [
        {
          "output_type": "stream",
          "name": "stdout",
          "text": [
            "Epoch 1/50\n",
            "96/96 [==============================] - 1s 2ms/step - loss: 0.0030\n",
            "Epoch 2/50\n",
            "96/96 [==============================] - 0s 2ms/step - loss: 0.0018\n",
            "Epoch 3/50\n",
            "96/96 [==============================] - 0s 2ms/step - loss: 0.0012\n",
            "Epoch 4/50\n",
            "96/96 [==============================] - 0s 2ms/step - loss: 8.2933e-04\n",
            "Epoch 5/50\n",
            "96/96 [==============================] - 0s 2ms/step - loss: 0.0010\n",
            "Epoch 6/50\n",
            "96/96 [==============================] - 0s 2ms/step - loss: 7.8033e-04\n",
            "Epoch 7/50\n",
            "96/96 [==============================] - 0s 2ms/step - loss: 7.2454e-04\n",
            "Epoch 8/50\n",
            "96/96 [==============================] - 0s 3ms/step - loss: 5.2799e-04\n",
            "Epoch 9/50\n",
            "96/96 [==============================] - 0s 3ms/step - loss: 5.3741e-04\n",
            "Epoch 10/50\n",
            "96/96 [==============================] - 0s 3ms/step - loss: 4.8130e-04\n",
            "Epoch 11/50\n",
            "96/96 [==============================] - 0s 3ms/step - loss: 4.8994e-04\n",
            "Epoch 12/50\n",
            "96/96 [==============================] - 0s 3ms/step - loss: 6.0333e-04\n",
            "Epoch 13/50\n",
            "96/96 [==============================] - 0s 3ms/step - loss: 4.7444e-04\n",
            "Epoch 14/50\n",
            "96/96 [==============================] - 0s 3ms/step - loss: 4.0729e-04\n",
            "Epoch 15/50\n",
            "96/96 [==============================] - 0s 3ms/step - loss: 3.7797e-04\n",
            "Epoch 16/50\n",
            "96/96 [==============================] - 0s 3ms/step - loss: 4.1571e-04\n",
            "Epoch 17/50\n",
            "96/96 [==============================] - 0s 2ms/step - loss: 4.0022e-04\n",
            "Epoch 18/50\n",
            "96/96 [==============================] - 0s 2ms/step - loss: 3.8339e-04\n",
            "Epoch 19/50\n",
            "96/96 [==============================] - 0s 2ms/step - loss: 3.7360e-04\n",
            "Epoch 20/50\n",
            "96/96 [==============================] - 0s 3ms/step - loss: 2.9959e-04\n",
            "Epoch 21/50\n",
            "96/96 [==============================] - 0s 3ms/step - loss: 3.5743e-04\n",
            "Epoch 22/50\n",
            "96/96 [==============================] - 0s 3ms/step - loss: 3.5204e-04\n",
            "Epoch 23/50\n",
            "96/96 [==============================] - 0s 3ms/step - loss: 3.1662e-04\n",
            "Epoch 24/50\n",
            "96/96 [==============================] - 0s 3ms/step - loss: 3.1274e-04\n",
            "Epoch 25/50\n",
            "96/96 [==============================] - 0s 3ms/step - loss: 3.1854e-04\n",
            "Epoch 26/50\n",
            "96/96 [==============================] - 0s 2ms/step - loss: 3.0173e-04\n",
            "Epoch 27/50\n",
            "96/96 [==============================] - 0s 3ms/step - loss: 2.9327e-04\n",
            "Epoch 28/50\n",
            "96/96 [==============================] - 0s 2ms/step - loss: 4.5439e-04\n",
            "Epoch 29/50\n",
            "96/96 [==============================] - 0s 2ms/step - loss: 3.7610e-04\n",
            "Epoch 30/50\n",
            "96/96 [==============================] - 0s 2ms/step - loss: 2.7289e-04\n",
            "Epoch 31/50\n",
            "96/96 [==============================] - 0s 2ms/step - loss: 3.2436e-04\n",
            "Epoch 32/50\n",
            "96/96 [==============================] - 0s 2ms/step - loss: 3.0107e-04\n",
            "Epoch 33/50\n",
            "96/96 [==============================] - 0s 2ms/step - loss: 2.9858e-04\n",
            "Epoch 34/50\n",
            "96/96 [==============================] - 0s 2ms/step - loss: 3.1797e-04\n",
            "Epoch 35/50\n",
            "96/96 [==============================] - 0s 2ms/step - loss: 3.4522e-04\n",
            "Epoch 36/50\n",
            "96/96 [==============================] - 0s 2ms/step - loss: 2.6335e-04\n",
            "Epoch 37/50\n",
            "96/96 [==============================] - 0s 2ms/step - loss: 2.4892e-04\n",
            "Epoch 38/50\n",
            "96/96 [==============================] - 0s 2ms/step - loss: 2.7385e-04\n",
            "Epoch 39/50\n",
            "96/96 [==============================] - 0s 2ms/step - loss: 2.9915e-04\n",
            "Epoch 40/50\n",
            "96/96 [==============================] - 0s 2ms/step - loss: 5.5865e-04\n",
            "Epoch 41/50\n",
            "96/96 [==============================] - 0s 2ms/step - loss: 2.6260e-04\n",
            "Epoch 42/50\n",
            "96/96 [==============================] - 0s 2ms/step - loss: 2.5844e-04\n",
            "Epoch 43/50\n",
            "96/96 [==============================] - 0s 2ms/step - loss: 2.5719e-04\n",
            "Epoch 44/50\n",
            "96/96 [==============================] - 0s 2ms/step - loss: 2.1528e-04\n",
            "Epoch 45/50\n",
            "96/96 [==============================] - 0s 2ms/step - loss: 2.3366e-04\n",
            "Epoch 46/50\n",
            "96/96 [==============================] - 0s 2ms/step - loss: 2.1781e-04\n",
            "Epoch 47/50\n",
            "96/96 [==============================] - 0s 2ms/step - loss: 2.8919e-04\n",
            "Epoch 48/50\n",
            "96/96 [==============================] - 0s 2ms/step - loss: 2.3147e-04\n",
            "Epoch 49/50\n",
            "96/96 [==============================] - 0s 2ms/step - loss: 2.6419e-04\n",
            "Epoch 50/50\n",
            "96/96 [==============================] - 0s 2ms/step - loss: 2.3418e-04\n"
          ]
        },
        {
          "output_type": "execute_result",
          "data": {
            "text/plain": [
              "<keras.src.callbacks.History at 0x7c4e6b4f1f30>"
            ]
          },
          "metadata": {},
          "execution_count": 40
        }
      ]
    },
    {
      "cell_type": "code",
      "source": [
        "# Dự đoán trên tập test\n",
        "Y_pred = model.predict(X_test)\n",
        "Y_pred = scaler.inverse_transform(Y_pred.reshape(-1, 1))\n",
        "Y_test = scaler.inverse_transform(Y_test.reshape(-1, 1))"
      ],
      "metadata": {
        "colab": {
          "base_uri": "https://localhost:8080/"
        },
        "id": "P7EMmd52IscJ",
        "outputId": "4993972c-1312-4204-a819-1363265c9520"
      },
      "execution_count": 41,
      "outputs": [
        {
          "output_type": "stream",
          "name": "stdout",
          "text": [
            "12/12 [==============================] - 0s 2ms/step\n"
          ]
        }
      ]
    },
    {
      "cell_type": "code",
      "source": [
        "# Tính toán các chỉ số RMSE, MAPE, và MASE\n",
        "rmse = np.sqrt(mean_squared_error(Y_test, Y_pred))\n",
        "mape = mean_absolute_percentage_error(Y_test, Y_pred)\n",
        "\n",
        "def mase(y_true, y_pred, y_train):\n",
        "    n = len(y_train)\n",
        "    d = np.mean(np.abs(np.diff(y_train)))\n",
        "    errors = np.abs(y_true - y_pred)\n",
        "    return np.mean(errors) / d\n",
        "\n",
        "mase_score = mase(Y_test, Y_pred, Y_train)\n",
        "\n",
        "print(f'RMSE: {rmse}')\n",
        "print(f'MAPE: {mape}')\n",
        "print(f'MASE: {mase_score}')"
      ],
      "metadata": {
        "colab": {
          "base_uri": "https://localhost:8080/"
        },
        "id": "IPIQ7TTcI7V5",
        "outputId": "342158ea-baba-4c44-f2d9-7b27c5738030"
      },
      "execution_count": 42,
      "outputs": [
        {
          "output_type": "stream",
          "name": "stdout",
          "text": [
            "RMSE: 0.008089630896879712\n",
            "MAPE: 0.046363458674415846\n",
            "MASE: 0.8025735743514064\n"
          ]
        }
      ]
    },
    {
      "cell_type": "code",
      "source": [
        "def predict_future(model, data, look_back, days):\n",
        "    future_data = data[-look_back:].reshape(1, -1)\n",
        "    predictions = []\n",
        "    for _ in range(days):\n",
        "        prediction = model.predict(future_data)\n",
        "        predictions.append(prediction[0][0])\n",
        "        future_data = np.append(future_data[:, 1:], prediction, axis=1)\n",
        "    return np.array(predictions).reshape(-1, 1)\n",
        "\n",
        "lst_output_90 = scaler.inverse_transform(predict_future(model, scaled_prices, look_back, 90))\n",
        "lst_output_60 = scaler.inverse_transform(predict_future(model, scaled_prices, look_back, 60))\n",
        "lst_output_30 = scaler.inverse_transform(predict_future(model, scaled_prices, look_back, 30))\n"
      ],
      "metadata": {
        "colab": {
          "base_uri": "https://localhost:8080/"
        },
        "id": "C_DAbuCMI33W",
        "outputId": "24637545-c99e-4f10-e1c2-cb67aa84acec"
      },
      "execution_count": 43,
      "outputs": [
        {
          "output_type": "stream",
          "name": "stdout",
          "text": [
            "1/1 [==============================] - 0s 22ms/step\n",
            "1/1 [==============================] - 0s 20ms/step\n",
            "1/1 [==============================] - 0s 20ms/step\n",
            "1/1 [==============================] - 0s 25ms/step\n",
            "1/1 [==============================] - 0s 25ms/step\n",
            "1/1 [==============================] - 0s 19ms/step\n",
            "1/1 [==============================] - 0s 21ms/step\n",
            "1/1 [==============================] - 0s 21ms/step\n",
            "1/1 [==============================] - 0s 20ms/step\n",
            "1/1 [==============================] - 0s 20ms/step\n",
            "1/1 [==============================] - 0s 25ms/step\n",
            "1/1 [==============================] - 0s 20ms/step\n",
            "1/1 [==============================] - 0s 19ms/step\n",
            "1/1 [==============================] - 0s 19ms/step\n",
            "1/1 [==============================] - 0s 20ms/step\n",
            "1/1 [==============================] - 0s 26ms/step\n",
            "1/1 [==============================] - 0s 24ms/step\n",
            "1/1 [==============================] - 0s 20ms/step\n",
            "1/1 [==============================] - 0s 20ms/step\n",
            "1/1 [==============================] - 0s 19ms/step\n",
            "1/1 [==============================] - 0s 20ms/step\n",
            "1/1 [==============================] - 0s 20ms/step\n",
            "1/1 [==============================] - 0s 22ms/step\n",
            "1/1 [==============================] - 0s 21ms/step\n",
            "1/1 [==============================] - 0s 21ms/step\n",
            "1/1 [==============================] - 0s 19ms/step\n",
            "1/1 [==============================] - 0s 20ms/step\n",
            "1/1 [==============================] - 0s 20ms/step\n",
            "1/1 [==============================] - 0s 29ms/step\n",
            "1/1 [==============================] - 0s 25ms/step\n",
            "1/1 [==============================] - 0s 28ms/step\n",
            "1/1 [==============================] - 0s 21ms/step\n",
            "1/1 [==============================] - 0s 19ms/step\n",
            "1/1 [==============================] - 0s 21ms/step\n",
            "1/1 [==============================] - 0s 20ms/step\n",
            "1/1 [==============================] - 0s 23ms/step\n",
            "1/1 [==============================] - 0s 20ms/step\n",
            "1/1 [==============================] - 0s 24ms/step\n",
            "1/1 [==============================] - 0s 20ms/step\n",
            "1/1 [==============================] - 0s 21ms/step\n",
            "1/1 [==============================] - 0s 20ms/step\n",
            "1/1 [==============================] - 0s 24ms/step\n",
            "1/1 [==============================] - 0s 19ms/step\n",
            "1/1 [==============================] - 0s 20ms/step\n",
            "1/1 [==============================] - 0s 20ms/step\n",
            "1/1 [==============================] - 0s 21ms/step\n",
            "1/1 [==============================] - 0s 20ms/step\n",
            "1/1 [==============================] - 0s 21ms/step\n",
            "1/1 [==============================] - 0s 20ms/step\n",
            "1/1 [==============================] - 0s 20ms/step\n",
            "1/1 [==============================] - 0s 25ms/step\n",
            "1/1 [==============================] - 0s 23ms/step\n",
            "1/1 [==============================] - 0s 19ms/step\n",
            "1/1 [==============================] - 0s 21ms/step\n",
            "1/1 [==============================] - 0s 26ms/step\n",
            "1/1 [==============================] - 0s 23ms/step\n",
            "1/1 [==============================] - 0s 19ms/step\n",
            "1/1 [==============================] - 0s 20ms/step\n",
            "1/1 [==============================] - 0s 19ms/step\n",
            "1/1 [==============================] - 0s 20ms/step\n",
            "1/1 [==============================] - 0s 21ms/step\n",
            "1/1 [==============================] - 0s 20ms/step\n",
            "1/1 [==============================] - 0s 20ms/step\n",
            "1/1 [==============================] - 0s 20ms/step\n",
            "1/1 [==============================] - 0s 20ms/step\n",
            "1/1 [==============================] - 0s 21ms/step\n",
            "1/1 [==============================] - 0s 19ms/step\n",
            "1/1 [==============================] - 0s 25ms/step\n",
            "1/1 [==============================] - 0s 19ms/step\n",
            "1/1 [==============================] - 0s 19ms/step\n",
            "1/1 [==============================] - 0s 20ms/step\n",
            "1/1 [==============================] - 0s 34ms/step\n",
            "1/1 [==============================] - 0s 34ms/step\n",
            "1/1 [==============================] - 0s 29ms/step\n",
            "1/1 [==============================] - 0s 31ms/step\n",
            "1/1 [==============================] - 0s 42ms/step\n",
            "1/1 [==============================] - 0s 33ms/step\n",
            "1/1 [==============================] - 0s 30ms/step\n",
            "1/1 [==============================] - 0s 28ms/step\n",
            "1/1 [==============================] - 0s 28ms/step\n",
            "1/1 [==============================] - 0s 31ms/step\n",
            "1/1 [==============================] - 0s 29ms/step\n",
            "1/1 [==============================] - 0s 29ms/step\n",
            "1/1 [==============================] - 0s 28ms/step\n",
            "1/1 [==============================] - 0s 35ms/step\n",
            "1/1 [==============================] - 0s 36ms/step\n",
            "1/1 [==============================] - 0s 43ms/step\n",
            "1/1 [==============================] - 0s 31ms/step\n",
            "1/1 [==============================] - 0s 31ms/step\n",
            "1/1 [==============================] - 0s 27ms/step\n",
            "1/1 [==============================] - 0s 37ms/step\n",
            "1/1 [==============================] - 0s 32ms/step\n",
            "1/1 [==============================] - 0s 30ms/step\n",
            "1/1 [==============================] - 0s 28ms/step\n",
            "1/1 [==============================] - 0s 44ms/step\n",
            "1/1 [==============================] - 0s 38ms/step\n",
            "1/1 [==============================] - 0s 34ms/step\n",
            "1/1 [==============================] - 0s 33ms/step\n",
            "1/1 [==============================] - 0s 30ms/step\n",
            "1/1 [==============================] - 0s 34ms/step\n",
            "1/1 [==============================] - 0s 30ms/step\n",
            "1/1 [==============================] - 0s 31ms/step\n",
            "1/1 [==============================] - 0s 37ms/step\n",
            "1/1 [==============================] - 0s 54ms/step\n",
            "1/1 [==============================] - 0s 31ms/step\n",
            "1/1 [==============================] - 0s 32ms/step\n",
            "1/1 [==============================] - 0s 33ms/step\n",
            "1/1 [==============================] - 0s 19ms/step\n",
            "1/1 [==============================] - 0s 20ms/step\n",
            "1/1 [==============================] - 0s 20ms/step\n",
            "1/1 [==============================] - 0s 27ms/step\n",
            "1/1 [==============================] - 0s 20ms/step\n",
            "1/1 [==============================] - 0s 20ms/step\n",
            "1/1 [==============================] - 0s 21ms/step\n",
            "1/1 [==============================] - 0s 20ms/step\n",
            "1/1 [==============================] - 0s 24ms/step\n",
            "1/1 [==============================] - 0s 19ms/step\n",
            "1/1 [==============================] - 0s 20ms/step\n",
            "1/1 [==============================] - 0s 19ms/step\n",
            "1/1 [==============================] - 0s 19ms/step\n",
            "1/1 [==============================] - 0s 19ms/step\n",
            "1/1 [==============================] - 0s 22ms/step\n",
            "1/1 [==============================] - 0s 20ms/step\n",
            "1/1 [==============================] - 0s 20ms/step\n",
            "1/1 [==============================] - 0s 20ms/step\n",
            "1/1 [==============================] - 0s 21ms/step\n",
            "1/1 [==============================] - 0s 20ms/step\n",
            "1/1 [==============================] - 0s 21ms/step\n",
            "1/1 [==============================] - 0s 29ms/step\n",
            "1/1 [==============================] - 0s 21ms/step\n",
            "1/1 [==============================] - 0s 20ms/step\n",
            "1/1 [==============================] - 0s 19ms/step\n",
            "1/1 [==============================] - 0s 19ms/step\n",
            "1/1 [==============================] - 0s 20ms/step\n",
            "1/1 [==============================] - 0s 20ms/step\n",
            "1/1 [==============================] - 0s 20ms/step\n",
            "1/1 [==============================] - 0s 20ms/step\n",
            "1/1 [==============================] - 0s 20ms/step\n",
            "1/1 [==============================] - 0s 21ms/step\n",
            "1/1 [==============================] - 0s 22ms/step\n",
            "1/1 [==============================] - 0s 24ms/step\n",
            "1/1 [==============================] - 0s 36ms/step\n",
            "1/1 [==============================] - 0s 19ms/step\n",
            "1/1 [==============================] - 0s 22ms/step\n",
            "1/1 [==============================] - 0s 20ms/step\n",
            "1/1 [==============================] - 0s 20ms/step\n",
            "1/1 [==============================] - 0s 21ms/step\n",
            "1/1 [==============================] - 0s 20ms/step\n",
            "1/1 [==============================] - 0s 19ms/step\n",
            "1/1 [==============================] - 0s 21ms/step\n",
            "1/1 [==============================] - 0s 19ms/step\n",
            "1/1 [==============================] - 0s 21ms/step\n",
            "1/1 [==============================] - 0s 19ms/step\n",
            "1/1 [==============================] - 0s 24ms/step\n",
            "1/1 [==============================] - 0s 24ms/step\n",
            "1/1 [==============================] - 0s 19ms/step\n",
            "1/1 [==============================] - 0s 22ms/step\n",
            "1/1 [==============================] - 0s 23ms/step\n",
            "1/1 [==============================] - 0s 20ms/step\n",
            "1/1 [==============================] - 0s 20ms/step\n",
            "1/1 [==============================] - 0s 20ms/step\n",
            "1/1 [==============================] - 0s 19ms/step\n",
            "1/1 [==============================] - 0s 20ms/step\n",
            "1/1 [==============================] - 0s 20ms/step\n",
            "1/1 [==============================] - 0s 20ms/step\n",
            "1/1 [==============================] - 0s 19ms/step\n",
            "1/1 [==============================] - 0s 25ms/step\n",
            "1/1 [==============================] - 0s 24ms/step\n",
            "1/1 [==============================] - 0s 19ms/step\n",
            "1/1 [==============================] - 0s 20ms/step\n",
            "1/1 [==============================] - 0s 19ms/step\n",
            "1/1 [==============================] - 0s 19ms/step\n",
            "1/1 [==============================] - 0s 21ms/step\n",
            "1/1 [==============================] - 0s 20ms/step\n",
            "1/1 [==============================] - 0s 19ms/step\n",
            "1/1 [==============================] - 0s 20ms/step\n",
            "1/1 [==============================] - 0s 20ms/step\n",
            "1/1 [==============================] - 0s 21ms/step\n",
            "1/1 [==============================] - 0s 20ms/step\n",
            "1/1 [==============================] - 0s 26ms/step\n"
          ]
        }
      ]
    },
    {
      "cell_type": "code",
      "source": [
        "import matplotlib.dates as mdates\n",
        "import matplotlib.pyplot as plt\n",
        "\n",
        "# Generate future dates for predictions\n",
        "last_date = data.index[-1]\n",
        "predict_data_index_90 = pd.date_range(start=last_date + pd.Timedelta(days=1), periods=90, freq='D')\n",
        "predict_data_index_60 = pd.date_range(start=last_date + pd.Timedelta(days=1), periods=60, freq='D')\n",
        "predict_data_index_30 = pd.date_range(start=last_date + pd.Timedelta(days=1), periods=30, freq='D')\n",
        "\n",
        "# Plot the data\n",
        "plt.figure(figsize=(6, 5))\n",
        "\n",
        "# Plot actual prices\n",
        "plt.plot(data.index, scaler.inverse_transform(scaled_prices), label='Actual')\n",
        "\n",
        "# Plot predictions\n",
        "plt.plot(predict_data_index_90, lst_output_90, label='Predict 90 days', linestyle='--')\n",
        "plt.plot(predict_data_index_60, lst_output_60, label='Predict 60 days', linestyle='--')\n",
        "plt.plot(predict_data_index_30, lst_output_30, label='Predict 30 days', linestyle='--')\n",
        "\n",
        "# Set x-axis formatting and rotation\n",
        "plt.gca().xaxis.set_major_formatter(mdates.DateFormatter(\"%Y-%m\"))\n",
        "plt.xticks(rotation=45)\n",
        "\n",
        "plt.xlabel('Date')\n",
        "plt.ylabel('Price')\n",
        "plt.title('Cryptocurrency Price Prediction')\n",
        "plt.legend()\n",
        "plt.tight_layout()\n",
        "plt.show()\n"
      ],
      "metadata": {
        "colab": {
          "base_uri": "https://localhost:8080/",
          "height": 507
        },
        "id": "0_20RoyJI372",
        "outputId": "abef1796-00dc-47ec-ea03-b7a86c46a139"
      },
      "execution_count": 46,
      "outputs": [
        {
          "output_type": "display_data",
          "data": {
            "text/plain": [
              "<Figure size 600x500 with 1 Axes>"
            ],
            "image/png": "[encoded data removed]"
          },
          "metadata": {}
        }
      ]
    }
  ]
}