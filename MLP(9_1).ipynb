{
  "nbformat": 4,
  "nbformat_minor": 0,
  "metadata": {
    "colab": {
      "provenance": []
    },
    "kernelspec": {
      "name": "python3",
      "display_name": "Python 3"
    },
    "language_info": {
      "name": "python"
    }
  },
  "cells": [
    {
      "cell_type": "markdown",
      "source": [
        "DOGE"
      ],
      "metadata": {
        "id": "zwy1GAibF8H4"
      }
    },
    {
      "cell_type": "code",
      "execution_count": 77,
      "metadata": {
        "colab": {
          "base_uri": "https://localhost:8080/"
        },
        "id": "b_yNNHYnQ31O",
        "outputId": "060d913b-4134-4aa2-f879-947490f57c7e"
      },
      "outputs": [
        {
          "output_type": "stream",
          "name": "stdout",
          "text": [
            "Drive already mounted at /content/drive; to attempt to forcibly remount, call drive.mount(\"/content/drive\", force_remount=True).\n"
          ]
        }
      ],
      "source": [
        "# Import necessary libraries\n",
        "from google.colab import drive\n",
        "drive.mount('/content/drive')\n",
        "import pandas as pd\n",
        "import numpy as np\n",
        "from sklearn.preprocessing import MinMaxScaler\n",
        "from sklearn.model_selection import train_test_split\n",
        "from sklearn.metrics import mean_squared_error, mean_absolute_percentage_error\n",
        "from keras.models import Sequential\n",
        "from keras.layers import Dense\n"
      ]
    },
    {
      "cell_type": "code",
      "source": [
        "# Load data\n",
        "data = pd.read_csv('/content/drive/MyDrive/DataBA/DOGE.csv')  # Thay thế đường dẫn này bằng đường dẫn của bạn\n",
        "data['Date'] = pd.to_datetime(data['Date'])\n",
        "data.set_index('Date', inplace=True)"
      ],
      "metadata": {
        "id": "VmBVHwMwRu8y"
      },
      "execution_count": 78,
      "outputs": []
    },
    {
      "cell_type": "code",
      "source": [
        "# Sử dụng giá đóng cửa\n",
        "prices = data['Close'].values.reshape(-1, 1)\n",
        "\n",
        "# Chuẩn hóa dữ liệu\n",
        "scaler = MinMaxScaler(feature_range=(0, 1))\n",
        "scaled_prices = scaler.fit_transform(prices)"
      ],
      "metadata": {
        "id": "KDi_M3-M_CmU"
      },
      "execution_count": 79,
      "outputs": []
    },
    {
      "cell_type": "code",
      "source": [
        "# Tạo tập dữ liệu với look_back\n",
        "def create_dataset(data, look_back=1):\n",
        "    X, Y = [], []\n",
        "    for i in range(len(data) - look_back - 1):\n",
        "        X.append(data[i:(i + look_back), 0])\n",
        "        Y.append(data[i + look_back, 0])\n",
        "    return np.array(X), np.array(Y)\n",
        "\n",
        "look_back = 90  # Chúng ta sẽ sử dụng look_back là 90 cho các mô hình 90, 60, và 30 ngày\n",
        "X, Y = create_dataset(scaled_prices, look_back)"
      ],
      "metadata": {
        "id": "0H6aZ7ksZMfJ"
      },
      "execution_count": 80,
      "outputs": []
    },
    {
      "cell_type": "code",
      "source": [
        "# Chia tập dữ liệu thành train và test\n",
        "train_size = int(len(X) * 0.9)\n",
        "test_size = len(X) - train_size\n",
        "X_train, X_test = X[:train_size], X[train_size:]\n",
        "Y_train, Y_test = Y[:train_size], Y[train_size:]"
      ],
      "metadata": {
        "id": "oRzXCs3TZeLW"
      },
      "execution_count": 81,
      "outputs": []
    },
    {
      "cell_type": "code",
      "source": [
        "\n",
        "# Tạo và huấn luyện mô hình MLP\n",
        "# Tạo mô hình MLP\n",
        "model = Sequential()\n",
        "model.add(Dense(64, input_dim=look_back, activation='relu'))\n",
        "model.add(Dense(32, activation='relu'))\n",
        "model.add(Dense(1, activation='linear'))\n",
        "model.compile(loss='mean_squared_error', optimizer='adam')\n",
        "\n",
        "# Huấn luyện mô hình\n",
        "model.fit(X_train, Y_train, epochs=50, batch_size=16, verbose=1)"
      ],
      "metadata": {
        "colab": {
          "base_uri": "https://localhost:8080/"
        },
        "id": "MKBvp7ntZeTL",
        "outputId": "df29ece0-8a50-4f2b-82e4-9f366e060104"
      },
      "execution_count": 82,
      "outputs": [
        {
          "output_type": "stream",
          "name": "stdout",
          "text": [
            "Epoch 1/50\n",
            "107/107 [==============================] - 1s 2ms/step - loss: 0.0149\n",
            "Epoch 2/50\n",
            "107/107 [==============================] - 0s 2ms/step - loss: 0.0022\n",
            "Epoch 3/50\n",
            "107/107 [==============================] - 0s 2ms/step - loss: 0.0018\n",
            "Epoch 4/50\n",
            "107/107 [==============================] - 0s 2ms/step - loss: 0.0011\n",
            "Epoch 5/50\n",
            "107/107 [==============================] - 0s 2ms/step - loss: 0.0010\n",
            "Epoch 6/50\n",
            "107/107 [==============================] - 0s 2ms/step - loss: 0.0011\n",
            "Epoch 7/50\n",
            "107/107 [==============================] - 0s 2ms/step - loss: 0.0013\n",
            "Epoch 8/50\n",
            "107/107 [==============================] - 0s 2ms/step - loss: 0.0018\n",
            "Epoch 9/50\n",
            "107/107 [==============================] - 0s 2ms/step - loss: 0.0011\n",
            "Epoch 10/50\n",
            "107/107 [==============================] - 0s 2ms/step - loss: 8.6272e-04\n",
            "Epoch 11/50\n",
            "107/107 [==============================] - 0s 2ms/step - loss: 8.4642e-04\n",
            "Epoch 12/50\n",
            "107/107 [==============================] - 0s 2ms/step - loss: 0.0014\n",
            "Epoch 13/50\n",
            "107/107 [==============================] - 0s 2ms/step - loss: 0.0010\n",
            "Epoch 14/50\n",
            "107/107 [==============================] - 0s 2ms/step - loss: 7.9451e-04\n",
            "Epoch 15/50\n",
            "107/107 [==============================] - 0s 2ms/step - loss: 6.8853e-04\n",
            "Epoch 16/50\n",
            "107/107 [==============================] - 0s 2ms/step - loss: 7.4005e-04\n",
            "Epoch 17/50\n",
            "107/107 [==============================] - 0s 2ms/step - loss: 8.5896e-04\n",
            "Epoch 18/50\n",
            "107/107 [==============================] - 0s 2ms/step - loss: 7.1747e-04\n",
            "Epoch 19/50\n",
            "107/107 [==============================] - 0s 2ms/step - loss: 7.3006e-04\n",
            "Epoch 20/50\n",
            "107/107 [==============================] - 0s 2ms/step - loss: 9.4190e-04\n",
            "Epoch 21/50\n",
            "107/107 [==============================] - 0s 2ms/step - loss: 7.9428e-04\n",
            "Epoch 22/50\n",
            "107/107 [==============================] - 0s 2ms/step - loss: 6.6359e-04\n",
            "Epoch 23/50\n",
            "107/107 [==============================] - 0s 2ms/step - loss: 7.6103e-04\n",
            "Epoch 24/50\n",
            "107/107 [==============================] - 0s 2ms/step - loss: 7.2223e-04\n",
            "Epoch 25/50\n",
            "107/107 [==============================] - 0s 2ms/step - loss: 6.8287e-04\n",
            "Epoch 26/50\n",
            "107/107 [==============================] - 0s 2ms/step - loss: 6.2657e-04\n",
            "Epoch 27/50\n",
            "107/107 [==============================] - 0s 3ms/step - loss: 7.1452e-04\n",
            "Epoch 28/50\n",
            "107/107 [==============================] - 0s 3ms/step - loss: 8.0520e-04\n",
            "Epoch 29/50\n",
            "107/107 [==============================] - 0s 3ms/step - loss: 6.8510e-04\n",
            "Epoch 30/50\n",
            "107/107 [==============================] - 0s 3ms/step - loss: 6.2313e-04\n",
            "Epoch 31/50\n",
            "107/107 [==============================] - 0s 3ms/step - loss: 6.3913e-04\n",
            "Epoch 32/50\n",
            "107/107 [==============================] - 0s 3ms/step - loss: 5.9089e-04\n",
            "Epoch 33/50\n",
            "107/107 [==============================] - 0s 3ms/step - loss: 5.1364e-04\n",
            "Epoch 34/50\n",
            "107/107 [==============================] - 0s 3ms/step - loss: 5.4797e-04\n",
            "Epoch 35/50\n",
            "107/107 [==============================] - 0s 3ms/step - loss: 5.5223e-04\n",
            "Epoch 36/50\n",
            "107/107 [==============================] - 0s 3ms/step - loss: 5.5269e-04\n",
            "Epoch 37/50\n",
            "107/107 [==============================] - 0s 3ms/step - loss: 6.1964e-04\n",
            "Epoch 38/50\n",
            "107/107 [==============================] - 0s 3ms/step - loss: 4.8242e-04\n",
            "Epoch 39/50\n",
            "107/107 [==============================] - 0s 3ms/step - loss: 5.9224e-04\n",
            "Epoch 40/50\n",
            "107/107 [==============================] - 0s 3ms/step - loss: 5.5946e-04\n",
            "Epoch 41/50\n",
            "107/107 [==============================] - 0s 3ms/step - loss: 5.4246e-04\n",
            "Epoch 42/50\n",
            "107/107 [==============================] - 0s 3ms/step - loss: 7.1406e-04\n",
            "Epoch 43/50\n",
            "107/107 [==============================] - 0s 3ms/step - loss: 5.9667e-04\n",
            "Epoch 44/50\n",
            "107/107 [==============================] - 0s 3ms/step - loss: 4.8370e-04\n",
            "Epoch 45/50\n",
            "107/107 [==============================] - 0s 3ms/step - loss: 4.3614e-04\n",
            "Epoch 46/50\n",
            "107/107 [==============================] - 0s 2ms/step - loss: 5.0134e-04\n",
            "Epoch 47/50\n",
            "107/107 [==============================] - 0s 2ms/step - loss: 5.3196e-04\n",
            "Epoch 48/50\n",
            "107/107 [==============================] - 0s 2ms/step - loss: 5.2241e-04\n",
            "Epoch 49/50\n",
            "107/107 [==============================] - 0s 2ms/step - loss: 6.3989e-04\n",
            "Epoch 50/50\n",
            "107/107 [==============================] - 0s 2ms/step - loss: 6.1698e-04\n"
          ]
        },
        {
          "output_type": "execute_result",
          "data": {
            "text/plain": [
              "<keras.src.callbacks.History at 0x7c4e6957a980>"
            ]
          },
          "metadata": {},
          "execution_count": 82
        }
      ]
    },
    {
      "cell_type": "code",
      "source": [
        "# Dự đoán trên tập test\n",
        "Y_pred = model.predict(X_test)\n",
        "Y_pred = scaler.inverse_transform(Y_pred.reshape(-1, 1))\n",
        "Y_test = scaler.inverse_transform(Y_test.reshape(-1, 1))"
      ],
      "metadata": {
        "colab": {
          "base_uri": "https://localhost:8080/"
        },
        "id": "vLPJZ4dNZeWL",
        "outputId": "0806f5eb-bdce-40ae-e985-ebbc27faa52c"
      },
      "execution_count": 83,
      "outputs": [
        {
          "output_type": "stream",
          "name": "stdout",
          "text": [
            "6/6 [==============================] - 0s 2ms/step\n"
          ]
        }
      ]
    },
    {
      "cell_type": "code",
      "source": [
        "# Tính toán các chỉ số RMSE, MAPE, và MASE\n",
        "rmse = np.sqrt(mean_squared_error(Y_test, Y_pred))\n",
        "mape = mean_absolute_percentage_error(Y_test, Y_pred)\n",
        "\n",
        "def mase(y_true, y_pred, y_train):\n",
        "    n = len(y_train)\n",
        "    d = np.mean(np.abs(np.diff(y_train)))\n",
        "    errors = np.abs(y_true - y_pred)\n",
        "    return np.mean(errors) / d\n",
        "\n",
        "mase_score = mase(Y_test, Y_pred, Y_train)\n",
        "\n",
        "print(f'RMSE: {rmse}')\n",
        "print(f'MAPE: {mape}')\n",
        "print(f'MASE: {mase_score}')\n"
      ],
      "metadata": {
        "colab": {
          "base_uri": "https://localhost:8080/"
        },
        "id": "K0v0mgooFfZp",
        "outputId": "1abec271-39fe-4e59-f284-b8add9d8f24b"
      },
      "execution_count": 84,
      "outputs": [
        {
          "output_type": "stream",
          "name": "stdout",
          "text": [
            "RMSE: 125.2697223853172\n",
            "MAPE: 0.030838402917060397\n",
            "MASE: 9707.01511143295\n"
          ]
        }
      ]
    },
    {
      "cell_type": "code",
      "source": [
        "def predict_future(model, data, look_back, days):\n",
        "    future_data = data[-look_back:].reshape(1, -1)\n",
        "    predictions = []\n",
        "    for _ in range(days):\n",
        "        prediction = model.predict(future_data)\n",
        "        predictions.append(prediction[0][0])\n",
        "        future_data = np.append(future_data[:, 1:], prediction, axis=1)\n",
        "    return np.array(predictions).reshape(-1, 1)\n",
        "\n",
        "lst_output_90 = scaler.inverse_transform(predict_future(model, scaled_prices, look_back, 90))\n",
        "lst_output_60 = scaler.inverse_transform(predict_future(model, scaled_prices, look_back, 60))\n",
        "lst_output_30 = scaler.inverse_transform(predict_future(model, scaled_prices, look_back, 30))\n"
      ],
      "metadata": {
        "colab": {
          "base_uri": "https://localhost:8080/"
        },
        "id": "ZINbhrVTZeYw",
        "outputId": "0928af90-e21a-4390-8f58-1e5efa91c2e8"
      },
      "execution_count": 85,
      "outputs": [
        {
          "output_type": "stream",
          "name": "stdout",
          "text": [
            "1/1 [==============================] - 0s 19ms/step\n",
            "1/1 [==============================] - 0s 20ms/step\n",
            "1/1 [==============================] - 0s 19ms/step\n",
            "1/1 [==============================] - 0s 21ms/step\n",
            "1/1 [==============================] - 0s 20ms/step\n",
            "1/1 [==============================] - 0s 33ms/step\n",
            "1/1 [==============================] - 0s 31ms/step\n",
            "1/1 [==============================] - 0s 29ms/step\n",
            "1/1 [==============================] - 0s 40ms/step\n",
            "1/1 [==============================] - 0s 43ms/step\n",
            "1/1 [==============================] - 0s 32ms/step\n",
            "1/1 [==============================] - 0s 35ms/step\n",
            "1/1 [==============================] - 0s 31ms/step\n",
            "1/1 [==============================] - 0s 32ms/step\n",
            "1/1 [==============================] - 0s 33ms/step\n",
            "1/1 [==============================] - 0s 33ms/step\n",
            "1/1 [==============================] - 0s 29ms/step\n",
            "1/1 [==============================] - 0s 42ms/step\n",
            "1/1 [==============================] - 0s 67ms/step\n",
            "1/1 [==============================] - 0s 35ms/step\n",
            "1/1 [==============================] - 0s 32ms/step\n",
            "1/1 [==============================] - 0s 29ms/step\n",
            "1/1 [==============================] - 0s 28ms/step\n",
            "1/1 [==============================] - 0s 29ms/step\n",
            "1/1 [==============================] - 0s 31ms/step\n",
            "1/1 [==============================] - 0s 46ms/step\n",
            "1/1 [==============================] - 0s 29ms/step\n",
            "1/1 [==============================] - 0s 32ms/step\n",
            "1/1 [==============================] - 0s 32ms/step\n",
            "1/1 [==============================] - 0s 32ms/step\n",
            "1/1 [==============================] - 0s 30ms/step\n",
            "1/1 [==============================] - 0s 30ms/step\n",
            "1/1 [==============================] - 0s 32ms/step\n",
            "1/1 [==============================] - 0s 32ms/step\n",
            "1/1 [==============================] - 0s 44ms/step\n",
            "1/1 [==============================] - 0s 34ms/step\n",
            "1/1 [==============================] - 0s 59ms/step\n",
            "1/1 [==============================] - 0s 35ms/step\n",
            "1/1 [==============================] - 0s 36ms/step\n",
            "1/1 [==============================] - 0s 39ms/step\n",
            "1/1 [==============================] - 0s 45ms/step\n",
            "1/1 [==============================] - 0s 24ms/step\n",
            "1/1 [==============================] - 0s 24ms/step\n",
            "1/1 [==============================] - 0s 22ms/step\n",
            "1/1 [==============================] - 0s 22ms/step\n",
            "1/1 [==============================] - 0s 24ms/step\n",
            "1/1 [==============================] - 0s 24ms/step\n",
            "1/1 [==============================] - 0s 23ms/step\n",
            "1/1 [==============================] - 0s 30ms/step\n",
            "1/1 [==============================] - 0s 25ms/step\n",
            "1/1 [==============================] - 0s 26ms/step\n",
            "1/1 [==============================] - 0s 22ms/step\n",
            "1/1 [==============================] - 0s 29ms/step\n",
            "1/1 [==============================] - 0s 21ms/step\n",
            "1/1 [==============================] - 0s 24ms/step\n",
            "1/1 [==============================] - 0s 25ms/step\n",
            "1/1 [==============================] - 0s 23ms/step\n",
            "1/1 [==============================] - 0s 24ms/step\n",
            "1/1 [==============================] - 0s 22ms/step\n",
            "1/1 [==============================] - 0s 27ms/step\n",
            "1/1 [==============================] - 0s 22ms/step\n",
            "1/1 [==============================] - 0s 22ms/step\n",
            "1/1 [==============================] - 0s 22ms/step\n",
            "1/1 [==============================] - 0s 23ms/step\n",
            "1/1 [==============================] - 0s 24ms/step\n",
            "1/1 [==============================] - 0s 24ms/step\n",
            "1/1 [==============================] - 0s 24ms/step\n",
            "1/1 [==============================] - 0s 23ms/step\n",
            "1/1 [==============================] - 0s 22ms/step\n",
            "1/1 [==============================] - 0s 26ms/step\n",
            "1/1 [==============================] - 0s 28ms/step\n",
            "1/1 [==============================] - 0s 28ms/step\n",
            "1/1 [==============================] - 0s 25ms/step\n",
            "1/1 [==============================] - 0s 26ms/step\n",
            "1/1 [==============================] - 0s 23ms/step\n",
            "1/1 [==============================] - 0s 31ms/step\n",
            "1/1 [==============================] - 0s 24ms/step\n",
            "1/1 [==============================] - 0s 22ms/step\n",
            "1/1 [==============================] - 0s 22ms/step\n",
            "1/1 [==============================] - 0s 23ms/step\n",
            "1/1 [==============================] - 0s 22ms/step\n",
            "1/1 [==============================] - 0s 29ms/step\n",
            "1/1 [==============================] - 0s 27ms/step\n",
            "1/1 [==============================] - 0s 24ms/step\n",
            "1/1 [==============================] - 0s 23ms/step\n",
            "1/1 [==============================] - 0s 23ms/step\n",
            "1/1 [==============================] - 0s 24ms/step\n",
            "1/1 [==============================] - 0s 25ms/step\n",
            "1/1 [==============================] - 0s 22ms/step\n",
            "1/1 [==============================] - 0s 22ms/step\n",
            "1/1 [==============================] - 0s 26ms/step\n",
            "1/1 [==============================] - 0s 24ms/step\n",
            "1/1 [==============================] - 0s 23ms/step\n",
            "1/1 [==============================] - 0s 28ms/step\n",
            "1/1 [==============================] - 0s 30ms/step\n",
            "1/1 [==============================] - 0s 21ms/step\n",
            "1/1 [==============================] - 0s 21ms/step\n",
            "1/1 [==============================] - 0s 23ms/step\n",
            "1/1 [==============================] - 0s 21ms/step\n",
            "1/1 [==============================] - 0s 25ms/step\n",
            "1/1 [==============================] - 0s 26ms/step\n",
            "1/1 [==============================] - 0s 25ms/step\n",
            "1/1 [==============================] - 0s 23ms/step\n",
            "1/1 [==============================] - 0s 23ms/step\n",
            "1/1 [==============================] - 0s 26ms/step\n",
            "1/1 [==============================] - 0s 28ms/step\n",
            "1/1 [==============================] - 0s 22ms/step\n",
            "1/1 [==============================] - 0s 24ms/step\n",
            "1/1 [==============================] - 0s 26ms/step\n",
            "1/1 [==============================] - 0s 25ms/step\n",
            "1/1 [==============================] - 0s 23ms/step\n",
            "1/1 [==============================] - 0s 21ms/step\n",
            "1/1 [==============================] - 0s 22ms/step\n",
            "1/1 [==============================] - 0s 21ms/step\n",
            "1/1 [==============================] - 0s 22ms/step\n",
            "1/1 [==============================] - 0s 23ms/step\n",
            "1/1 [==============================] - 0s 28ms/step\n",
            "1/1 [==============================] - 0s 27ms/step\n",
            "1/1 [==============================] - 0s 23ms/step\n",
            "1/1 [==============================] - 0s 23ms/step\n",
            "1/1 [==============================] - 0s 22ms/step\n",
            "1/1 [==============================] - 0s 23ms/step\n",
            "1/1 [==============================] - 0s 24ms/step\n",
            "1/1 [==============================] - 0s 21ms/step\n",
            "1/1 [==============================] - 0s 23ms/step\n",
            "1/1 [==============================] - 0s 21ms/step\n",
            "1/1 [==============================] - 0s 22ms/step\n",
            "1/1 [==============================] - 0s 23ms/step\n",
            "1/1 [==============================] - 0s 30ms/step\n",
            "1/1 [==============================] - 0s 22ms/step\n",
            "1/1 [==============================] - 0s 27ms/step\n",
            "1/1 [==============================] - 0s 21ms/step\n",
            "1/1 [==============================] - 0s 21ms/step\n",
            "1/1 [==============================] - 0s 24ms/step\n",
            "1/1 [==============================] - 0s 21ms/step\n",
            "1/1 [==============================] - 0s 23ms/step\n",
            "1/1 [==============================] - 0s 23ms/step\n",
            "1/1 [==============================] - 0s 22ms/step\n",
            "1/1 [==============================] - 0s 26ms/step\n",
            "1/1 [==============================] - 0s 22ms/step\n",
            "1/1 [==============================] - 0s 29ms/step\n",
            "1/1 [==============================] - 0s 22ms/step\n",
            "1/1 [==============================] - 0s 22ms/step\n",
            "1/1 [==============================] - 0s 23ms/step\n",
            "1/1 [==============================] - 0s 23ms/step\n",
            "1/1 [==============================] - 0s 22ms/step\n",
            "1/1 [==============================] - 0s 22ms/step\n",
            "1/1 [==============================] - 0s 23ms/step\n",
            "1/1 [==============================] - 0s 23ms/step\n",
            "1/1 [==============================] - 0s 22ms/step\n",
            "1/1 [==============================] - 0s 24ms/step\n",
            "1/1 [==============================] - 0s 28ms/step\n",
            "1/1 [==============================] - 0s 31ms/step\n",
            "1/1 [==============================] - 0s 23ms/step\n",
            "1/1 [==============================] - 0s 23ms/step\n",
            "1/1 [==============================] - 0s 22ms/step\n",
            "1/1 [==============================] - 0s 35ms/step\n",
            "1/1 [==============================] - 0s 31ms/step\n",
            "1/1 [==============================] - 0s 40ms/step\n",
            "1/1 [==============================] - 0s 36ms/step\n",
            "1/1 [==============================] - 0s 30ms/step\n",
            "1/1 [==============================] - 0s 39ms/step\n",
            "1/1 [==============================] - 0s 35ms/step\n",
            "1/1 [==============================] - 0s 31ms/step\n",
            "1/1 [==============================] - 0s 32ms/step\n",
            "1/1 [==============================] - 0s 36ms/step\n",
            "1/1 [==============================] - 0s 32ms/step\n",
            "1/1 [==============================] - 0s 36ms/step\n",
            "1/1 [==============================] - 0s 39ms/step\n",
            "1/1 [==============================] - 0s 38ms/step\n",
            "1/1 [==============================] - 0s 32ms/step\n",
            "1/1 [==============================] - 0s 42ms/step\n",
            "1/1 [==============================] - 0s 32ms/step\n",
            "1/1 [==============================] - 0s 37ms/step\n",
            "1/1 [==============================] - 0s 52ms/step\n",
            "1/1 [==============================] - 0s 58ms/step\n",
            "1/1 [==============================] - 0s 37ms/step\n",
            "1/1 [==============================] - 0s 33ms/step\n",
            "1/1 [==============================] - 0s 35ms/step\n",
            "1/1 [==============================] - 0s 36ms/step\n"
          ]
        }
      ]
    },
    {
      "cell_type": "code",
      "source": [
        "import matplotlib.dates as mdates\n",
        "import matplotlib.pyplot as plt\n",
        "\n",
        "# Generate future dates for predictions\n",
        "last_date = data.index[-1]\n",
        "predict_data_index_90 = pd.date_range(start=last_date + pd.Timedelta(days=1), periods=90, freq='D')\n",
        "predict_data_index_60 = pd.date_range(start=last_date + pd.Timedelta(days=1), periods=60, freq='D')\n",
        "predict_data_index_30 = pd.date_range(start=last_date + pd.Timedelta(days=1), periods=30, freq='D')\n",
        "\n",
        "# Plot the data\n",
        "plt.figure(figsize=(6, 5))\n",
        "\n",
        "# Plot actual prices\n",
        "plt.plot(data.index, scaler.inverse_transform(scaled_prices), label='Actual')\n",
        "\n",
        "# Plot predictions\n",
        "plt.plot(predict_data_index_90, lst_output_90, label='Predict 90 days', linestyle='--')\n",
        "plt.plot(predict_data_index_60, lst_output_60, label='Predict 60 days', linestyle='--')\n",
        "plt.plot(predict_data_index_30, lst_output_30, label='Predict 30 days', linestyle='--')\n",
        "\n",
        "# Set x-axis formatting and rotation\n",
        "plt.gca().xaxis.set_major_formatter(mdates.DateFormatter(\"%Y-%m\"))\n",
        "plt.xticks(rotation=45)\n",
        "\n",
        "plt.xlabel('Date')\n",
        "plt.ylabel('Price')\n",
        "plt.title('Cryptocurrency Price Prediction')\n",
        "plt.legend()\n",
        "plt.tight_layout()\n",
        "plt.show()\n"
      ],
      "metadata": {
        "colab": {
          "base_uri": "https://localhost:8080/",
          "height": 507
        },
        "id": "pn1u5-GtZead",
        "outputId": "9e151fe4-ed16-4a16-fe58-66da5f5ae0ca"
      },
      "execution_count": 86,
      "outputs": [
        {
          "output_type": "display_data",
          "data": {
            "text/plain": [
              "<Figure size 600x500 with 1 Axes>"
            ],
            "image/png": "[encoded data removed]"
          },
          "metadata": {}
        }
      ]
    },
    {
      "cell_type": "markdown",
      "source": [
        "BTC"
      ],
      "metadata": {
        "id": "R1zSuXGTGDNA"
      }
    },
    {
      "cell_type": "code",
      "source": [
        "# Import necessary libraries\n",
        "from google.colab import drive\n",
        "drive.mount('/content/drive')\n",
        "import pandas as pd\n",
        "import numpy as np\n",
        "from sklearn.preprocessing import MinMaxScaler\n",
        "from sklearn.model_selection import train_test_split\n",
        "from sklearn.metrics import mean_squared_error, mean_absolute_percentage_error\n",
        "from keras.models import Sequential\n",
        "from keras.layers import Dense"
      ],
      "metadata": {
        "colab": {
          "base_uri": "https://localhost:8080/"
        },
        "id": "3_RLLkdjGIu3",
        "outputId": "c1baa4c4-7a27-4040-f550-bef3a7c493f3"
      },
      "execution_count": 87,
      "outputs": [
        {
          "output_type": "stream",
          "name": "stdout",
          "text": [
            "Drive already mounted at /content/drive; to attempt to forcibly remount, call drive.mount(\"/content/drive\", force_remount=True).\n"
          ]
        }
      ]
    },
    {
      "cell_type": "code",
      "source": [
        "# Load data\n",
        "data = pd.read_csv('/content/drive/MyDrive/DataBA/BTC.csv')  # Thay thế đường dẫn này bằng đường dẫn của bạn\n",
        "data['Date'] = pd.to_datetime(data['Date'])\n",
        "data.set_index('Date', inplace=True)"
      ],
      "metadata": {
        "id": "DaD9BWBTGIxH"
      },
      "execution_count": 88,
      "outputs": []
    },
    {
      "cell_type": "code",
      "source": [
        "# Sử dụng giá đóng cửa\n",
        "prices = data['Close'].values.reshape(-1, 1)\n",
        "\n",
        "# Chuẩn hóa dữ liệu\n",
        "scaler = MinMaxScaler(feature_range=(0, 1))\n",
        "scaled_prices = scaler.fit_transform(prices)"
      ],
      "metadata": {
        "id": "-K-qUEIFGI06"
      },
      "execution_count": 89,
      "outputs": []
    },
    {
      "cell_type": "code",
      "source": [
        "# Tạo tập dữ liệu với look_back\n",
        "def create_dataset(data, look_back=1):\n",
        "    X, Y = [], []\n",
        "    for i in range(len(data) - look_back - 1):\n",
        "        X.append(data[i:(i + look_back), 0])\n",
        "        Y.append(data[i + look_back, 0])\n",
        "    return np.array(X), np.array(Y)\n",
        "\n",
        "look_back = 90  # Chúng ta sẽ sử dụng look_back là 90 cho các mô hình 90, 60, và 30 ngày\n",
        "X, Y = create_dataset(scaled_prices, look_back)"
      ],
      "metadata": {
        "id": "qtrCbdFyGI3a"
      },
      "execution_count": 90,
      "outputs": []
    },
    {
      "cell_type": "code",
      "source": [
        "# Chia tập dữ liệu thành train và test\n",
        "train_size = int(len(X) * 0.9)\n",
        "test_size = len(X) - train_size\n",
        "X_train, X_test = X[:train_size], X[train_size:]\n",
        "Y_train, Y_test = Y[:train_size], Y[train_size:]"
      ],
      "metadata": {
        "id": "UvHJVAHtGI5o"
      },
      "execution_count": 91,
      "outputs": []
    },
    {
      "cell_type": "code",
      "source": [
        "# Tạo và huấn luyện mô hình MLP\n",
        "# Tạo mô hình MLP\n",
        "model = Sequential()\n",
        "model.add(Dense(64, input_dim=look_back, activation='relu'))\n",
        "model.add(Dense(32, activation='relu'))\n",
        "model.add(Dense(1, activation='linear'))\n",
        "model.compile(loss='mean_squared_error', optimizer='adam')\n",
        "\n",
        "# Huấn luyện mô hình\n",
        "model.fit(X_train, Y_train, epochs=50, batch_size=16, verbose=1)"
      ],
      "metadata": {
        "colab": {
          "base_uri": "https://localhost:8080/"
        },
        "id": "0sLIK1_vGI73",
        "outputId": "5bc28dcf-7bef-4021-b0ac-5f8a6cde4402"
      },
      "execution_count": 92,
      "outputs": [
        {
          "output_type": "stream",
          "name": "stdout",
          "text": [
            "Epoch 1/50\n",
            "107/107 [==============================] - 1s 2ms/step - loss: 0.0151\n",
            "Epoch 2/50\n",
            "107/107 [==============================] - 0s 2ms/step - loss: 0.0023\n",
            "Epoch 3/50\n",
            "107/107 [==============================] - 0s 2ms/step - loss: 0.0019\n",
            "Epoch 4/50\n",
            "107/107 [==============================] - 0s 2ms/step - loss: 0.0015\n",
            "Epoch 5/50\n",
            "107/107 [==============================] - 0s 2ms/step - loss: 0.0014\n",
            "Epoch 6/50\n",
            "107/107 [==============================] - 0s 2ms/step - loss: 0.0012\n",
            "Epoch 7/50\n",
            "107/107 [==============================] - 0s 2ms/step - loss: 0.0011\n",
            "Epoch 8/50\n",
            "107/107 [==============================] - 0s 2ms/step - loss: 0.0010\n",
            "Epoch 9/50\n",
            "107/107 [==============================] - 0s 2ms/step - loss: 9.5436e-04\n",
            "Epoch 10/50\n",
            "107/107 [==============================] - 0s 2ms/step - loss: 0.0011\n",
            "Epoch 11/50\n",
            "107/107 [==============================] - 0s 2ms/step - loss: 8.9410e-04\n",
            "Epoch 12/50\n",
            "107/107 [==============================] - 0s 2ms/step - loss: 9.0453e-04\n",
            "Epoch 13/50\n",
            "107/107 [==============================] - 0s 2ms/step - loss: 9.1619e-04\n",
            "Epoch 14/50\n",
            "107/107 [==============================] - 0s 2ms/step - loss: 9.0851e-04\n",
            "Epoch 15/50\n",
            "107/107 [==============================] - 0s 2ms/step - loss: 7.1858e-04\n",
            "Epoch 16/50\n",
            "107/107 [==============================] - 0s 2ms/step - loss: 8.9727e-04\n",
            "Epoch 17/50\n",
            "107/107 [==============================] - 0s 2ms/step - loss: 8.0603e-04\n",
            "Epoch 18/50\n",
            "107/107 [==============================] - 0s 2ms/step - loss: 6.3968e-04\n",
            "Epoch 19/50\n",
            "107/107 [==============================] - 0s 2ms/step - loss: 7.3301e-04\n",
            "Epoch 20/50\n",
            "107/107 [==============================] - 0s 2ms/step - loss: 8.1070e-04\n",
            "Epoch 21/50\n",
            "107/107 [==============================] - 0s 2ms/step - loss: 5.6777e-04\n",
            "Epoch 22/50\n",
            "107/107 [==============================] - 0s 2ms/step - loss: 5.3143e-04\n",
            "Epoch 23/50\n",
            "107/107 [==============================] - 0s 2ms/step - loss: 7.2251e-04\n",
            "Epoch 24/50\n",
            "107/107 [==============================] - 0s 2ms/step - loss: 5.4175e-04\n",
            "Epoch 25/50\n",
            "107/107 [==============================] - 0s 2ms/step - loss: 5.8500e-04\n",
            "Epoch 26/50\n",
            "107/107 [==============================] - 0s 3ms/step - loss: 5.5235e-04\n",
            "Epoch 27/50\n",
            "107/107 [==============================] - 0s 3ms/step - loss: 6.4992e-04\n",
            "Epoch 28/50\n",
            "107/107 [==============================] - 0s 3ms/step - loss: 6.3129e-04\n",
            "Epoch 29/50\n",
            "107/107 [==============================] - 0s 3ms/step - loss: 6.2365e-04\n",
            "Epoch 30/50\n",
            "107/107 [==============================] - 0s 3ms/step - loss: 4.5728e-04\n",
            "Epoch 31/50\n",
            "107/107 [==============================] - 0s 4ms/step - loss: 4.7907e-04\n",
            "Epoch 32/50\n",
            "107/107 [==============================] - 0s 3ms/step - loss: 5.2799e-04\n",
            "Epoch 33/50\n",
            "107/107 [==============================] - 0s 3ms/step - loss: 4.2291e-04\n",
            "Epoch 34/50\n",
            "107/107 [==============================] - 0s 3ms/step - loss: 5.3823e-04\n",
            "Epoch 35/50\n",
            "107/107 [==============================] - 0s 3ms/step - loss: 4.5104e-04\n",
            "Epoch 36/50\n",
            "107/107 [==============================] - 0s 3ms/step - loss: 4.7121e-04\n",
            "Epoch 37/50\n",
            "107/107 [==============================] - 0s 3ms/step - loss: 5.2703e-04\n",
            "Epoch 38/50\n",
            "107/107 [==============================] - 0s 3ms/step - loss: 5.2177e-04\n",
            "Epoch 39/50\n",
            "107/107 [==============================] - 0s 3ms/step - loss: 5.8898e-04\n",
            "Epoch 40/50\n",
            "107/107 [==============================] - 0s 3ms/step - loss: 4.0383e-04\n",
            "Epoch 41/50\n",
            "107/107 [==============================] - 0s 2ms/step - loss: 4.9720e-04\n",
            "Epoch 42/50\n",
            "107/107 [==============================] - 0s 2ms/step - loss: 5.8403e-04\n",
            "Epoch 43/50\n",
            "107/107 [==============================] - 0s 2ms/step - loss: 3.9738e-04\n",
            "Epoch 44/50\n",
            "107/107 [==============================] - 0s 2ms/step - loss: 4.3558e-04\n",
            "Epoch 45/50\n",
            "107/107 [==============================] - 0s 2ms/step - loss: 4.2191e-04\n",
            "Epoch 46/50\n",
            "107/107 [==============================] - 0s 2ms/step - loss: 4.0269e-04\n",
            "Epoch 47/50\n",
            "107/107 [==============================] - 0s 2ms/step - loss: 4.4886e-04\n",
            "Epoch 48/50\n",
            "107/107 [==============================] - 0s 2ms/step - loss: 5.4635e-04\n",
            "Epoch 49/50\n",
            "107/107 [==============================] - 0s 2ms/step - loss: 4.7926e-04\n",
            "Epoch 50/50\n",
            "107/107 [==============================] - 0s 2ms/step - loss: 5.7996e-04\n"
          ]
        },
        {
          "output_type": "execute_result",
          "data": {
            "text/plain": [
              "<keras.src.callbacks.History at 0x7c4e69316530>"
            ]
          },
          "metadata": {},
          "execution_count": 92
        }
      ]
    },
    {
      "cell_type": "code",
      "source": [
        "# Dự đoán trên tập test\n",
        "Y_pred = model.predict(X_test)\n",
        "Y_pred = scaler.inverse_transform(Y_pred.reshape(-1, 1))\n",
        "Y_test = scaler.inverse_transform(Y_test.reshape(-1, 1))"
      ],
      "metadata": {
        "colab": {
          "base_uri": "https://localhost:8080/"
        },
        "id": "IZ1cNePIGZr4",
        "outputId": "e5e06b27-e6ce-45b4-8ec4-d1f450b89770"
      },
      "execution_count": 93,
      "outputs": [
        {
          "output_type": "stream",
          "name": "stdout",
          "text": [
            "6/6 [==============================] - 0s 4ms/step\n"
          ]
        }
      ]
    },
    {
      "cell_type": "code",
      "source": [
        "# Tính toán các chỉ số RMSE, MAPE, và MASE\n",
        "rmse = np.sqrt(mean_squared_error(Y_test, Y_pred))\n",
        "mape = mean_absolute_percentage_error(Y_test, Y_pred)\n",
        "\n",
        "def mase(y_true, y_pred, y_train):\n",
        "    n = len(y_train)\n",
        "    d = np.mean(np.abs(np.diff(y_train)))\n",
        "    errors = np.abs(y_true - y_pred)\n",
        "    return np.mean(errors) / d\n",
        "\n",
        "mase_score = mase(Y_test, Y_pred, Y_train)\n",
        "\n",
        "print(f'RMSE: {rmse}')\n",
        "print(f'MAPE: {mape}')\n",
        "print(f'MASE: {mase_score}')\n"
      ],
      "metadata": {
        "colab": {
          "base_uri": "https://localhost:8080/"
        },
        "id": "00TO7ojhGZt3",
        "outputId": "153237d4-995b-4bf6-c8b0-3b602445e696"
      },
      "execution_count": 94,
      "outputs": [
        {
          "output_type": "stream",
          "name": "stdout",
          "text": [
            "RMSE: 2001.3033152676203\n",
            "MAPE: 0.024834744557283944\n",
            "MASE: 161308.50366257696\n"
          ]
        }
      ]
    },
    {
      "cell_type": "code",
      "source": [
        "def predict_future(model, data, look_back, days):\n",
        "    future_data = data[-look_back:].reshape(1, -1)\n",
        "    predictions = []\n",
        "    for _ in range(days):\n",
        "        prediction = model.predict(future_data)\n",
        "        predictions.append(prediction[0][0])\n",
        "        future_data = np.append(future_data[:, 1:], prediction, axis=1)\n",
        "    return np.array(predictions).reshape(-1, 1)\n",
        "\n",
        "lst_output_90 = scaler.inverse_transform(predict_future(model, scaled_prices, look_back, 90))\n",
        "lst_output_60 = scaler.inverse_transform(predict_future(model, scaled_prices, look_back, 60))\n",
        "lst_output_30 = scaler.inverse_transform(predict_future(model, scaled_prices, look_back, 30))\n"
      ],
      "metadata": {
        "colab": {
          "base_uri": "https://localhost:8080/"
        },
        "id": "VUayueXBGZwH",
        "outputId": "03e96557-370f-4721-9dd4-e965a90bea1d"
      },
      "execution_count": 95,
      "outputs": [
        {
          "output_type": "stream",
          "name": "stdout",
          "text": [
            "1/1 [==============================] - 0s 44ms/step\n",
            "1/1 [==============================] - 0s 30ms/step\n",
            "1/1 [==============================] - 0s 35ms/step\n",
            "1/1 [==============================] - 0s 29ms/step\n",
            "1/1 [==============================] - 0s 33ms/step\n",
            "1/1 [==============================] - 0s 31ms/step\n",
            "1/1 [==============================] - 0s 32ms/step\n",
            "1/1 [==============================] - 0s 33ms/step\n",
            "1/1 [==============================] - 0s 32ms/step\n",
            "1/1 [==============================] - 0s 46ms/step\n",
            "1/1 [==============================] - 0s 30ms/step\n",
            "1/1 [==============================] - 0s 41ms/step\n",
            "1/1 [==============================] - 0s 30ms/step\n",
            "1/1 [==============================] - 0s 30ms/step\n",
            "1/1 [==============================] - 0s 29ms/step\n",
            "1/1 [==============================] - 0s 29ms/step\n",
            "1/1 [==============================] - 0s 30ms/step\n",
            "1/1 [==============================] - 0s 31ms/step\n",
            "1/1 [==============================] - 0s 43ms/step\n",
            "1/1 [==============================] - 0s 31ms/step\n",
            "1/1 [==============================] - 0s 30ms/step\n",
            "1/1 [==============================] - 0s 30ms/step\n",
            "1/1 [==============================] - 0s 29ms/step\n",
            "1/1 [==============================] - 0s 29ms/step\n",
            "1/1 [==============================] - 0s 34ms/step\n",
            "1/1 [==============================] - 0s 33ms/step\n",
            "1/1 [==============================] - 0s 35ms/step\n",
            "1/1 [==============================] - 0s 39ms/step\n",
            "1/1 [==============================] - 0s 52ms/step\n",
            "1/1 [==============================] - 0s 35ms/step\n",
            "1/1 [==============================] - 0s 37ms/step\n",
            "1/1 [==============================] - 0s 32ms/step\n",
            "1/1 [==============================] - 0s 34ms/step\n",
            "1/1 [==============================] - 0s 21ms/step\n",
            "1/1 [==============================] - 0s 22ms/step\n",
            "1/1 [==============================] - 0s 21ms/step\n",
            "1/1 [==============================] - 0s 21ms/step\n",
            "1/1 [==============================] - 0s 22ms/step\n",
            "1/1 [==============================] - 0s 25ms/step\n",
            "1/1 [==============================] - 0s 21ms/step\n",
            "1/1 [==============================] - 0s 23ms/step\n",
            "1/1 [==============================] - 0s 21ms/step\n",
            "1/1 [==============================] - 0s 21ms/step\n",
            "1/1 [==============================] - 0s 21ms/step\n",
            "1/1 [==============================] - 0s 21ms/step\n",
            "1/1 [==============================] - 0s 23ms/step\n",
            "1/1 [==============================] - 0s 22ms/step\n",
            "1/1 [==============================] - 0s 20ms/step\n",
            "1/1 [==============================] - 0s 20ms/step\n",
            "1/1 [==============================] - 0s 21ms/step\n",
            "1/1 [==============================] - 0s 26ms/step\n",
            "1/1 [==============================] - 0s 23ms/step\n",
            "1/1 [==============================] - 0s 21ms/step\n",
            "1/1 [==============================] - 0s 23ms/step\n",
            "1/1 [==============================] - 0s 21ms/step\n",
            "1/1 [==============================] - 0s 22ms/step\n",
            "1/1 [==============================] - 0s 21ms/step\n",
            "1/1 [==============================] - 0s 22ms/step\n",
            "1/1 [==============================] - 0s 20ms/step\n",
            "1/1 [==============================] - 0s 22ms/step\n",
            "1/1 [==============================] - 0s 22ms/step\n",
            "1/1 [==============================] - 0s 22ms/step\n",
            "1/1 [==============================] - 0s 26ms/step\n",
            "1/1 [==============================] - 0s 26ms/step\n",
            "1/1 [==============================] - 0s 22ms/step\n",
            "1/1 [==============================] - 0s 21ms/step\n",
            "1/1 [==============================] - 0s 21ms/step\n",
            "1/1 [==============================] - 0s 21ms/step\n",
            "1/1 [==============================] - 0s 20ms/step\n",
            "1/1 [==============================] - 0s 20ms/step\n",
            "1/1 [==============================] - 0s 22ms/step\n",
            "1/1 [==============================] - 0s 21ms/step\n",
            "1/1 [==============================] - 0s 20ms/step\n",
            "1/1 [==============================] - 0s 20ms/step\n",
            "1/1 [==============================] - 0s 36ms/step\n",
            "1/1 [==============================] - 0s 41ms/step\n",
            "1/1 [==============================] - 0s 21ms/step\n",
            "1/1 [==============================] - 0s 21ms/step\n",
            "1/1 [==============================] - 0s 21ms/step\n",
            "1/1 [==============================] - 0s 21ms/step\n",
            "1/1 [==============================] - 0s 22ms/step\n",
            "1/1 [==============================] - 0s 23ms/step\n",
            "1/1 [==============================] - 0s 21ms/step\n",
            "1/1 [==============================] - 0s 22ms/step\n",
            "1/1 [==============================] - 0s 21ms/step\n",
            "1/1 [==============================] - 0s 22ms/step\n",
            "1/1 [==============================] - 0s 28ms/step\n",
            "1/1 [==============================] - 0s 27ms/step\n",
            "1/1 [==============================] - 0s 21ms/step\n",
            "1/1 [==============================] - 0s 21ms/step\n",
            "1/1 [==============================] - 0s 20ms/step\n",
            "1/1 [==============================] - 0s 20ms/step\n",
            "1/1 [==============================] - 0s 22ms/step\n",
            "1/1 [==============================] - 0s 23ms/step\n",
            "1/1 [==============================] - 0s 21ms/step\n",
            "1/1 [==============================] - 0s 22ms/step\n",
            "1/1 [==============================] - 0s 20ms/step\n",
            "1/1 [==============================] - 0s 22ms/step\n",
            "1/1 [==============================] - 0s 30ms/step\n",
            "1/1 [==============================] - 0s 26ms/step\n",
            "1/1 [==============================] - 0s 21ms/step\n",
            "1/1 [==============================] - 0s 21ms/step\n",
            "1/1 [==============================] - 0s 20ms/step\n",
            "1/1 [==============================] - 0s 21ms/step\n",
            "1/1 [==============================] - 0s 25ms/step\n",
            "1/1 [==============================] - 0s 20ms/step\n",
            "1/1 [==============================] - 0s 20ms/step\n",
            "1/1 [==============================] - 0s 21ms/step\n",
            "1/1 [==============================] - 0s 20ms/step\n",
            "1/1 [==============================] - 0s 21ms/step\n",
            "1/1 [==============================] - 0s 20ms/step\n",
            "1/1 [==============================] - 0s 27ms/step\n",
            "1/1 [==============================] - 0s 20ms/step\n",
            "1/1 [==============================] - 0s 21ms/step\n",
            "1/1 [==============================] - 0s 21ms/step\n",
            "1/1 [==============================] - 0s 20ms/step\n",
            "1/1 [==============================] - 0s 21ms/step\n",
            "1/1 [==============================] - 0s 21ms/step\n",
            "1/1 [==============================] - 0s 22ms/step\n",
            "1/1 [==============================] - 0s 21ms/step\n",
            "1/1 [==============================] - 0s 21ms/step\n",
            "1/1 [==============================] - 0s 21ms/step\n",
            "1/1 [==============================] - 0s 21ms/step\n",
            "1/1 [==============================] - 0s 26ms/step\n",
            "1/1 [==============================] - 0s 21ms/step\n",
            "1/1 [==============================] - 0s 33ms/step\n",
            "1/1 [==============================] - 0s 23ms/step\n",
            "1/1 [==============================] - 0s 22ms/step\n",
            "1/1 [==============================] - 0s 20ms/step\n",
            "1/1 [==============================] - 0s 20ms/step\n",
            "1/1 [==============================] - 0s 23ms/step\n",
            "1/1 [==============================] - 0s 20ms/step\n",
            "1/1 [==============================] - 0s 20ms/step\n",
            "1/1 [==============================] - 0s 22ms/step\n",
            "1/1 [==============================] - 0s 25ms/step\n",
            "1/1 [==============================] - 0s 26ms/step\n",
            "1/1 [==============================] - 0s 23ms/step\n",
            "1/1 [==============================] - 0s 20ms/step\n",
            "1/1 [==============================] - 0s 25ms/step\n",
            "1/1 [==============================] - 0s 21ms/step\n",
            "1/1 [==============================] - 0s 21ms/step\n",
            "1/1 [==============================] - 0s 20ms/step\n",
            "1/1 [==============================] - 0s 21ms/step\n",
            "1/1 [==============================] - 0s 22ms/step\n",
            "1/1 [==============================] - 0s 21ms/step\n",
            "1/1 [==============================] - 0s 21ms/step\n",
            "1/1 [==============================] - 0s 21ms/step\n",
            "1/1 [==============================] - 0s 24ms/step\n",
            "1/1 [==============================] - 0s 28ms/step\n",
            "1/1 [==============================] - 0s 20ms/step\n",
            "1/1 [==============================] - 0s 22ms/step\n",
            "1/1 [==============================] - 0s 21ms/step\n",
            "1/1 [==============================] - 0s 21ms/step\n",
            "1/1 [==============================] - 0s 21ms/step\n",
            "1/1 [==============================] - 0s 20ms/step\n",
            "1/1 [==============================] - 0s 31ms/step\n",
            "1/1 [==============================] - 0s 30ms/step\n",
            "1/1 [==============================] - 0s 33ms/step\n",
            "1/1 [==============================] - 0s 37ms/step\n",
            "1/1 [==============================] - 0s 34ms/step\n",
            "1/1 [==============================] - 0s 34ms/step\n",
            "1/1 [==============================] - 0s 31ms/step\n",
            "1/1 [==============================] - 0s 33ms/step\n",
            "1/1 [==============================] - 0s 31ms/step\n",
            "1/1 [==============================] - 0s 30ms/step\n",
            "1/1 [==============================] - 0s 30ms/step\n",
            "1/1 [==============================] - 0s 30ms/step\n",
            "1/1 [==============================] - 0s 51ms/step\n",
            "1/1 [==============================] - 0s 30ms/step\n",
            "1/1 [==============================] - 0s 38ms/step\n",
            "1/1 [==============================] - 0s 34ms/step\n",
            "1/1 [==============================] - 0s 33ms/step\n",
            "1/1 [==============================] - 0s 31ms/step\n",
            "1/1 [==============================] - 0s 29ms/step\n",
            "1/1 [==============================] - 0s 29ms/step\n",
            "1/1 [==============================] - 0s 31ms/step\n",
            "1/1 [==============================] - 0s 30ms/step\n",
            "1/1 [==============================] - 0s 30ms/step\n",
            "1/1 [==============================] - 0s 30ms/step\n",
            "1/1 [==============================] - 0s 46ms/step\n"
          ]
        }
      ]
    },
    {
      "cell_type": "code",
      "source": [
        "import matplotlib.dates as mdates\n",
        "import matplotlib.pyplot as plt\n",
        "\n",
        "# Generate future dates for predictions\n",
        "last_date = data.index[-1]\n",
        "predict_data_index_90 = pd.date_range(start=last_date + pd.Timedelta(days=1), periods=90, freq='D')\n",
        "predict_data_index_60 = pd.date_range(start=last_date + pd.Timedelta(days=1), periods=60, freq='D')\n",
        "predict_data_index_30 = pd.date_range(start=last_date + pd.Timedelta(days=1), periods=30, freq='D')\n",
        "\n",
        "# Plot the data\n",
        "plt.figure(figsize=(6, 5))\n",
        "\n",
        "# Plot actual prices\n",
        "plt.plot(data.index, scaler.inverse_transform(scaled_prices), label='Actual')\n",
        "\n",
        "# Plot predictions\n",
        "plt.plot(predict_data_index_90, lst_output_90, label='Predict 90 days', linestyle='--')\n",
        "plt.plot(predict_data_index_60, lst_output_60, label='Predict 60 days', linestyle='--')\n",
        "plt.plot(predict_data_index_30, lst_output_30, label='Predict 30 days', linestyle='--')\n",
        "\n",
        "# Set x-axis formatting and rotation\n",
        "plt.gca().xaxis.set_major_formatter(mdates.DateFormatter(\"%Y-%m\"))\n",
        "plt.xticks(rotation=45)\n",
        "\n",
        "plt.xlabel('Date')\n",
        "plt.ylabel('Price')\n",
        "plt.title('Cryptocurrency Price Prediction')\n",
        "plt.legend()\n",
        "plt.tight_layout()\n",
        "plt.show()\n"
      ],
      "metadata": {
        "colab": {
          "base_uri": "https://localhost:8080/",
          "height": 507
        },
        "id": "bo8QrHr5GkCT",
        "outputId": "c1a7e97e-b913-488e-ff5c-5fa65570d102"
      },
      "execution_count": 96,
      "outputs": [
        {
          "output_type": "display_data",
          "data": {
            "text/plain": [
              "<Figure size 600x500 with 1 Axes>"
            ],
            "image/png": "[encoded data removed]"
          },
          "metadata": {}
        }
      ]
    },
    {
      "cell_type": "markdown",
      "source": [
        "ETH"
      ],
      "metadata": {
        "id": "Jq5FX_b6GJKJ"
      }
    },
    {
      "cell_type": "code",
      "source": [
        "# Import necessary libraries\n",
        "from google.colab import drive\n",
        "drive.mount('/content/drive')\n",
        "import pandas as pd\n",
        "import numpy as np\n",
        "from sklearn.preprocessing import MinMaxScaler\n",
        "from sklearn.model_selection import train_test_split\n",
        "from sklearn.metrics import mean_squared_error, mean_absolute_percentage_error\n",
        "from keras.models import Sequential\n",
        "from keras.layers import Dense"
      ],
      "metadata": {
        "colab": {
          "base_uri": "https://localhost:8080/"
        },
        "id": "eijUXJVaIsKy",
        "outputId": "655eef38-f071-4c68-8a43-c489ba132996"
      },
      "execution_count": 97,
      "outputs": [
        {
          "output_type": "stream",
          "name": "stdout",
          "text": [
            "Drive already mounted at /content/drive; to attempt to forcibly remount, call drive.mount(\"/content/drive\", force_remount=True).\n"
          ]
        }
      ]
    },
    {
      "cell_type": "code",
      "source": [
        "# Load data\n",
        "data = pd.read_csv('/content/drive/MyDrive/DataBA/ETH.csv')  # Thay thế đường dẫn này bằng đường dẫn của bạn\n",
        "data['Date'] = pd.to_datetime(data['Date'])\n",
        "data.set_index('Date', inplace=True)"
      ],
      "metadata": {
        "id": "Is5WzuotIsSJ"
      },
      "execution_count": 98,
      "outputs": []
    },
    {
      "cell_type": "code",
      "source": [
        "# Sử dụng giá đóng cửa\n",
        "prices = data['Close'].values.reshape(-1, 1)\n",
        "\n",
        "# Chuẩn hóa dữ liệu\n",
        "scaler = MinMaxScaler(feature_range=(0, 1))\n",
        "scaled_prices = scaler.fit_transform(prices)"
      ],
      "metadata": {
        "id": "kBFThua6IsUY"
      },
      "execution_count": 99,
      "outputs": []
    },
    {
      "cell_type": "code",
      "source": [
        "# Tạo tập dữ liệu với look_back\n",
        "def create_dataset(data, look_back=1):\n",
        "    X, Y = [], []\n",
        "    for i in range(len(data) - look_back - 1):\n",
        "        X.append(data[i:(i + look_back), 0])\n",
        "        Y.append(data[i + look_back, 0])\n",
        "    return np.array(X), np.array(Y)\n",
        "\n",
        "look_back = 90  # Chúng ta sẽ sử dụng look_back là 90 cho các mô hình 90, 60, và 30 ngày\n",
        "X, Y = create_dataset(scaled_prices, look_back)"
      ],
      "metadata": {
        "id": "ej08S9-QIsWY"
      },
      "execution_count": 100,
      "outputs": []
    },
    {
      "cell_type": "code",
      "source": [
        "# Chia tập dữ liệu thành train và test\n",
        "train_size = int(len(X) * 0.9)\n",
        "test_size = len(X) - train_size\n",
        "X_train, X_test = X[:train_size], X[train_size:]\n",
        "Y_train, Y_test = Y[:train_size], Y[train_size:]"
      ],
      "metadata": {
        "id": "XTDqM1hNIsYY"
      },
      "execution_count": 101,
      "outputs": []
    },
    {
      "cell_type": "code",
      "source": [
        "# Tạo và huấn luyện mô hình MLP\n",
        "# Tạo mô hình MLP\n",
        "model = Sequential()\n",
        "model.add(Dense(64, input_dim=look_back, activation='relu'))\n",
        "model.add(Dense(32, activation='relu'))\n",
        "model.add(Dense(1, activation='linear'))\n",
        "model.compile(loss='mean_squared_error', optimizer='adam')\n",
        "\n",
        "# Huấn luyện mô hình\n",
        "model.fit(X_train, Y_train, epochs=50, batch_size=16, verbose=1)"
      ],
      "metadata": {
        "colab": {
          "base_uri": "https://localhost:8080/"
        },
        "id": "lHl8T6p9IsaI",
        "outputId": "ae265e48-789f-4c15-9ec8-9ce0103014e1"
      },
      "execution_count": 102,
      "outputs": [
        {
          "output_type": "stream",
          "name": "stdout",
          "text": [
            "Epoch 1/50\n",
            "107/107 [==============================] - 1s 2ms/step - loss: 0.0046\n",
            "Epoch 2/50\n",
            "107/107 [==============================] - 0s 2ms/step - loss: 9.9548e-04\n",
            "Epoch 3/50\n",
            "107/107 [==============================] - 0s 2ms/step - loss: 8.0795e-04\n",
            "Epoch 4/50\n",
            "107/107 [==============================] - 0s 2ms/step - loss: 6.0657e-04\n",
            "Epoch 5/50\n",
            "107/107 [==============================] - 0s 2ms/step - loss: 6.0674e-04\n",
            "Epoch 6/50\n",
            "107/107 [==============================] - 0s 2ms/step - loss: 4.9202e-04\n",
            "Epoch 7/50\n",
            "107/107 [==============================] - 0s 2ms/step - loss: 5.6087e-04\n",
            "Epoch 8/50\n",
            "107/107 [==============================] - 0s 2ms/step - loss: 5.2487e-04\n",
            "Epoch 9/50\n",
            "107/107 [==============================] - 0s 2ms/step - loss: 4.5274e-04\n",
            "Epoch 10/50\n",
            "107/107 [==============================] - 0s 2ms/step - loss: 4.7152e-04\n",
            "Epoch 11/50\n",
            "107/107 [==============================] - 0s 2ms/step - loss: 5.5749e-04\n",
            "Epoch 12/50\n",
            "107/107 [==============================] - 0s 2ms/step - loss: 4.5813e-04\n",
            "Epoch 13/50\n",
            "107/107 [==============================] - 0s 2ms/step - loss: 4.3692e-04\n",
            "Epoch 14/50\n",
            "107/107 [==============================] - 0s 2ms/step - loss: 3.7301e-04\n",
            "Epoch 15/50\n",
            "107/107 [==============================] - 0s 2ms/step - loss: 4.5291e-04\n",
            "Epoch 16/50\n",
            "107/107 [==============================] - 0s 2ms/step - loss: 3.2957e-04\n",
            "Epoch 17/50\n",
            "107/107 [==============================] - 0s 2ms/step - loss: 4.0312e-04\n",
            "Epoch 18/50\n",
            "107/107 [==============================] - 0s 2ms/step - loss: 3.8885e-04\n",
            "Epoch 19/50\n",
            "107/107 [==============================] - 0s 2ms/step - loss: 3.3881e-04\n",
            "Epoch 20/50\n",
            "107/107 [==============================] - 0s 2ms/step - loss: 3.4123e-04\n",
            "Epoch 21/50\n",
            "107/107 [==============================] - 0s 2ms/step - loss: 3.5475e-04\n",
            "Epoch 22/50\n",
            "107/107 [==============================] - 0s 2ms/step - loss: 4.2957e-04\n",
            "Epoch 23/50\n",
            "107/107 [==============================] - 0s 2ms/step - loss: 3.0302e-04\n",
            "Epoch 24/50\n",
            "107/107 [==============================] - 0s 2ms/step - loss: 3.2992e-04\n",
            "Epoch 25/50\n",
            "107/107 [==============================] - 0s 2ms/step - loss: 3.0786e-04\n",
            "Epoch 26/50\n",
            "107/107 [==============================] - 0s 2ms/step - loss: 3.1102e-04\n",
            "Epoch 27/50\n",
            "107/107 [==============================] - 0s 2ms/step - loss: 3.9874e-04\n",
            "Epoch 28/50\n",
            "107/107 [==============================] - 0s 3ms/step - loss: 3.2317e-04\n",
            "Epoch 29/50\n",
            "107/107 [==============================] - 0s 4ms/step - loss: 2.8404e-04\n",
            "Epoch 30/50\n",
            "107/107 [==============================] - 0s 3ms/step - loss: 2.5707e-04\n",
            "Epoch 31/50\n",
            "107/107 [==============================] - 0s 3ms/step - loss: 3.4095e-04\n",
            "Epoch 32/50\n",
            "107/107 [==============================] - 0s 3ms/step - loss: 3.0138e-04\n",
            "Epoch 33/50\n",
            "107/107 [==============================] - 0s 3ms/step - loss: 3.6464e-04\n",
            "Epoch 34/50\n",
            "107/107 [==============================] - 0s 3ms/step - loss: 2.8213e-04\n",
            "Epoch 35/50\n",
            "107/107 [==============================] - 0s 3ms/step - loss: 2.7841e-04\n",
            "Epoch 36/50\n",
            "107/107 [==============================] - 0s 3ms/step - loss: 2.6916e-04\n",
            "Epoch 37/50\n",
            "107/107 [==============================] - 0s 2ms/step - loss: 2.9576e-04\n",
            "Epoch 38/50\n",
            "107/107 [==============================] - 0s 4ms/step - loss: 2.8548e-04\n",
            "Epoch 39/50\n",
            "107/107 [==============================] - 0s 3ms/step - loss: 3.0018e-04\n",
            "Epoch 40/50\n",
            "107/107 [==============================] - 0s 3ms/step - loss: 2.6476e-04\n",
            "Epoch 41/50\n",
            "107/107 [==============================] - 0s 3ms/step - loss: 2.8329e-04\n",
            "Epoch 42/50\n",
            "107/107 [==============================] - 0s 3ms/step - loss: 2.7621e-04\n",
            "Epoch 43/50\n",
            "107/107 [==============================] - 0s 3ms/step - loss: 2.8219e-04\n",
            "Epoch 44/50\n",
            "107/107 [==============================] - 0s 2ms/step - loss: 3.1054e-04\n",
            "Epoch 45/50\n",
            "107/107 [==============================] - 0s 2ms/step - loss: 2.8405e-04\n",
            "Epoch 46/50\n",
            "107/107 [==============================] - 0s 2ms/step - loss: 3.4319e-04\n",
            "Epoch 47/50\n",
            "107/107 [==============================] - 0s 2ms/step - loss: 2.7361e-04\n",
            "Epoch 48/50\n",
            "107/107 [==============================] - 0s 2ms/step - loss: 2.3252e-04\n",
            "Epoch 49/50\n",
            "107/107 [==============================] - 0s 2ms/step - loss: 2.4105e-04\n",
            "Epoch 50/50\n",
            "107/107 [==============================] - 0s 2ms/step - loss: 2.2996e-04\n"
          ]
        },
        {
          "output_type": "execute_result",
          "data": {
            "text/plain": [
              "<keras.src.callbacks.History at 0x7c4e69663550>"
            ]
          },
          "metadata": {},
          "execution_count": 102
        }
      ]
    },
    {
      "cell_type": "code",
      "source": [
        "# Dự đoán trên tập test\n",
        "Y_pred = model.predict(X_test)\n",
        "Y_pred = scaler.inverse_transform(Y_pred.reshape(-1, 1))\n",
        "Y_test = scaler.inverse_transform(Y_test.reshape(-1, 1))"
      ],
      "metadata": {
        "colab": {
          "base_uri": "https://localhost:8080/"
        },
        "id": "P7EMmd52IscJ",
        "outputId": "cc82a59c-2512-4dd1-84e4-b8759aab87bf"
      },
      "execution_count": 103,
      "outputs": [
        {
          "output_type": "stream",
          "name": "stdout",
          "text": [
            "6/6 [==============================] - 0s 3ms/step\n"
          ]
        }
      ]
    },
    {
      "cell_type": "code",
      "source": [
        "# Tính toán các chỉ số RMSE, MAPE, và MASE\n",
        "rmse = np.sqrt(mean_squared_error(Y_test, Y_pred))\n",
        "mape = mean_absolute_percentage_error(Y_test, Y_pred)\n",
        "\n",
        "def mase(y_true, y_pred, y_train):\n",
        "    n = len(y_train)\n",
        "    d = np.mean(np.abs(np.diff(y_train)))\n",
        "    errors = np.abs(y_true - y_pred)\n",
        "    return np.mean(errors) / d\n",
        "\n",
        "mase_score = mase(Y_test, Y_pred, Y_train)\n",
        "\n",
        "print(f'RMSE: {rmse}')\n",
        "print(f'MAPE: {mape}')\n",
        "print(f'MASE: {mase_score}')"
      ],
      "metadata": {
        "colab": {
          "base_uri": "https://localhost:8080/"
        },
        "id": "IPIQ7TTcI7V5",
        "outputId": "cdbfe61f-802d-41a2-d4aa-85e70c0c86d0"
      },
      "execution_count": 104,
      "outputs": [
        {
          "output_type": "stream",
          "name": "stdout",
          "text": [
            "RMSE: 0.01091113071436693\n",
            "MAPE: 0.05142843929932197\n",
            "MASE: 1.2469505058327994\n"
          ]
        }
      ]
    },
    {
      "cell_type": "code",
      "source": [
        "def predict_future(model, data, look_back, days):\n",
        "    future_data = data[-look_back:].reshape(1, -1)\n",
        "    predictions = []\n",
        "    for _ in range(days):\n",
        "        prediction = model.predict(future_data)\n",
        "        predictions.append(prediction[0][0])\n",
        "        future_data = np.append(future_data[:, 1:], prediction, axis=1)\n",
        "    return np.array(predictions).reshape(-1, 1)\n",
        "\n",
        "lst_output_90 = scaler.inverse_transform(predict_future(model, scaled_prices, look_back, 90))\n",
        "lst_output_60 = scaler.inverse_transform(predict_future(model, scaled_prices, look_back, 60))\n",
        "lst_output_30 = scaler.inverse_transform(predict_future(model, scaled_prices, look_back, 30))\n"
      ],
      "metadata": {
        "colab": {
          "base_uri": "https://localhost:8080/"
        },
        "id": "C_DAbuCMI33W",
        "outputId": "0e83730e-9dbc-47ab-e805-797790fb6907"
      },
      "execution_count": 105,
      "outputs": [
        {
          "output_type": "stream",
          "name": "stdout",
          "text": [
            "1/1 [==============================] - 0s 21ms/step\n",
            "1/1 [==============================] - 0s 20ms/step\n",
            "1/1 [==============================] - 0s 24ms/step\n",
            "1/1 [==============================] - 0s 20ms/step\n",
            "1/1 [==============================] - 0s 21ms/step\n",
            "1/1 [==============================] - 0s 24ms/step\n",
            "1/1 [==============================] - 0s 26ms/step\n",
            "1/1 [==============================] - 0s 22ms/step\n",
            "1/1 [==============================] - 0s 20ms/step\n",
            "1/1 [==============================] - 0s 22ms/step\n",
            "1/1 [==============================] - 0s 20ms/step\n",
            "1/1 [==============================] - 0s 22ms/step\n",
            "1/1 [==============================] - 0s 22ms/step\n",
            "1/1 [==============================] - 0s 20ms/step\n",
            "1/1 [==============================] - 0s 28ms/step\n",
            "1/1 [==============================] - 0s 21ms/step\n",
            "1/1 [==============================] - 0s 22ms/step\n",
            "1/1 [==============================] - 0s 24ms/step\n",
            "1/1 [==============================] - 0s 29ms/step\n",
            "1/1 [==============================] - 0s 22ms/step\n",
            "1/1 [==============================] - 0s 24ms/step\n",
            "1/1 [==============================] - 0s 21ms/step\n",
            "1/1 [==============================] - 0s 20ms/step\n",
            "1/1 [==============================] - 0s 20ms/step\n",
            "1/1 [==============================] - 0s 19ms/step\n",
            "1/1 [==============================] - 0s 19ms/step\n",
            "1/1 [==============================] - 0s 20ms/step\n",
            "1/1 [==============================] - 0s 20ms/step\n",
            "1/1 [==============================] - 0s 26ms/step\n",
            "1/1 [==============================] - 0s 21ms/step\n",
            "1/1 [==============================] - 0s 28ms/step\n",
            "1/1 [==============================] - 0s 30ms/step\n",
            "1/1 [==============================] - 0s 20ms/step\n",
            "1/1 [==============================] - 0s 22ms/step\n",
            "1/1 [==============================] - 0s 21ms/step\n",
            "1/1 [==============================] - 0s 20ms/step\n",
            "1/1 [==============================] - 0s 27ms/step\n",
            "1/1 [==============================] - 0s 20ms/step\n",
            "1/1 [==============================] - 0s 23ms/step\n",
            "1/1 [==============================] - 0s 20ms/step\n",
            "1/1 [==============================] - 0s 21ms/step\n",
            "1/1 [==============================] - 0s 20ms/step\n",
            "1/1 [==============================] - 0s 26ms/step\n",
            "1/1 [==============================] - 0s 21ms/step\n",
            "1/1 [==============================] - 0s 20ms/step\n",
            "1/1 [==============================] - 0s 21ms/step\n",
            "1/1 [==============================] - 0s 20ms/step\n",
            "1/1 [==============================] - 0s 20ms/step\n",
            "1/1 [==============================] - 0s 20ms/step\n",
            "1/1 [==============================] - 0s 20ms/step\n",
            "1/1 [==============================] - 0s 20ms/step\n",
            "1/1 [==============================] - 0s 20ms/step\n",
            "1/1 [==============================] - 0s 20ms/step\n",
            "1/1 [==============================] - 0s 21ms/step\n",
            "1/1 [==============================] - 0s 21ms/step\n",
            "1/1 [==============================] - 0s 27ms/step\n",
            "1/1 [==============================] - 0s 25ms/step\n",
            "1/1 [==============================] - 0s 21ms/step\n",
            "1/1 [==============================] - 0s 20ms/step\n",
            "1/1 [==============================] - 0s 21ms/step\n",
            "1/1 [==============================] - 0s 21ms/step\n",
            "1/1 [==============================] - 0s 23ms/step\n",
            "1/1 [==============================] - 0s 20ms/step\n",
            "1/1 [==============================] - 0s 29ms/step\n",
            "1/1 [==============================] - 0s 22ms/step\n",
            "1/1 [==============================] - 0s 20ms/step\n",
            "1/1 [==============================] - 0s 21ms/step\n",
            "1/1 [==============================] - 0s 26ms/step\n",
            "1/1 [==============================] - 0s 27ms/step\n",
            "1/1 [==============================] - 0s 22ms/step\n",
            "1/1 [==============================] - 0s 20ms/step\n",
            "1/1 [==============================] - 0s 30ms/step\n",
            "1/1 [==============================] - 0s 21ms/step\n",
            "1/1 [==============================] - 0s 20ms/step\n",
            "1/1 [==============================] - 0s 20ms/step\n",
            "1/1 [==============================] - 0s 22ms/step\n",
            "1/1 [==============================] - 0s 20ms/step\n",
            "1/1 [==============================] - 0s 20ms/step\n",
            "1/1 [==============================] - 0s 20ms/step\n",
            "1/1 [==============================] - 0s 25ms/step\n",
            "1/1 [==============================] - 0s 20ms/step\n",
            "1/1 [==============================] - 0s 21ms/step\n",
            "1/1 [==============================] - 0s 21ms/step\n",
            "1/1 [==============================] - 0s 23ms/step\n",
            "1/1 [==============================] - 0s 20ms/step\n",
            "1/1 [==============================] - 0s 20ms/step\n",
            "1/1 [==============================] - 0s 22ms/step\n",
            "1/1 [==============================] - 0s 20ms/step\n",
            "1/1 [==============================] - 0s 20ms/step\n",
            "1/1 [==============================] - 0s 20ms/step\n",
            "1/1 [==============================] - 0s 23ms/step\n",
            "1/1 [==============================] - 0s 24ms/step\n",
            "1/1 [==============================] - 0s 27ms/step\n",
            "1/1 [==============================] - 0s 21ms/step\n",
            "1/1 [==============================] - 0s 23ms/step\n",
            "1/1 [==============================] - 0s 22ms/step\n",
            "1/1 [==============================] - 0s 23ms/step\n",
            "1/1 [==============================] - 0s 21ms/step\n",
            "1/1 [==============================] - 0s 21ms/step\n",
            "1/1 [==============================] - 0s 20ms/step\n",
            "1/1 [==============================] - 0s 24ms/step\n",
            "1/1 [==============================] - 0s 21ms/step\n",
            "1/1 [==============================] - 0s 21ms/step\n",
            "1/1 [==============================] - 0s 39ms/step\n",
            "1/1 [==============================] - 0s 33ms/step\n",
            "1/1 [==============================] - 0s 33ms/step\n",
            "1/1 [==============================] - 0s 29ms/step\n",
            "1/1 [==============================] - 0s 32ms/step\n",
            "1/1 [==============================] - 0s 29ms/step\n",
            "1/1 [==============================] - 0s 32ms/step\n",
            "1/1 [==============================] - 0s 34ms/step\n",
            "1/1 [==============================] - 0s 35ms/step\n",
            "1/1 [==============================] - 0s 31ms/step\n",
            "1/1 [==============================] - 0s 35ms/step\n",
            "1/1 [==============================] - 0s 35ms/step\n",
            "1/1 [==============================] - 0s 36ms/step\n",
            "1/1 [==============================] - 0s 33ms/step\n",
            "1/1 [==============================] - 0s 31ms/step\n",
            "1/1 [==============================] - 0s 30ms/step\n",
            "1/1 [==============================] - 0s 32ms/step\n",
            "1/1 [==============================] - 0s 33ms/step\n",
            "1/1 [==============================] - 0s 33ms/step\n",
            "1/1 [==============================] - 0s 31ms/step\n",
            "1/1 [==============================] - 0s 32ms/step\n",
            "1/1 [==============================] - 0s 30ms/step\n",
            "1/1 [==============================] - 0s 30ms/step\n",
            "1/1 [==============================] - 0s 33ms/step\n",
            "1/1 [==============================] - 0s 32ms/step\n",
            "1/1 [==============================] - 0s 47ms/step\n",
            "1/1 [==============================] - 0s 39ms/step\n",
            "1/1 [==============================] - 0s 33ms/step\n",
            "1/1 [==============================] - 0s 31ms/step\n",
            "1/1 [==============================] - 0s 31ms/step\n",
            "1/1 [==============================] - 0s 35ms/step\n",
            "1/1 [==============================] - 0s 38ms/step\n",
            "1/1 [==============================] - 0s 32ms/step\n",
            "1/1 [==============================] - 0s 34ms/step\n",
            "1/1 [==============================] - 0s 26ms/step\n",
            "1/1 [==============================] - 0s 21ms/step\n",
            "1/1 [==============================] - 0s 21ms/step\n",
            "1/1 [==============================] - 0s 21ms/step\n",
            "1/1 [==============================] - 0s 20ms/step\n",
            "1/1 [==============================] - 0s 20ms/step\n",
            "1/1 [==============================] - 0s 22ms/step\n",
            "1/1 [==============================] - 0s 22ms/step\n",
            "1/1 [==============================] - 0s 21ms/step\n",
            "1/1 [==============================] - 0s 21ms/step\n",
            "1/1 [==============================] - 0s 21ms/step\n",
            "1/1 [==============================] - 0s 22ms/step\n",
            "1/1 [==============================] - 0s 27ms/step\n",
            "1/1 [==============================] - 0s 22ms/step\n",
            "1/1 [==============================] - 0s 24ms/step\n",
            "1/1 [==============================] - 0s 20ms/step\n",
            "1/1 [==============================] - 0s 21ms/step\n",
            "1/1 [==============================] - 0s 22ms/step\n",
            "1/1 [==============================] - 0s 22ms/step\n",
            "1/1 [==============================] - 0s 21ms/step\n",
            "1/1 [==============================] - 0s 33ms/step\n",
            "1/1 [==============================] - 0s 22ms/step\n",
            "1/1 [==============================] - 0s 20ms/step\n",
            "1/1 [==============================] - 0s 20ms/step\n",
            "1/1 [==============================] - 0s 24ms/step\n",
            "1/1 [==============================] - 0s 20ms/step\n",
            "1/1 [==============================] - 0s 23ms/step\n",
            "1/1 [==============================] - 0s 21ms/step\n",
            "1/1 [==============================] - 0s 21ms/step\n",
            "1/1 [==============================] - 0s 19ms/step\n",
            "1/1 [==============================] - 0s 22ms/step\n",
            "1/1 [==============================] - 0s 20ms/step\n",
            "1/1 [==============================] - 0s 19ms/step\n",
            "1/1 [==============================] - 0s 21ms/step\n",
            "1/1 [==============================] - 0s 22ms/step\n",
            "1/1 [==============================] - 0s 22ms/step\n",
            "1/1 [==============================] - 0s 29ms/step\n",
            "1/1 [==============================] - 0s 24ms/step\n",
            "1/1 [==============================] - 0s 20ms/step\n",
            "1/1 [==============================] - 0s 25ms/step\n",
            "1/1 [==============================] - 0s 20ms/step\n",
            "1/1 [==============================] - 0s 21ms/step\n",
            "1/1 [==============================] - 0s 20ms/step\n"
          ]
        }
      ]
    },
    {
      "cell_type": "code",
      "source": [
        "import matplotlib.dates as mdates\n",
        "import matplotlib.pyplot as plt\n",
        "\n",
        "# Generate future dates for predictions\n",
        "last_date = data.index[-1]\n",
        "predict_data_index_90 = pd.date_range(start=last_date + pd.Timedelta(days=1), periods=90, freq='D')\n",
        "predict_data_index_60 = pd.date_range(start=last_date + pd.Timedelta(days=1), periods=60, freq='D')\n",
        "predict_data_index_30 = pd.date_range(start=last_date + pd.Timedelta(days=1), periods=30, freq='D')\n",
        "\n",
        "# Plot the data\n",
        "plt.figure(figsize=(6, 5))\n",
        "\n",
        "# Plot actual prices\n",
        "plt.plot(data.index, scaler.inverse_transform(scaled_prices), label='Actual')\n",
        "\n",
        "# Plot predictions\n",
        "plt.plot(predict_data_index_90, lst_output_90, label='Predict 90 days', linestyle='--')\n",
        "plt.plot(predict_data_index_60, lst_output_60, label='Predict 60 days', linestyle='--')\n",
        "plt.plot(predict_data_index_30, lst_output_30, label='Predict 30 days', linestyle='--')\n",
        "\n",
        "# Set x-axis formatting and rotation\n",
        "plt.gca().xaxis.set_major_formatter(mdates.DateFormatter(\"%Y-%m\"))\n",
        "plt.xticks(rotation=45)\n",
        "\n",
        "plt.xlabel('Date')\n",
        "plt.ylabel('Price')\n",
        "plt.title('Cryptocurrency Price Prediction')\n",
        "plt.legend()\n",
        "plt.tight_layout()\n",
        "plt.show()\n"
      ],
      "metadata": {
        "colab": {
          "base_uri": "https://localhost:8080/",
          "height": 507
        },
        "id": "0_20RoyJI372",
        "outputId": "92613c6b-3bef-40e1-b21b-3aa95988682b"
      },
      "execution_count": 106,
      "outputs": [
        {
          "output_type": "display_data",
          "data": {
            "text/plain": [
              "<Figure size 600x500 with 1 Axes>"
            ],
            "image/png": "[encoded data removed]"
          },
          "metadata": {}
        }
      ]
    }
  ]
}