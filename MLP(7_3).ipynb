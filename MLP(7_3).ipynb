{
  "nbformat": 4,
  "nbformat_minor": 0,
  "metadata": {
    "colab": {
      "provenance": []
    },
    "kernelspec": {
      "name": "python3",
      "display_name": "Python 3"
    },
    "language_info": {
      "name": "python"
    }
  },
  "cells": [
    {
      "cell_type": "markdown",
      "source": [
        "DOGE"
      ],
      "metadata": {
        "id": "zwy1GAibF8H4"
      }
    },
    {
      "cell_type": "code",
      "execution_count": 47,
      "metadata": {
        "colab": {
          "base_uri": "https://localhost:8080/"
        },
        "id": "b_yNNHYnQ31O",
        "outputId": "e74f4a01-73e6-4c20-afd6-7e54da3dd155"
      },
      "outputs": [
        {
          "output_type": "stream",
          "name": "stdout",
          "text": [
            "Drive already mounted at /content/drive; to attempt to forcibly remount, call drive.mount(\"/content/drive\", force_remount=True).\n"
          ]
        }
      ],
      "source": [
        "# Import necessary libraries\n",
        "from google.colab import drive\n",
        "drive.mount('/content/drive')\n",
        "import pandas as pd\n",
        "import numpy as np\n",
        "from sklearn.preprocessing import MinMaxScaler\n",
        "from sklearn.model_selection import train_test_split\n",
        "from sklearn.metrics import mean_squared_error, mean_absolute_percentage_error\n",
        "from keras.models import Sequential\n",
        "from keras.layers import Dense\n"
      ]
    },
    {
      "cell_type": "code",
      "source": [
        "# Load data\n",
        "data = pd.read_csv('/content/drive/MyDrive/DataBA/DOGE.csv')  # Thay thế đường dẫn này bằng đường dẫn của bạn\n",
        "data['Date'] = pd.to_datetime(data['Date'])\n",
        "data.set_index('Date', inplace=True)"
      ],
      "metadata": {
        "id": "VmBVHwMwRu8y"
      },
      "execution_count": 48,
      "outputs": []
    },
    {
      "cell_type": "code",
      "source": [
        "# Sử dụng giá đóng cửa\n",
        "prices = data['Close'].values.reshape(-1, 1)\n",
        "\n",
        "# Chuẩn hóa dữ liệu\n",
        "scaler = MinMaxScaler(feature_range=(0, 1))\n",
        "scaled_prices = scaler.fit_transform(prices)"
      ],
      "metadata": {
        "id": "KDi_M3-M_CmU"
      },
      "execution_count": 49,
      "outputs": []
    },
    {
      "cell_type": "code",
      "source": [
        "# Tạo tập dữ liệu với look_back\n",
        "def create_dataset(data, look_back=1):\n",
        "    X, Y = [], []\n",
        "    for i in range(len(data) - look_back - 1):\n",
        "        X.append(data[i:(i + look_back), 0])\n",
        "        Y.append(data[i + look_back, 0])\n",
        "    return np.array(X), np.array(Y)\n",
        "\n",
        "look_back = 90  # Chúng ta sẽ sử dụng look_back là 90 cho các mô hình 90, 60, và 30 ngày\n",
        "X, Y = create_dataset(scaled_prices, look_back)"
      ],
      "metadata": {
        "id": "0H6aZ7ksZMfJ"
      },
      "execution_count": 50,
      "outputs": []
    },
    {
      "cell_type": "code",
      "source": [
        "# Chia tập dữ liệu thành train và test\n",
        "train_size = int(len(X) * 0.7)\n",
        "test_size = len(X) - train_size\n",
        "X_train, X_test = X[:train_size], X[train_size:]\n",
        "Y_train, Y_test = Y[:train_size], Y[train_size:]"
      ],
      "metadata": {
        "id": "oRzXCs3TZeLW"
      },
      "execution_count": 51,
      "outputs": []
    },
    {
      "cell_type": "code",
      "source": [
        "\n",
        "# Tạo và huấn luyện mô hình MLP\n",
        "# Tạo mô hình MLP\n",
        "model = Sequential()\n",
        "model.add(Dense(64, input_dim=look_back, activation='relu'))\n",
        "model.add(Dense(32, activation='relu'))\n",
        "model.add(Dense(1, activation='linear'))\n",
        "model.compile(loss='mean_squared_error', optimizer='adam')\n",
        "\n",
        "# Huấn luyện mô hình\n",
        "model.fit(X_train, Y_train, epochs=50, batch_size=16, verbose=1)"
      ],
      "metadata": {
        "colab": {
          "base_uri": "https://localhost:8080/"
        },
        "id": "MKBvp7ntZeTL",
        "outputId": "899d0b17-7328-4c55-cd22-3d736641e25d"
      },
      "execution_count": 52,
      "outputs": [
        {
          "output_type": "stream",
          "name": "stdout",
          "text": [
            "Epoch 1/50\n",
            "84/84 [==============================] - 1s 2ms/step - loss: 0.0104\n",
            "Epoch 2/50\n",
            "84/84 [==============================] - 0s 2ms/step - loss: 0.0030\n",
            "Epoch 3/50\n",
            "84/84 [==============================] - 0s 2ms/step - loss: 0.0021\n",
            "Epoch 4/50\n",
            "84/84 [==============================] - 0s 2ms/step - loss: 0.0018\n",
            "Epoch 5/50\n",
            "84/84 [==============================] - 0s 2ms/step - loss: 0.0017\n",
            "Epoch 6/50\n",
            "84/84 [==============================] - 0s 2ms/step - loss: 0.0014\n",
            "Epoch 7/50\n",
            "84/84 [==============================] - 0s 2ms/step - loss: 0.0012\n",
            "Epoch 8/50\n",
            "84/84 [==============================] - 0s 2ms/step - loss: 0.0012\n",
            "Epoch 9/50\n",
            "84/84 [==============================] - 0s 2ms/step - loss: 0.0012\n",
            "Epoch 10/50\n",
            "84/84 [==============================] - 0s 2ms/step - loss: 9.7347e-04\n",
            "Epoch 11/50\n",
            "84/84 [==============================] - 0s 2ms/step - loss: 0.0012\n",
            "Epoch 12/50\n",
            "84/84 [==============================] - 0s 2ms/step - loss: 0.0011\n",
            "Epoch 13/50\n",
            "84/84 [==============================] - 0s 2ms/step - loss: 0.0010\n",
            "Epoch 14/50\n",
            "84/84 [==============================] - 0s 2ms/step - loss: 0.0011\n",
            "Epoch 15/50\n",
            "84/84 [==============================] - 0s 2ms/step - loss: 0.0011\n",
            "Epoch 16/50\n",
            "84/84 [==============================] - 0s 2ms/step - loss: 9.9983e-04\n",
            "Epoch 17/50\n",
            "84/84 [==============================] - 0s 2ms/step - loss: 0.0011\n",
            "Epoch 18/50\n",
            "84/84 [==============================] - 0s 2ms/step - loss: 9.1613e-04\n",
            "Epoch 19/50\n",
            "84/84 [==============================] - 0s 2ms/step - loss: 9.5906e-04\n",
            "Epoch 20/50\n",
            "84/84 [==============================] - 0s 2ms/step - loss: 9.7464e-04\n",
            "Epoch 21/50\n",
            "84/84 [==============================] - 0s 2ms/step - loss: 7.4033e-04\n",
            "Epoch 22/50\n",
            "84/84 [==============================] - 0s 2ms/step - loss: 8.3298e-04\n",
            "Epoch 23/50\n",
            "84/84 [==============================] - 0s 2ms/step - loss: 8.4136e-04\n",
            "Epoch 24/50\n",
            "84/84 [==============================] - 0s 2ms/step - loss: 7.5855e-04\n",
            "Epoch 25/50\n",
            "84/84 [==============================] - 0s 2ms/step - loss: 7.4491e-04\n",
            "Epoch 26/50\n",
            "84/84 [==============================] - 0s 2ms/step - loss: 7.5363e-04\n",
            "Epoch 27/50\n",
            "84/84 [==============================] - 0s 2ms/step - loss: 6.5321e-04\n",
            "Epoch 28/50\n",
            "84/84 [==============================] - 0s 2ms/step - loss: 8.5202e-04\n",
            "Epoch 29/50\n",
            "84/84 [==============================] - 0s 2ms/step - loss: 9.0824e-04\n",
            "Epoch 30/50\n",
            "84/84 [==============================] - 0s 2ms/step - loss: 7.9144e-04\n",
            "Epoch 31/50\n",
            "84/84 [==============================] - 0s 2ms/step - loss: 7.1655e-04\n",
            "Epoch 32/50\n",
            "84/84 [==============================] - 0s 2ms/step - loss: 6.2269e-04\n",
            "Epoch 33/50\n",
            "84/84 [==============================] - 0s 2ms/step - loss: 8.4977e-04\n",
            "Epoch 34/50\n",
            "84/84 [==============================] - 0s 2ms/step - loss: 8.6847e-04\n",
            "Epoch 35/50\n",
            "84/84 [==============================] - 0s 2ms/step - loss: 6.3035e-04\n",
            "Epoch 36/50\n",
            "84/84 [==============================] - 0s 3ms/step - loss: 7.7612e-04\n",
            "Epoch 37/50\n",
            "84/84 [==============================] - 0s 3ms/step - loss: 6.0438e-04\n",
            "Epoch 38/50\n",
            "84/84 [==============================] - 0s 3ms/step - loss: 8.2495e-04\n",
            "Epoch 39/50\n",
            "84/84 [==============================] - 0s 3ms/step - loss: 7.6790e-04\n",
            "Epoch 40/50\n",
            "84/84 [==============================] - 0s 3ms/step - loss: 6.6679e-04\n",
            "Epoch 41/50\n",
            "84/84 [==============================] - 0s 3ms/step - loss: 6.7125e-04\n",
            "Epoch 42/50\n",
            "84/84 [==============================] - 0s 3ms/step - loss: 6.5495e-04\n",
            "Epoch 43/50\n",
            "84/84 [==============================] - 0s 4ms/step - loss: 6.4185e-04\n",
            "Epoch 44/50\n",
            "84/84 [==============================] - 0s 3ms/step - loss: 8.4047e-04\n",
            "Epoch 45/50\n",
            "84/84 [==============================] - 0s 3ms/step - loss: 9.9468e-04\n",
            "Epoch 46/50\n",
            "84/84 [==============================] - 0s 3ms/step - loss: 6.3945e-04\n",
            "Epoch 47/50\n",
            "84/84 [==============================] - 0s 4ms/step - loss: 6.7164e-04\n",
            "Epoch 48/50\n",
            "84/84 [==============================] - 0s 3ms/step - loss: 6.4344e-04\n",
            "Epoch 49/50\n",
            "84/84 [==============================] - 0s 3ms/step - loss: 6.2538e-04\n",
            "Epoch 50/50\n",
            "84/84 [==============================] - 0s 4ms/step - loss: 6.1760e-04\n"
          ]
        },
        {
          "output_type": "execute_result",
          "data": {
            "text/plain": [
              "<keras.src.callbacks.History at 0x7c4e7a858280>"
            ]
          },
          "metadata": {},
          "execution_count": 52
        }
      ]
    },
    {
      "cell_type": "code",
      "source": [
        "# Dự đoán trên tập test\n",
        "Y_pred = model.predict(X_test)\n",
        "Y_pred = scaler.inverse_transform(Y_pred.reshape(-1, 1))\n",
        "Y_test = scaler.inverse_transform(Y_test.reshape(-1, 1))"
      ],
      "metadata": {
        "colab": {
          "base_uri": "https://localhost:8080/"
        },
        "id": "vLPJZ4dNZeWL",
        "outputId": "d6979585-8178-47d7-adc4-a46f3f6ca34a"
      },
      "execution_count": 53,
      "outputs": [
        {
          "output_type": "stream",
          "name": "stdout",
          "text": [
            "18/18 [==============================] - 0s 2ms/step\n"
          ]
        }
      ]
    },
    {
      "cell_type": "code",
      "source": [
        "# Tính toán các chỉ số RMSE, MAPE, và MASE\n",
        "rmse = np.sqrt(mean_squared_error(Y_test, Y_pred))\n",
        "mape = mean_absolute_percentage_error(Y_test, Y_pred)\n",
        "\n",
        "def mase(y_true, y_pred, y_train):\n",
        "    n = len(y_train)\n",
        "    d = np.mean(np.abs(np.diff(y_train)))\n",
        "    errors = np.abs(y_true - y_pred)\n",
        "    return np.mean(errors) / d\n",
        "\n",
        "mase_score = mase(Y_test, Y_pred, Y_train)\n",
        "\n",
        "print(f'RMSE: {rmse}')\n",
        "print(f'MAPE: {mape}')\n",
        "print(f'MASE: {mase_score}')\n"
      ],
      "metadata": {
        "colab": {
          "base_uri": "https://localhost:8080/"
        },
        "id": "K0v0mgooFfZp",
        "outputId": "0cdd9cc9-886c-4dbd-c3ec-a79f5ddd4fe8"
      },
      "execution_count": 54,
      "outputs": [
        {
          "output_type": "stream",
          "name": "stdout",
          "text": [
            "RMSE: 139.7301333971728\n",
            "MAPE: 0.04968882224702663\n",
            "MASE: 10462.338140211112\n"
          ]
        }
      ]
    },
    {
      "cell_type": "code",
      "source": [
        "def predict_future(model, data, look_back, days):\n",
        "    future_data = data[-look_back:].reshape(1, -1)\n",
        "    predictions = []\n",
        "    for _ in range(days):\n",
        "        prediction = model.predict(future_data)\n",
        "        predictions.append(prediction[0][0])\n",
        "        future_data = np.append(future_data[:, 1:], prediction, axis=1)\n",
        "    return np.array(predictions).reshape(-1, 1)\n",
        "\n",
        "lst_output_90 = scaler.inverse_transform(predict_future(model, scaled_prices, look_back, 90))\n",
        "lst_output_60 = scaler.inverse_transform(predict_future(model, scaled_prices, look_back, 60))\n",
        "lst_output_30 = scaler.inverse_transform(predict_future(model, scaled_prices, look_back, 30))\n"
      ],
      "metadata": {
        "colab": {
          "base_uri": "https://localhost:8080/"
        },
        "id": "ZINbhrVTZeYw",
        "outputId": "e5fe7db4-d0b0-49df-fae0-542563fd5e2b"
      },
      "execution_count": 55,
      "outputs": [
        {
          "output_type": "stream",
          "name": "stdout",
          "text": [
            "1/1 [==============================] - 0s 32ms/step\n",
            "1/1 [==============================] - 0s 31ms/step\n",
            "1/1 [==============================] - 0s 22ms/step\n",
            "1/1 [==============================] - 0s 20ms/step\n",
            "1/1 [==============================] - 0s 25ms/step\n",
            "1/1 [==============================] - 0s 22ms/step\n",
            "1/1 [==============================] - 0s 21ms/step\n",
            "1/1 [==============================] - 0s 21ms/step\n",
            "1/1 [==============================] - 0s 20ms/step\n",
            "1/1 [==============================] - 0s 21ms/step\n",
            "1/1 [==============================] - 0s 20ms/step\n",
            "1/1 [==============================] - 0s 20ms/step\n",
            "1/1 [==============================] - 0s 20ms/step\n",
            "1/1 [==============================] - 0s 25ms/step\n",
            "1/1 [==============================] - 0s 20ms/step\n",
            "1/1 [==============================] - 0s 23ms/step\n",
            "1/1 [==============================] - 0s 21ms/step\n",
            "1/1 [==============================] - 0s 28ms/step\n",
            "1/1 [==============================] - 0s 22ms/step\n",
            "1/1 [==============================] - 0s 21ms/step\n",
            "1/1 [==============================] - 0s 26ms/step\n",
            "1/1 [==============================] - 0s 22ms/step\n",
            "1/1 [==============================] - 0s 21ms/step\n",
            "1/1 [==============================] - 0s 22ms/step\n",
            "1/1 [==============================] - 0s 24ms/step\n",
            "1/1 [==============================] - 0s 21ms/step\n",
            "1/1 [==============================] - 0s 22ms/step\n",
            "1/1 [==============================] - 0s 21ms/step\n",
            "1/1 [==============================] - 0s 23ms/step\n",
            "1/1 [==============================] - 0s 26ms/step\n",
            "1/1 [==============================] - 0s 21ms/step\n",
            "1/1 [==============================] - 0s 20ms/step\n",
            "1/1 [==============================] - 0s 20ms/step\n",
            "1/1 [==============================] - 0s 29ms/step\n",
            "1/1 [==============================] - 0s 21ms/step\n",
            "1/1 [==============================] - 0s 20ms/step\n",
            "1/1 [==============================] - 0s 20ms/step\n",
            "1/1 [==============================] - 0s 21ms/step\n",
            "1/1 [==============================] - 0s 20ms/step\n",
            "1/1 [==============================] - 0s 22ms/step\n",
            "1/1 [==============================] - 0s 21ms/step\n",
            "1/1 [==============================] - 0s 27ms/step\n",
            "1/1 [==============================] - 0s 20ms/step\n",
            "1/1 [==============================] - 0s 21ms/step\n",
            "1/1 [==============================] - 0s 21ms/step\n",
            "1/1 [==============================] - 0s 21ms/step\n",
            "1/1 [==============================] - 0s 27ms/step\n",
            "1/1 [==============================] - 0s 21ms/step\n",
            "1/1 [==============================] - 0s 21ms/step\n",
            "1/1 [==============================] - 0s 20ms/step\n",
            "1/1 [==============================] - 0s 21ms/step\n",
            "1/1 [==============================] - 0s 20ms/step\n",
            "1/1 [==============================] - 0s 22ms/step\n",
            "1/1 [==============================] - 0s 22ms/step\n",
            "1/1 [==============================] - 0s 26ms/step\n",
            "1/1 [==============================] - 0s 21ms/step\n",
            "1/1 [==============================] - 0s 20ms/step\n",
            "1/1 [==============================] - 0s 20ms/step\n",
            "1/1 [==============================] - 0s 20ms/step\n",
            "1/1 [==============================] - 0s 20ms/step\n",
            "1/1 [==============================] - 0s 24ms/step\n",
            "1/1 [==============================] - 0s 21ms/step\n",
            "1/1 [==============================] - 0s 22ms/step\n",
            "1/1 [==============================] - 0s 20ms/step\n",
            "1/1 [==============================] - 0s 21ms/step\n",
            "1/1 [==============================] - 0s 21ms/step\n",
            "1/1 [==============================] - 0s 26ms/step\n",
            "1/1 [==============================] - 0s 22ms/step\n",
            "1/1 [==============================] - 0s 21ms/step\n",
            "1/1 [==============================] - 0s 21ms/step\n",
            "1/1 [==============================] - 0s 21ms/step\n",
            "1/1 [==============================] - 0s 22ms/step\n",
            "1/1 [==============================] - 0s 24ms/step\n",
            "1/1 [==============================] - 0s 21ms/step\n",
            "1/1 [==============================] - 0s 20ms/step\n",
            "1/1 [==============================] - 0s 20ms/step\n",
            "1/1 [==============================] - 0s 20ms/step\n",
            "1/1 [==============================] - 0s 22ms/step\n",
            "1/1 [==============================] - 0s 20ms/step\n",
            "1/1 [==============================] - 0s 26ms/step\n",
            "1/1 [==============================] - 0s 20ms/step\n",
            "1/1 [==============================] - 0s 21ms/step\n",
            "1/1 [==============================] - 0s 20ms/step\n",
            "1/1 [==============================] - 0s 21ms/step\n",
            "1/1 [==============================] - 0s 22ms/step\n",
            "1/1 [==============================] - 0s 24ms/step\n",
            "1/1 [==============================] - 0s 20ms/step\n",
            "1/1 [==============================] - 0s 20ms/step\n",
            "1/1 [==============================] - 0s 21ms/step\n",
            "1/1 [==============================] - 0s 20ms/step\n",
            "1/1 [==============================] - 0s 21ms/step\n",
            "1/1 [==============================] - 0s 26ms/step\n",
            "1/1 [==============================] - 0s 22ms/step\n",
            "1/1 [==============================] - 0s 20ms/step\n",
            "1/1 [==============================] - 0s 23ms/step\n",
            "1/1 [==============================] - 0s 20ms/step\n",
            "1/1 [==============================] - 0s 20ms/step\n",
            "1/1 [==============================] - 0s 22ms/step\n",
            "1/1 [==============================] - 0s 21ms/step\n",
            "1/1 [==============================] - 0s 21ms/step\n",
            "1/1 [==============================] - 0s 21ms/step\n",
            "1/1 [==============================] - 0s 21ms/step\n",
            "1/1 [==============================] - 0s 20ms/step\n",
            "1/1 [==============================] - 0s 21ms/step\n",
            "1/1 [==============================] - 0s 35ms/step\n",
            "1/1 [==============================] - 0s 21ms/step\n",
            "1/1 [==============================] - 0s 21ms/step\n",
            "1/1 [==============================] - 0s 20ms/step\n",
            "1/1 [==============================] - 0s 21ms/step\n",
            "1/1 [==============================] - 0s 22ms/step\n",
            "1/1 [==============================] - 0s 25ms/step\n",
            "1/1 [==============================] - 0s 20ms/step\n",
            "1/1 [==============================] - 0s 20ms/step\n",
            "1/1 [==============================] - 0s 20ms/step\n",
            "1/1 [==============================] - 0s 21ms/step\n",
            "1/1 [==============================] - 0s 25ms/step\n",
            "1/1 [==============================] - 0s 27ms/step\n",
            "1/1 [==============================] - 0s 21ms/step\n",
            "1/1 [==============================] - 0s 21ms/step\n",
            "1/1 [==============================] - 0s 21ms/step\n",
            "1/1 [==============================] - 0s 21ms/step\n",
            "1/1 [==============================] - 0s 21ms/step\n",
            "1/1 [==============================] - 0s 21ms/step\n",
            "1/1 [==============================] - 0s 26ms/step\n",
            "1/1 [==============================] - 0s 20ms/step\n",
            "1/1 [==============================] - 0s 21ms/step\n",
            "1/1 [==============================] - 0s 49ms/step\n",
            "1/1 [==============================] - 0s 34ms/step\n",
            "1/1 [==============================] - 0s 39ms/step\n",
            "1/1 [==============================] - 0s 37ms/step\n",
            "1/1 [==============================] - 0s 29ms/step\n",
            "1/1 [==============================] - 0s 36ms/step\n",
            "1/1 [==============================] - 0s 32ms/step\n",
            "1/1 [==============================] - 0s 29ms/step\n",
            "1/1 [==============================] - 0s 29ms/step\n",
            "1/1 [==============================] - 0s 30ms/step\n",
            "1/1 [==============================] - 0s 30ms/step\n",
            "1/1 [==============================] - 0s 29ms/step\n",
            "1/1 [==============================] - 0s 32ms/step\n",
            "1/1 [==============================] - 0s 31ms/step\n",
            "1/1 [==============================] - 0s 35ms/step\n",
            "1/1 [==============================] - 0s 29ms/step\n",
            "1/1 [==============================] - 0s 33ms/step\n",
            "1/1 [==============================] - 0s 34ms/step\n",
            "1/1 [==============================] - 0s 41ms/step\n",
            "1/1 [==============================] - 0s 40ms/step\n",
            "1/1 [==============================] - 0s 31ms/step\n",
            "1/1 [==============================] - 0s 31ms/step\n",
            "1/1 [==============================] - 0s 38ms/step\n",
            "1/1 [==============================] - 0s 29ms/step\n",
            "1/1 [==============================] - 0s 33ms/step\n",
            "1/1 [==============================] - 0s 32ms/step\n",
            "1/1 [==============================] - 0s 33ms/step\n",
            "1/1 [==============================] - 0s 36ms/step\n",
            "1/1 [==============================] - 0s 35ms/step\n",
            "1/1 [==============================] - 0s 31ms/step\n",
            "1/1 [==============================] - 0s 31ms/step\n",
            "1/1 [==============================] - 0s 34ms/step\n",
            "1/1 [==============================] - 0s 31ms/step\n",
            "1/1 [==============================] - 0s 31ms/step\n",
            "1/1 [==============================] - 0s 31ms/step\n",
            "1/1 [==============================] - 0s 35ms/step\n",
            "1/1 [==============================] - 0s 35ms/step\n",
            "1/1 [==============================] - 0s 31ms/step\n",
            "1/1 [==============================] - 0s 25ms/step\n",
            "1/1 [==============================] - 0s 22ms/step\n",
            "1/1 [==============================] - 0s 20ms/step\n",
            "1/1 [==============================] - 0s 20ms/step\n",
            "1/1 [==============================] - 0s 21ms/step\n",
            "1/1 [==============================] - 0s 20ms/step\n",
            "1/1 [==============================] - 0s 24ms/step\n",
            "1/1 [==============================] - 0s 21ms/step\n",
            "1/1 [==============================] - 0s 26ms/step\n",
            "1/1 [==============================] - 0s 20ms/step\n",
            "1/1 [==============================] - 0s 20ms/step\n",
            "1/1 [==============================] - 0s 21ms/step\n",
            "1/1 [==============================] - 0s 20ms/step\n",
            "1/1 [==============================] - 0s 20ms/step\n",
            "1/1 [==============================] - 0s 22ms/step\n",
            "1/1 [==============================] - 0s 21ms/step\n"
          ]
        }
      ]
    },
    {
      "cell_type": "code",
      "source": [
        "import matplotlib.dates as mdates\n",
        "import matplotlib.pyplot as plt\n",
        "\n",
        "# Generate future dates for predictions\n",
        "last_date = data.index[-1]\n",
        "predict_data_index_90 = pd.date_range(start=last_date + pd.Timedelta(days=1), periods=90, freq='D')\n",
        "predict_data_index_60 = pd.date_range(start=last_date + pd.Timedelta(days=1), periods=60, freq='D')\n",
        "predict_data_index_30 = pd.date_range(start=last_date + pd.Timedelta(days=1), periods=30, freq='D')\n",
        "\n",
        "# Plot the data\n",
        "plt.figure(figsize=(6, 5))\n",
        "\n",
        "# Plot actual prices\n",
        "plt.plot(data.index, scaler.inverse_transform(scaled_prices), label='Actual')\n",
        "\n",
        "# Plot predictions\n",
        "plt.plot(predict_data_index_90, lst_output_90, label='Predict 90 days', linestyle='--')\n",
        "plt.plot(predict_data_index_60, lst_output_60, label='Predict 60 days', linestyle='--')\n",
        "plt.plot(predict_data_index_30, lst_output_30, label='Predict 30 days', linestyle='--')\n",
        "\n",
        "# Set x-axis formatting and rotation\n",
        "plt.gca().xaxis.set_major_formatter(mdates.DateFormatter(\"%Y-%m\"))\n",
        "plt.xticks(rotation=45)\n",
        "\n",
        "plt.xlabel('Date')\n",
        "plt.ylabel('Price')\n",
        "plt.title('Cryptocurrency Price Prediction')\n",
        "plt.legend()\n",
        "plt.tight_layout()\n",
        "plt.show()\n"
      ],
      "metadata": {
        "colab": {
          "base_uri": "https://localhost:8080/",
          "height": 507
        },
        "id": "pn1u5-GtZead",
        "outputId": "fcc55b58-0173-42d3-aa1e-b5f9db1019be"
      },
      "execution_count": 56,
      "outputs": [
        {
          "output_type": "display_data",
          "data": {
            "text/plain": [
              "<Figure size 600x500 with 1 Axes>"
            ],
            "image/png": "[encoded data removed]"
          },
          "metadata": {}
        }
      ]
    },
    {
      "cell_type": "markdown",
      "source": [
        "BTC"
      ],
      "metadata": {
        "id": "R1zSuXGTGDNA"
      }
    },
    {
      "cell_type": "code",
      "source": [
        "# Import necessary libraries\n",
        "from google.colab import drive\n",
        "drive.mount('/content/drive')\n",
        "import pandas as pd\n",
        "import numpy as np\n",
        "from sklearn.preprocessing import MinMaxScaler\n",
        "from sklearn.model_selection import train_test_split\n",
        "from sklearn.metrics import mean_squared_error, mean_absolute_percentage_error\n",
        "from keras.models import Sequential\n",
        "from keras.layers import Dense"
      ],
      "metadata": {
        "colab": {
          "base_uri": "https://localhost:8080/"
        },
        "id": "3_RLLkdjGIu3",
        "outputId": "fc670cc1-38d2-4401-f25d-faee465e20e0"
      },
      "execution_count": 57,
      "outputs": [
        {
          "output_type": "stream",
          "name": "stdout",
          "text": [
            "Drive already mounted at /content/drive; to attempt to forcibly remount, call drive.mount(\"/content/drive\", force_remount=True).\n"
          ]
        }
      ]
    },
    {
      "cell_type": "code",
      "source": [
        "# Load data\n",
        "data = pd.read_csv('/content/drive/MyDrive/DataBA/BTC.csv')  # Thay thế đường dẫn này bằng đường dẫn của bạn\n",
        "data['Date'] = pd.to_datetime(data['Date'])\n",
        "data.set_index('Date', inplace=True)"
      ],
      "metadata": {
        "id": "DaD9BWBTGIxH"
      },
      "execution_count": 58,
      "outputs": []
    },
    {
      "cell_type": "code",
      "source": [
        "# Sử dụng giá đóng cửa\n",
        "prices = data['Close'].values.reshape(-1, 1)\n",
        "\n",
        "# Chuẩn hóa dữ liệu\n",
        "scaler = MinMaxScaler(feature_range=(0, 1))\n",
        "scaled_prices = scaler.fit_transform(prices)"
      ],
      "metadata": {
        "id": "-K-qUEIFGI06"
      },
      "execution_count": 59,
      "outputs": []
    },
    {
      "cell_type": "code",
      "source": [
        "# Tạo tập dữ liệu với look_back\n",
        "def create_dataset(data, look_back=1):\n",
        "    X, Y = [], []\n",
        "    for i in range(len(data) - look_back - 1):\n",
        "        X.append(data[i:(i + look_back), 0])\n",
        "        Y.append(data[i + look_back, 0])\n",
        "    return np.array(X), np.array(Y)\n",
        "\n",
        "look_back = 90  # Chúng ta sẽ sử dụng look_back là 90 cho các mô hình 90, 60, và 30 ngày\n",
        "X, Y = create_dataset(scaled_prices, look_back)"
      ],
      "metadata": {
        "id": "qtrCbdFyGI3a"
      },
      "execution_count": 60,
      "outputs": []
    },
    {
      "cell_type": "code",
      "source": [
        "# Chia tập dữ liệu thành train và test\n",
        "train_size = int(len(X) * 0.7)\n",
        "test_size = len(X) - train_size\n",
        "X_train, X_test = X[:train_size], X[train_size:]\n",
        "Y_train, Y_test = Y[:train_size], Y[train_size:]"
      ],
      "metadata": {
        "id": "UvHJVAHtGI5o"
      },
      "execution_count": 61,
      "outputs": []
    },
    {
      "cell_type": "code",
      "source": [
        "# Tạo và huấn luyện mô hình MLP\n",
        "# Tạo mô hình MLP\n",
        "model = Sequential()\n",
        "model.add(Dense(64, input_dim=look_back, activation='relu'))\n",
        "model.add(Dense(32, activation='relu'))\n",
        "model.add(Dense(1, activation='linear'))\n",
        "model.compile(loss='mean_squared_error', optimizer='adam')\n",
        "\n",
        "# Huấn luyện mô hình\n",
        "model.fit(X_train, Y_train, epochs=50, batch_size=16, verbose=1)"
      ],
      "metadata": {
        "colab": {
          "base_uri": "https://localhost:8080/"
        },
        "id": "0sLIK1_vGI73",
        "outputId": "03725545-53ae-432a-ba51-cd4e18d44b1e"
      },
      "execution_count": 62,
      "outputs": [
        {
          "output_type": "stream",
          "name": "stdout",
          "text": [
            "Epoch 1/50\n",
            "84/84 [==============================] - 1s 2ms/step - loss: 0.0065\n",
            "Epoch 2/50\n",
            "84/84 [==============================] - 0s 2ms/step - loss: 0.0015\n",
            "Epoch 3/50\n",
            "84/84 [==============================] - 0s 2ms/step - loss: 0.0013\n",
            "Epoch 4/50\n",
            "84/84 [==============================] - 0s 2ms/step - loss: 0.0011\n",
            "Epoch 5/50\n",
            "84/84 [==============================] - 0s 2ms/step - loss: 0.0010\n",
            "Epoch 6/50\n",
            "84/84 [==============================] - 0s 2ms/step - loss: 8.7124e-04\n",
            "Epoch 7/50\n",
            "84/84 [==============================] - 0s 2ms/step - loss: 8.6633e-04\n",
            "Epoch 8/50\n",
            "84/84 [==============================] - 0s 2ms/step - loss: 9.4384e-04\n",
            "Epoch 9/50\n",
            "84/84 [==============================] - 0s 2ms/step - loss: 7.8002e-04\n",
            "Epoch 10/50\n",
            "84/84 [==============================] - 0s 2ms/step - loss: 8.1567e-04\n",
            "Epoch 11/50\n",
            "84/84 [==============================] - 0s 2ms/step - loss: 9.4134e-04\n",
            "Epoch 12/50\n",
            "84/84 [==============================] - 0s 2ms/step - loss: 7.4427e-04\n",
            "Epoch 13/50\n",
            "84/84 [==============================] - 0s 2ms/step - loss: 7.4758e-04\n",
            "Epoch 14/50\n",
            "84/84 [==============================] - 0s 2ms/step - loss: 7.4651e-04\n",
            "Epoch 15/50\n",
            "84/84 [==============================] - 0s 2ms/step - loss: 6.1856e-04\n",
            "Epoch 16/50\n",
            "84/84 [==============================] - 0s 2ms/step - loss: 6.4543e-04\n",
            "Epoch 17/50\n",
            "84/84 [==============================] - 0s 2ms/step - loss: 8.5611e-04\n",
            "Epoch 18/50\n",
            "84/84 [==============================] - 0s 2ms/step - loss: 7.9458e-04\n",
            "Epoch 19/50\n",
            "84/84 [==============================] - 0s 3ms/step - loss: 5.5238e-04\n",
            "Epoch 20/50\n",
            "84/84 [==============================] - 0s 2ms/step - loss: 6.1998e-04\n",
            "Epoch 21/50\n",
            "84/84 [==============================] - 0s 3ms/step - loss: 6.9270e-04\n",
            "Epoch 22/50\n",
            "84/84 [==============================] - 0s 3ms/step - loss: 6.5507e-04\n",
            "Epoch 23/50\n",
            "84/84 [==============================] - 0s 3ms/step - loss: 7.4598e-04\n",
            "Epoch 24/50\n",
            "84/84 [==============================] - 0s 3ms/step - loss: 6.2170e-04\n",
            "Epoch 25/50\n",
            "84/84 [==============================] - 0s 2ms/step - loss: 7.7852e-04\n",
            "Epoch 26/50\n",
            "84/84 [==============================] - 0s 2ms/step - loss: 6.4301e-04\n",
            "Epoch 27/50\n",
            "84/84 [==============================] - 0s 3ms/step - loss: 5.5991e-04\n",
            "Epoch 28/50\n",
            "84/84 [==============================] - 0s 4ms/step - loss: 5.3576e-04\n",
            "Epoch 29/50\n",
            "84/84 [==============================] - 0s 3ms/step - loss: 5.6270e-04\n",
            "Epoch 30/50\n",
            "84/84 [==============================] - 0s 3ms/step - loss: 7.0399e-04\n",
            "Epoch 31/50\n",
            "84/84 [==============================] - 0s 3ms/step - loss: 5.3649e-04\n",
            "Epoch 32/50\n",
            "84/84 [==============================] - 0s 3ms/step - loss: 5.7089e-04\n",
            "Epoch 33/50\n",
            "84/84 [==============================] - 0s 3ms/step - loss: 5.6673e-04\n",
            "Epoch 34/50\n",
            "84/84 [==============================] - 0s 3ms/step - loss: 5.8958e-04\n",
            "Epoch 35/50\n",
            "84/84 [==============================] - 0s 3ms/step - loss: 5.8791e-04\n",
            "Epoch 36/50\n",
            "84/84 [==============================] - 0s 3ms/step - loss: 5.7767e-04\n",
            "Epoch 37/50\n",
            "84/84 [==============================] - 0s 3ms/step - loss: 5.1080e-04\n",
            "Epoch 38/50\n",
            "84/84 [==============================] - 0s 3ms/step - loss: 5.3301e-04\n",
            "Epoch 39/50\n",
            "84/84 [==============================] - 0s 3ms/step - loss: 5.4129e-04\n",
            "Epoch 40/50\n",
            "84/84 [==============================] - 0s 3ms/step - loss: 4.8637e-04\n",
            "Epoch 41/50\n",
            "84/84 [==============================] - 0s 3ms/step - loss: 4.3339e-04\n",
            "Epoch 42/50\n",
            "84/84 [==============================] - 0s 2ms/step - loss: 5.0280e-04\n",
            "Epoch 43/50\n",
            "84/84 [==============================] - 0s 2ms/step - loss: 5.8014e-04\n",
            "Epoch 44/50\n",
            "84/84 [==============================] - 0s 2ms/step - loss: 4.5721e-04\n",
            "Epoch 45/50\n",
            "84/84 [==============================] - 0s 2ms/step - loss: 5.4008e-04\n",
            "Epoch 46/50\n",
            "84/84 [==============================] - 0s 2ms/step - loss: 6.0203e-04\n",
            "Epoch 47/50\n",
            "84/84 [==============================] - 0s 2ms/step - loss: 4.2235e-04\n",
            "Epoch 48/50\n",
            "84/84 [==============================] - 0s 2ms/step - loss: 5.4659e-04\n",
            "Epoch 49/50\n",
            "84/84 [==============================] - 0s 2ms/step - loss: 5.9369e-04\n",
            "Epoch 50/50\n",
            "84/84 [==============================] - 0s 2ms/step - loss: 5.8455e-04\n"
          ]
        },
        {
          "output_type": "execute_result",
          "data": {
            "text/plain": [
              "<keras.src.callbacks.History at 0x7c4e6b1617b0>"
            ]
          },
          "metadata": {},
          "execution_count": 62
        }
      ]
    },
    {
      "cell_type": "code",
      "source": [
        "# Dự đoán trên tập test\n",
        "Y_pred = model.predict(X_test)\n",
        "Y_pred = scaler.inverse_transform(Y_pred.reshape(-1, 1))\n",
        "Y_test = scaler.inverse_transform(Y_test.reshape(-1, 1))"
      ],
      "metadata": {
        "colab": {
          "base_uri": "https://localhost:8080/"
        },
        "id": "IZ1cNePIGZr4",
        "outputId": "ad8ace47-badb-4202-a5f4-202ea55503c6"
      },
      "execution_count": 63,
      "outputs": [
        {
          "output_type": "stream",
          "name": "stdout",
          "text": [
            "18/18 [==============================] - 0s 2ms/step\n"
          ]
        }
      ]
    },
    {
      "cell_type": "code",
      "source": [
        "# Tính toán các chỉ số RMSE, MAPE, và MASE\n",
        "rmse = np.sqrt(mean_squared_error(Y_test, Y_pred))\n",
        "mape = mean_absolute_percentage_error(Y_test, Y_pred)\n",
        "\n",
        "def mase(y_true, y_pred, y_train):\n",
        "    n = len(y_train)\n",
        "    d = np.mean(np.abs(np.diff(y_train)))\n",
        "    errors = np.abs(y_true - y_pred)\n",
        "    return np.mean(errors) / d\n",
        "\n",
        "mase_score = mase(Y_test, Y_pred, Y_train)\n",
        "\n",
        "print(f'RMSE: {rmse}')\n",
        "print(f'MAPE: {mape}')\n",
        "print(f'MASE: {mase_score}')\n"
      ],
      "metadata": {
        "colab": {
          "base_uri": "https://localhost:8080/"
        },
        "id": "00TO7ojhGZt3",
        "outputId": "9fc044da-6e91-4f08-eb69-a2ccdb800cc8"
      },
      "execution_count": 64,
      "outputs": [
        {
          "output_type": "stream",
          "name": "stdout",
          "text": [
            "RMSE: 1705.38523724374\n",
            "MAPE: 0.030914231115075734\n",
            "MASE: 120064.37565657099\n"
          ]
        }
      ]
    },
    {
      "cell_type": "code",
      "source": [
        "def predict_future(model, data, look_back, days):\n",
        "    future_data = data[-look_back:].reshape(1, -1)\n",
        "    predictions = []\n",
        "    for _ in range(days):\n",
        "        prediction = model.predict(future_data)\n",
        "        predictions.append(prediction[0][0])\n",
        "        future_data = np.append(future_data[:, 1:], prediction, axis=1)\n",
        "    return np.array(predictions).reshape(-1, 1)\n",
        "\n",
        "lst_output_90 = scaler.inverse_transform(predict_future(model, scaled_prices, look_back, 90))\n",
        "lst_output_60 = scaler.inverse_transform(predict_future(model, scaled_prices, look_back, 60))\n",
        "lst_output_30 = scaler.inverse_transform(predict_future(model, scaled_prices, look_back, 30))\n"
      ],
      "metadata": {
        "colab": {
          "base_uri": "https://localhost:8080/"
        },
        "id": "VUayueXBGZwH",
        "outputId": "93b718ff-487c-4db2-a3ab-f7a9eb1d4b68"
      },
      "execution_count": 65,
      "outputs": [
        {
          "output_type": "stream",
          "name": "stdout",
          "text": [
            "1/1 [==============================] - 0s 21ms/step\n",
            "1/1 [==============================] - 0s 21ms/step\n",
            "1/1 [==============================] - 0s 19ms/step\n",
            "1/1 [==============================] - 0s 19ms/step\n",
            "1/1 [==============================] - 0s 20ms/step\n",
            "1/1 [==============================] - 0s 20ms/step\n",
            "1/1 [==============================] - 0s 24ms/step\n",
            "1/1 [==============================] - 0s 25ms/step\n",
            "1/1 [==============================] - 0s 19ms/step\n",
            "1/1 [==============================] - 0s 22ms/step\n",
            "1/1 [==============================] - 0s 19ms/step\n",
            "1/1 [==============================] - 0s 20ms/step\n",
            "1/1 [==============================] - 0s 20ms/step\n",
            "1/1 [==============================] - 0s 21ms/step\n",
            "1/1 [==============================] - 0s 19ms/step\n",
            "1/1 [==============================] - 0s 19ms/step\n",
            "1/1 [==============================] - 0s 20ms/step\n",
            "1/1 [==============================] - 0s 20ms/step\n",
            "1/1 [==============================] - 0s 20ms/step\n",
            "1/1 [==============================] - 0s 25ms/step\n",
            "1/1 [==============================] - 0s 20ms/step\n",
            "1/1 [==============================] - 0s 20ms/step\n",
            "1/1 [==============================] - 0s 20ms/step\n",
            "1/1 [==============================] - 0s 20ms/step\n",
            "1/1 [==============================] - 0s 20ms/step\n",
            "1/1 [==============================] - 0s 20ms/step\n",
            "1/1 [==============================] - 0s 25ms/step\n",
            "1/1 [==============================] - 0s 20ms/step\n",
            "1/1 [==============================] - 0s 21ms/step\n",
            "1/1 [==============================] - 0s 20ms/step\n",
            "1/1 [==============================] - 0s 21ms/step\n",
            "1/1 [==============================] - 0s 21ms/step\n",
            "1/1 [==============================] - 0s 25ms/step\n",
            "1/1 [==============================] - 0s 20ms/step\n",
            "1/1 [==============================] - 0s 20ms/step\n",
            "1/1 [==============================] - 0s 25ms/step\n",
            "1/1 [==============================] - 0s 20ms/step\n",
            "1/1 [==============================] - 0s 20ms/step\n",
            "1/1 [==============================] - 0s 20ms/step\n",
            "1/1 [==============================] - 0s 31ms/step\n",
            "1/1 [==============================] - 0s 20ms/step\n",
            "1/1 [==============================] - 0s 20ms/step\n",
            "1/1 [==============================] - 0s 23ms/step\n",
            "1/1 [==============================] - 0s 21ms/step\n",
            "1/1 [==============================] - 0s 27ms/step\n",
            "1/1 [==============================] - 0s 24ms/step\n",
            "1/1 [==============================] - 0s 20ms/step\n",
            "1/1 [==============================] - 0s 20ms/step\n",
            "1/1 [==============================] - 0s 20ms/step\n",
            "1/1 [==============================] - 0s 21ms/step\n",
            "1/1 [==============================] - 0s 21ms/step\n",
            "1/1 [==============================] - 0s 22ms/step\n",
            "1/1 [==============================] - 0s 32ms/step\n",
            "1/1 [==============================] - 0s 22ms/step\n",
            "1/1 [==============================] - 0s 21ms/step\n",
            "1/1 [==============================] - 0s 20ms/step\n",
            "1/1 [==============================] - 0s 20ms/step\n",
            "1/1 [==============================] - 0s 26ms/step\n",
            "1/1 [==============================] - 0s 28ms/step\n",
            "1/1 [==============================] - 0s 20ms/step\n",
            "1/1 [==============================] - 0s 20ms/step\n",
            "1/1 [==============================] - 0s 20ms/step\n",
            "1/1 [==============================] - 0s 21ms/step\n",
            "1/1 [==============================] - 0s 20ms/step\n",
            "1/1 [==============================] - 0s 22ms/step\n",
            "1/1 [==============================] - 0s 28ms/step\n",
            "1/1 [==============================] - 0s 20ms/step\n",
            "1/1 [==============================] - 0s 19ms/step\n",
            "1/1 [==============================] - 0s 19ms/step\n",
            "1/1 [==============================] - 0s 21ms/step\n",
            "1/1 [==============================] - 0s 24ms/step\n",
            "1/1 [==============================] - 0s 20ms/step\n",
            "1/1 [==============================] - 0s 21ms/step\n",
            "1/1 [==============================] - 0s 20ms/step\n",
            "1/1 [==============================] - 0s 23ms/step\n",
            "1/1 [==============================] - 0s 20ms/step\n",
            "1/1 [==============================] - 0s 23ms/step\n",
            "1/1 [==============================] - 0s 20ms/step\n",
            "1/1 [==============================] - 0s 20ms/step\n",
            "1/1 [==============================] - 0s 21ms/step\n",
            "1/1 [==============================] - 0s 21ms/step\n",
            "1/1 [==============================] - 0s 20ms/step\n",
            "1/1 [==============================] - 0s 22ms/step\n",
            "1/1 [==============================] - 0s 28ms/step\n",
            "1/1 [==============================] - 0s 19ms/step\n",
            "1/1 [==============================] - 0s 20ms/step\n",
            "1/1 [==============================] - 0s 20ms/step\n",
            "1/1 [==============================] - 0s 19ms/step\n",
            "1/1 [==============================] - 0s 23ms/step\n",
            "1/1 [==============================] - 0s 21ms/step\n",
            "1/1 [==============================] - 0s 20ms/step\n",
            "1/1 [==============================] - 0s 24ms/step\n",
            "1/1 [==============================] - 0s 20ms/step\n",
            "1/1 [==============================] - 0s 20ms/step\n",
            "1/1 [==============================] - 0s 20ms/step\n",
            "1/1 [==============================] - 0s 24ms/step\n",
            "1/1 [==============================] - 0s 21ms/step\n",
            "1/1 [==============================] - 0s 19ms/step\n",
            "1/1 [==============================] - 0s 24ms/step\n",
            "1/1 [==============================] - 0s 21ms/step\n",
            "1/1 [==============================] - 0s 20ms/step\n",
            "1/1 [==============================] - 0s 20ms/step\n",
            "1/1 [==============================] - 0s 21ms/step\n",
            "1/1 [==============================] - 0s 31ms/step\n",
            "1/1 [==============================] - 0s 45ms/step\n",
            "1/1 [==============================] - 0s 32ms/step\n",
            "1/1 [==============================] - 0s 30ms/step\n",
            "1/1 [==============================] - 0s 29ms/step\n",
            "1/1 [==============================] - 0s 31ms/step\n",
            "1/1 [==============================] - 0s 33ms/step\n",
            "1/1 [==============================] - 0s 30ms/step\n",
            "1/1 [==============================] - 0s 30ms/step\n",
            "1/1 [==============================] - 0s 29ms/step\n",
            "1/1 [==============================] - 0s 43ms/step\n",
            "1/1 [==============================] - 0s 29ms/step\n",
            "1/1 [==============================] - 0s 34ms/step\n",
            "1/1 [==============================] - 0s 33ms/step\n",
            "1/1 [==============================] - 0s 32ms/step\n",
            "1/1 [==============================] - 0s 32ms/step\n",
            "1/1 [==============================] - 0s 30ms/step\n",
            "1/1 [==============================] - 0s 29ms/step\n",
            "1/1 [==============================] - 0s 29ms/step\n",
            "1/1 [==============================] - 0s 28ms/step\n",
            "1/1 [==============================] - 0s 30ms/step\n",
            "1/1 [==============================] - 0s 31ms/step\n",
            "1/1 [==============================] - 0s 33ms/step\n",
            "1/1 [==============================] - 0s 32ms/step\n",
            "1/1 [==============================] - 0s 35ms/step\n",
            "1/1 [==============================] - 0s 37ms/step\n",
            "1/1 [==============================] - 0s 33ms/step\n",
            "1/1 [==============================] - 0s 40ms/step\n",
            "1/1 [==============================] - 0s 32ms/step\n",
            "1/1 [==============================] - 0s 41ms/step\n",
            "1/1 [==============================] - 0s 31ms/step\n",
            "1/1 [==============================] - 0s 35ms/step\n",
            "1/1 [==============================] - 0s 32ms/step\n",
            "1/1 [==============================] - 0s 32ms/step\n",
            "1/1 [==============================] - 0s 35ms/step\n",
            "1/1 [==============================] - 0s 34ms/step\n",
            "1/1 [==============================] - 0s 31ms/step\n",
            "1/1 [==============================] - 0s 35ms/step\n",
            "1/1 [==============================] - 0s 37ms/step\n",
            "1/1 [==============================] - 0s 32ms/step\n",
            "1/1 [==============================] - 0s 35ms/step\n",
            "1/1 [==============================] - 0s 23ms/step\n",
            "1/1 [==============================] - 0s 21ms/step\n",
            "1/1 [==============================] - 0s 22ms/step\n",
            "1/1 [==============================] - 0s 21ms/step\n",
            "1/1 [==============================] - 0s 20ms/step\n",
            "1/1 [==============================] - 0s 20ms/step\n",
            "1/1 [==============================] - 0s 21ms/step\n",
            "1/1 [==============================] - 0s 20ms/step\n",
            "1/1 [==============================] - 0s 33ms/step\n",
            "1/1 [==============================] - 0s 23ms/step\n",
            "1/1 [==============================] - 0s 21ms/step\n",
            "1/1 [==============================] - 0s 20ms/step\n",
            "1/1 [==============================] - 0s 20ms/step\n",
            "1/1 [==============================] - 0s 20ms/step\n",
            "1/1 [==============================] - 0s 20ms/step\n",
            "1/1 [==============================] - 0s 20ms/step\n",
            "1/1 [==============================] - 0s 22ms/step\n",
            "1/1 [==============================] - 0s 23ms/step\n",
            "1/1 [==============================] - 0s 20ms/step\n",
            "1/1 [==============================] - 0s 22ms/step\n",
            "1/1 [==============================] - 0s 32ms/step\n",
            "1/1 [==============================] - 0s 25ms/step\n",
            "1/1 [==============================] - 0s 21ms/step\n",
            "1/1 [==============================] - 0s 21ms/step\n",
            "1/1 [==============================] - 0s 19ms/step\n",
            "1/1 [==============================] - 0s 20ms/step\n",
            "1/1 [==============================] - 0s 21ms/step\n",
            "1/1 [==============================] - 0s 25ms/step\n",
            "1/1 [==============================] - 0s 19ms/step\n",
            "1/1 [==============================] - 0s 21ms/step\n",
            "1/1 [==============================] - 0s 21ms/step\n",
            "1/1 [==============================] - 0s 21ms/step\n",
            "1/1 [==============================] - 0s 24ms/step\n",
            "1/1 [==============================] - 0s 30ms/step\n",
            "1/1 [==============================] - 0s 21ms/step\n",
            "1/1 [==============================] - 0s 22ms/step\n"
          ]
        }
      ]
    },
    {
      "cell_type": "code",
      "source": [
        "import matplotlib.dates as mdates\n",
        "import matplotlib.pyplot as plt\n",
        "\n",
        "# Generate future dates for predictions\n",
        "last_date = data.index[-1]\n",
        "predict_data_index_90 = pd.date_range(start=last_date + pd.Timedelta(days=1), periods=90, freq='D')\n",
        "predict_data_index_60 = pd.date_range(start=last_date + pd.Timedelta(days=1), periods=60, freq='D')\n",
        "predict_data_index_30 = pd.date_range(start=last_date + pd.Timedelta(days=1), periods=30, freq='D')\n",
        "\n",
        "# Plot the data\n",
        "plt.figure(figsize=(6, 5))\n",
        "\n",
        "# Plot actual prices\n",
        "plt.plot(data.index, scaler.inverse_transform(scaled_prices), label='Actual')\n",
        "\n",
        "# Plot predictions\n",
        "plt.plot(predict_data_index_90, lst_output_90, label='Predict 90 days', linestyle='--')\n",
        "plt.plot(predict_data_index_60, lst_output_60, label='Predict 60 days', linestyle='--')\n",
        "plt.plot(predict_data_index_30, lst_output_30, label='Predict 30 days', linestyle='--')\n",
        "\n",
        "# Set x-axis formatting and rotation\n",
        "plt.gca().xaxis.set_major_formatter(mdates.DateFormatter(\"%Y-%m\"))\n",
        "plt.xticks(rotation=45)\n",
        "\n",
        "plt.xlabel('Date')\n",
        "plt.ylabel('Price')\n",
        "plt.title('Cryptocurrency Price Prediction')\n",
        "plt.legend()\n",
        "plt.tight_layout()\n",
        "plt.show()\n"
      ],
      "metadata": {
        "colab": {
          "base_uri": "https://localhost:8080/",
          "height": 507
        },
        "id": "bo8QrHr5GkCT",
        "outputId": "82863e81-e3c3-4fdb-ce53-6d13199561aa"
      },
      "execution_count": 66,
      "outputs": [
        {
          "output_type": "display_data",
          "data": {
            "text/plain": [
              "<Figure size 600x500 with 1 Axes>"
            ],
            "image/png": "[encoded data removed]"
          },
          "metadata": {}
        }
      ]
    },
    {
      "cell_type": "markdown",
      "source": [
        "ETH"
      ],
      "metadata": {
        "id": "Jq5FX_b6GJKJ"
      }
    },
    {
      "cell_type": "code",
      "source": [
        "# Import necessary libraries\n",
        "from google.colab import drive\n",
        "drive.mount('/content/drive')\n",
        "import pandas as pd\n",
        "import numpy as np\n",
        "from sklearn.preprocessing import MinMaxScaler\n",
        "from sklearn.model_selection import train_test_split\n",
        "from sklearn.metrics import mean_squared_error, mean_absolute_percentage_error\n",
        "from keras.models import Sequential\n",
        "from keras.layers import Dense"
      ],
      "metadata": {
        "colab": {
          "base_uri": "https://localhost:8080/"
        },
        "id": "eijUXJVaIsKy",
        "outputId": "42bc68f8-b8e9-4bb3-a43b-fd5fdec3139d"
      },
      "execution_count": 67,
      "outputs": [
        {
          "output_type": "stream",
          "name": "stdout",
          "text": [
            "Drive already mounted at /content/drive; to attempt to forcibly remount, call drive.mount(\"/content/drive\", force_remount=True).\n"
          ]
        }
      ]
    },
    {
      "cell_type": "code",
      "source": [
        "# Load data\n",
        "data = pd.read_csv('/content/drive/MyDrive/DataBA/ETH.csv')  # Thay thế đường dẫn này bằng đường dẫn của bạn\n",
        "data['Date'] = pd.to_datetime(data['Date'])\n",
        "data.set_index('Date', inplace=True)"
      ],
      "metadata": {
        "id": "Is5WzuotIsSJ"
      },
      "execution_count": 68,
      "outputs": []
    },
    {
      "cell_type": "code",
      "source": [
        "# Sử dụng giá đóng cửa\n",
        "prices = data['Close'].values.reshape(-1, 1)\n",
        "\n",
        "# Chuẩn hóa dữ liệu\n",
        "scaler = MinMaxScaler(feature_range=(0, 1))\n",
        "scaled_prices = scaler.fit_transform(prices)"
      ],
      "metadata": {
        "id": "kBFThua6IsUY"
      },
      "execution_count": 69,
      "outputs": []
    },
    {
      "cell_type": "code",
      "source": [
        "# Tạo tập dữ liệu với look_back\n",
        "def create_dataset(data, look_back=1):\n",
        "    X, Y = [], []\n",
        "    for i in range(len(data) - look_back - 1):\n",
        "        X.append(data[i:(i + look_back), 0])\n",
        "        Y.append(data[i + look_back, 0])\n",
        "    return np.array(X), np.array(Y)\n",
        "\n",
        "look_back = 90  # Chúng ta sẽ sử dụng look_back là 90 cho các mô hình 90, 60, và 30 ngày\n",
        "X, Y = create_dataset(scaled_prices, look_back)"
      ],
      "metadata": {
        "id": "ej08S9-QIsWY"
      },
      "execution_count": 70,
      "outputs": []
    },
    {
      "cell_type": "code",
      "source": [
        "# Chia tập dữ liệu thành train và test\n",
        "train_size = int(len(X) * 0.7)\n",
        "test_size = len(X) - train_size\n",
        "X_train, X_test = X[:train_size], X[train_size:]\n",
        "Y_train, Y_test = Y[:train_size], Y[train_size:]"
      ],
      "metadata": {
        "id": "XTDqM1hNIsYY"
      },
      "execution_count": 71,
      "outputs": []
    },
    {
      "cell_type": "code",
      "source": [
        "# Tạo và huấn luyện mô hình MLP\n",
        "# Tạo mô hình MLP\n",
        "model = Sequential()\n",
        "model.add(Dense(64, input_dim=look_back, activation='relu'))\n",
        "model.add(Dense(32, activation='relu'))\n",
        "model.add(Dense(1, activation='linear'))\n",
        "model.compile(loss='mean_squared_error', optimizer='adam')\n",
        "\n",
        "# Huấn luyện mô hình\n",
        "model.fit(X_train, Y_train, epochs=50, batch_size=16, verbose=1)"
      ],
      "metadata": {
        "colab": {
          "base_uri": "https://localhost:8080/"
        },
        "id": "lHl8T6p9IsaI",
        "outputId": "9340c588-031c-4107-b19e-147b53e56b46"
      },
      "execution_count": 72,
      "outputs": [
        {
          "output_type": "stream",
          "name": "stdout",
          "text": [
            "Epoch 1/50\n",
            "84/84 [==============================] - 1s 2ms/step - loss: 0.0060\n",
            "Epoch 2/50\n",
            "84/84 [==============================] - 0s 2ms/step - loss: 0.0020\n",
            "Epoch 3/50\n",
            "84/84 [==============================] - 0s 2ms/step - loss: 0.0015\n",
            "Epoch 4/50\n",
            "84/84 [==============================] - 0s 2ms/step - loss: 0.0012\n",
            "Epoch 5/50\n",
            "84/84 [==============================] - 0s 2ms/step - loss: 9.1762e-04\n",
            "Epoch 6/50\n",
            "84/84 [==============================] - 0s 2ms/step - loss: 7.7088e-04\n",
            "Epoch 7/50\n",
            "84/84 [==============================] - 0s 2ms/step - loss: 6.8884e-04\n",
            "Epoch 8/50\n",
            "84/84 [==============================] - 0s 2ms/step - loss: 7.2753e-04\n",
            "Epoch 9/50\n",
            "84/84 [==============================] - 0s 2ms/step - loss: 5.9165e-04\n",
            "Epoch 10/50\n",
            "84/84 [==============================] - 0s 2ms/step - loss: 7.4150e-04\n",
            "Epoch 11/50\n",
            "84/84 [==============================] - 0s 2ms/step - loss: 6.1252e-04\n",
            "Epoch 12/50\n",
            "84/84 [==============================] - 0s 2ms/step - loss: 6.8373e-04\n",
            "Epoch 13/50\n",
            "84/84 [==============================] - 0s 2ms/step - loss: 4.5447e-04\n",
            "Epoch 14/50\n",
            "84/84 [==============================] - 0s 3ms/step - loss: 4.3537e-04\n",
            "Epoch 15/50\n",
            "84/84 [==============================] - 0s 3ms/step - loss: 4.4907e-04\n",
            "Epoch 16/50\n",
            "84/84 [==============================] - 0s 3ms/step - loss: 4.2656e-04\n",
            "Epoch 17/50\n",
            "84/84 [==============================] - 0s 3ms/step - loss: 3.6852e-04\n",
            "Epoch 18/50\n",
            "84/84 [==============================] - 0s 2ms/step - loss: 5.1023e-04\n",
            "Epoch 19/50\n",
            "84/84 [==============================] - 0s 3ms/step - loss: 4.1664e-04\n",
            "Epoch 20/50\n",
            "84/84 [==============================] - 0s 3ms/step - loss: 4.1303e-04\n",
            "Epoch 21/50\n",
            "84/84 [==============================] - 0s 3ms/step - loss: 3.9671e-04\n",
            "Epoch 22/50\n",
            "84/84 [==============================] - 0s 3ms/step - loss: 4.6543e-04\n",
            "Epoch 23/50\n",
            "84/84 [==============================] - 0s 3ms/step - loss: 3.6437e-04\n",
            "Epoch 24/50\n",
            "84/84 [==============================] - 0s 3ms/step - loss: 3.3166e-04\n",
            "Epoch 25/50\n",
            "84/84 [==============================] - 0s 3ms/step - loss: 3.8980e-04\n",
            "Epoch 26/50\n",
            "84/84 [==============================] - 0s 3ms/step - loss: 3.0990e-04\n",
            "Epoch 27/50\n",
            "84/84 [==============================] - 0s 3ms/step - loss: 4.0609e-04\n",
            "Epoch 28/50\n",
            "84/84 [==============================] - 0s 3ms/step - loss: 3.8475e-04\n",
            "Epoch 29/50\n",
            "84/84 [==============================] - 0s 3ms/step - loss: 5.0787e-04\n",
            "Epoch 30/50\n",
            "84/84 [==============================] - 0s 3ms/step - loss: 4.1161e-04\n",
            "Epoch 31/50\n",
            "84/84 [==============================] - 0s 3ms/step - loss: 2.6689e-04\n",
            "Epoch 32/50\n",
            "84/84 [==============================] - 0s 3ms/step - loss: 2.9051e-04\n",
            "Epoch 33/50\n",
            "84/84 [==============================] - 0s 3ms/step - loss: 3.4503e-04\n",
            "Epoch 34/50\n",
            "84/84 [==============================] - 0s 2ms/step - loss: 4.6671e-04\n",
            "Epoch 35/50\n",
            "84/84 [==============================] - 0s 2ms/step - loss: 3.7607e-04\n",
            "Epoch 36/50\n",
            "84/84 [==============================] - 0s 2ms/step - loss: 2.8791e-04\n",
            "Epoch 37/50\n",
            "84/84 [==============================] - 0s 2ms/step - loss: 3.5244e-04\n",
            "Epoch 38/50\n",
            "84/84 [==============================] - 0s 2ms/step - loss: 3.7113e-04\n",
            "Epoch 39/50\n",
            "84/84 [==============================] - 0s 2ms/step - loss: 3.2646e-04\n",
            "Epoch 40/50\n",
            "84/84 [==============================] - 0s 2ms/step - loss: 3.5957e-04\n",
            "Epoch 41/50\n",
            "84/84 [==============================] - 0s 2ms/step - loss: 3.1343e-04\n",
            "Epoch 42/50\n",
            "84/84 [==============================] - 0s 2ms/step - loss: 3.1563e-04\n",
            "Epoch 43/50\n",
            "84/84 [==============================] - 0s 2ms/step - loss: 2.7879e-04\n",
            "Epoch 44/50\n",
            "84/84 [==============================] - 0s 2ms/step - loss: 2.7318e-04\n",
            "Epoch 45/50\n",
            "84/84 [==============================] - 0s 2ms/step - loss: 3.2336e-04\n",
            "Epoch 46/50\n",
            "84/84 [==============================] - 0s 2ms/step - loss: 2.5420e-04\n",
            "Epoch 47/50\n",
            "84/84 [==============================] - 0s 2ms/step - loss: 2.8295e-04\n",
            "Epoch 48/50\n",
            "84/84 [==============================] - 0s 2ms/step - loss: 2.6242e-04\n",
            "Epoch 49/50\n",
            "84/84 [==============================] - 0s 2ms/step - loss: 3.3151e-04\n",
            "Epoch 50/50\n",
            "84/84 [==============================] - 0s 2ms/step - loss: 2.8740e-04\n"
          ]
        },
        {
          "output_type": "execute_result",
          "data": {
            "text/plain": [
              "<keras.src.callbacks.History at 0x7c4e696639d0>"
            ]
          },
          "metadata": {},
          "execution_count": 72
        }
      ]
    },
    {
      "cell_type": "code",
      "source": [
        "# Dự đoán trên tập test\n",
        "Y_pred = model.predict(X_test)\n",
        "Y_pred = scaler.inverse_transform(Y_pred.reshape(-1, 1))\n",
        "Y_test = scaler.inverse_transform(Y_test.reshape(-1, 1))"
      ],
      "metadata": {
        "colab": {
          "base_uri": "https://localhost:8080/"
        },
        "id": "P7EMmd52IscJ",
        "outputId": "2c6f4d9e-c7fb-4bef-eab3-1dd066ffe4f1"
      },
      "execution_count": 73,
      "outputs": [
        {
          "output_type": "stream",
          "name": "stdout",
          "text": [
            "18/18 [==============================] - 0s 2ms/step\n"
          ]
        }
      ]
    },
    {
      "cell_type": "code",
      "source": [
        "# Tính toán các chỉ số RMSE, MAPE, và MASE\n",
        "rmse = np.sqrt(mean_squared_error(Y_test, Y_pred))\n",
        "mape = mean_absolute_percentage_error(Y_test, Y_pred)\n",
        "\n",
        "def mase(y_true, y_pred, y_train):\n",
        "    n = len(y_train)\n",
        "    d = np.mean(np.abs(np.diff(y_train)))\n",
        "    errors = np.abs(y_true - y_pred)\n",
        "    return np.mean(errors) / d\n",
        "\n",
        "mase_score = mase(Y_test, Y_pred, Y_train)\n",
        "\n",
        "print(f'RMSE: {rmse}')\n",
        "print(f'MAPE: {mape}')\n",
        "print(f'MASE: {mase_score}')"
      ],
      "metadata": {
        "colab": {
          "base_uri": "https://localhost:8080/"
        },
        "id": "IPIQ7TTcI7V5",
        "outputId": "d625bf45-c33c-4b66-9f6d-094999f10d7e"
      },
      "execution_count": 74,
      "outputs": [
        {
          "output_type": "stream",
          "name": "stdout",
          "text": [
            "RMSE: 0.008652654759075616\n",
            "MAPE: 0.068666169743641\n",
            "MASE: 0.9480123485859964\n"
          ]
        }
      ]
    },
    {
      "cell_type": "code",
      "source": [
        "def predict_future(model, data, look_back, days):\n",
        "    future_data = data[-look_back:].reshape(1, -1)\n",
        "    predictions = []\n",
        "    for _ in range(days):\n",
        "        prediction = model.predict(future_data)\n",
        "        predictions.append(prediction[0][0])\n",
        "        future_data = np.append(future_data[:, 1:], prediction, axis=1)\n",
        "    return np.array(predictions).reshape(-1, 1)\n",
        "\n",
        "lst_output_90 = scaler.inverse_transform(predict_future(model, scaled_prices, look_back, 90))\n",
        "lst_output_60 = scaler.inverse_transform(predict_future(model, scaled_prices, look_back, 60))\n",
        "lst_output_30 = scaler.inverse_transform(predict_future(model, scaled_prices, look_back, 30))\n"
      ],
      "metadata": {
        "colab": {
          "base_uri": "https://localhost:8080/"
        },
        "id": "C_DAbuCMI33W",
        "outputId": "f808b30f-6ae7-441c-f1af-9d09d5d6c4f5"
      },
      "execution_count": 75,
      "outputs": [
        {
          "output_type": "stream",
          "name": "stdout",
          "text": [
            "1/1 [==============================] - 0s 21ms/step\n",
            "1/1 [==============================] - 0s 25ms/step\n",
            "1/1 [==============================] - 0s 21ms/step\n",
            "1/1 [==============================] - 0s 20ms/step\n",
            "1/1 [==============================] - 0s 25ms/step\n",
            "1/1 [==============================] - 0s 23ms/step\n",
            "1/1 [==============================] - 0s 20ms/step\n",
            "1/1 [==============================] - 0s 19ms/step\n",
            "1/1 [==============================] - 0s 19ms/step\n",
            "1/1 [==============================] - 0s 21ms/step\n",
            "1/1 [==============================] - 0s 20ms/step\n",
            "1/1 [==============================] - 0s 20ms/step\n",
            "1/1 [==============================] - 0s 19ms/step\n",
            "1/1 [==============================] - 0s 20ms/step\n",
            "1/1 [==============================] - 0s 20ms/step\n",
            "1/1 [==============================] - 0s 21ms/step\n",
            "1/1 [==============================] - 0s 24ms/step\n",
            "1/1 [==============================] - 0s 23ms/step\n",
            "1/1 [==============================] - 0s 20ms/step\n",
            "1/1 [==============================] - 0s 22ms/step\n",
            "1/1 [==============================] - 0s 20ms/step\n",
            "1/1 [==============================] - 0s 20ms/step\n",
            "1/1 [==============================] - 0s 20ms/step\n",
            "1/1 [==============================] - 0s 20ms/step\n",
            "1/1 [==============================] - 0s 20ms/step\n",
            "1/1 [==============================] - 0s 20ms/step\n",
            "1/1 [==============================] - 0s 26ms/step\n",
            "1/1 [==============================] - 0s 24ms/step\n",
            "1/1 [==============================] - 0s 20ms/step\n",
            "1/1 [==============================] - 0s 28ms/step\n",
            "1/1 [==============================] - 0s 25ms/step\n",
            "1/1 [==============================] - 0s 19ms/step\n",
            "1/1 [==============================] - 0s 20ms/step\n",
            "1/1 [==============================] - 0s 22ms/step\n",
            "1/1 [==============================] - 0s 19ms/step\n",
            "1/1 [==============================] - 0s 20ms/step\n",
            "1/1 [==============================] - 0s 21ms/step\n",
            "1/1 [==============================] - 0s 21ms/step\n",
            "1/1 [==============================] - 0s 21ms/step\n",
            "1/1 [==============================] - 0s 22ms/step\n",
            "1/1 [==============================] - 0s 20ms/step\n",
            "1/1 [==============================] - 0s 23ms/step\n",
            "1/1 [==============================] - 0s 25ms/step\n",
            "1/1 [==============================] - 0s 20ms/step\n",
            "1/1 [==============================] - 0s 20ms/step\n",
            "1/1 [==============================] - 0s 20ms/step\n",
            "1/1 [==============================] - 0s 20ms/step\n",
            "1/1 [==============================] - 0s 20ms/step\n",
            "1/1 [==============================] - 0s 20ms/step\n",
            "1/1 [==============================] - 0s 22ms/step\n",
            "1/1 [==============================] - 0s 23ms/step\n",
            "1/1 [==============================] - 0s 22ms/step\n",
            "1/1 [==============================] - 0s 28ms/step\n",
            "1/1 [==============================] - 0s 20ms/step\n",
            "1/1 [==============================] - 0s 25ms/step\n",
            "1/1 [==============================] - 0s 26ms/step\n",
            "1/1 [==============================] - 0s 19ms/step\n",
            "1/1 [==============================] - 0s 20ms/step\n",
            "1/1 [==============================] - 0s 21ms/step\n",
            "1/1 [==============================] - 0s 19ms/step\n",
            "1/1 [==============================] - 0s 20ms/step\n",
            "1/1 [==============================] - 0s 20ms/step\n",
            "1/1 [==============================] - 0s 21ms/step\n",
            "1/1 [==============================] - 0s 21ms/step\n",
            "1/1 [==============================] - 0s 20ms/step\n",
            "1/1 [==============================] - 0s 24ms/step\n",
            "1/1 [==============================] - 0s 21ms/step\n",
            "1/1 [==============================] - 0s 24ms/step\n",
            "1/1 [==============================] - 0s 20ms/step\n",
            "1/1 [==============================] - 0s 20ms/step\n",
            "1/1 [==============================] - 0s 22ms/step\n",
            "1/1 [==============================] - 0s 20ms/step\n",
            "1/1 [==============================] - 0s 19ms/step\n",
            "1/1 [==============================] - 0s 20ms/step\n",
            "1/1 [==============================] - 0s 19ms/step\n",
            "1/1 [==============================] - 0s 20ms/step\n",
            "1/1 [==============================] - 0s 20ms/step\n",
            "1/1 [==============================] - 0s 19ms/step\n",
            "1/1 [==============================] - 0s 32ms/step\n",
            "1/1 [==============================] - 0s 20ms/step\n",
            "1/1 [==============================] - 0s 26ms/step\n",
            "1/1 [==============================] - 0s 25ms/step\n",
            "1/1 [==============================] - 0s 20ms/step\n",
            "1/1 [==============================] - 0s 19ms/step\n",
            "1/1 [==============================] - 0s 20ms/step\n",
            "1/1 [==============================] - 0s 20ms/step\n",
            "1/1 [==============================] - 0s 20ms/step\n",
            "1/1 [==============================] - 0s 31ms/step\n",
            "1/1 [==============================] - 0s 31ms/step\n",
            "1/1 [==============================] - 0s 28ms/step\n",
            "1/1 [==============================] - 0s 29ms/step\n",
            "1/1 [==============================] - 0s 31ms/step\n",
            "1/1 [==============================] - 0s 34ms/step\n",
            "1/1 [==============================] - 0s 28ms/step\n",
            "1/1 [==============================] - 0s 28ms/step\n",
            "1/1 [==============================] - 0s 29ms/step\n",
            "1/1 [==============================] - 0s 28ms/step\n",
            "1/1 [==============================] - 0s 29ms/step\n",
            "1/1 [==============================] - 0s 28ms/step\n",
            "1/1 [==============================] - 0s 40ms/step\n",
            "1/1 [==============================] - 0s 36ms/step\n",
            "1/1 [==============================] - 0s 32ms/step\n",
            "1/1 [==============================] - 0s 29ms/step\n",
            "1/1 [==============================] - 0s 31ms/step\n",
            "1/1 [==============================] - 0s 29ms/step\n",
            "1/1 [==============================] - 0s 30ms/step\n",
            "1/1 [==============================] - 0s 29ms/step\n",
            "1/1 [==============================] - 0s 35ms/step\n",
            "1/1 [==============================] - 0s 35ms/step\n",
            "1/1 [==============================] - 0s 32ms/step\n",
            "1/1 [==============================] - 0s 29ms/step\n",
            "1/1 [==============================] - 0s 28ms/step\n",
            "1/1 [==============================] - 0s 37ms/step\n",
            "1/1 [==============================] - 0s 33ms/step\n",
            "1/1 [==============================] - 0s 35ms/step\n",
            "1/1 [==============================] - 0s 31ms/step\n",
            "1/1 [==============================] - 0s 36ms/step\n",
            "1/1 [==============================] - 0s 37ms/step\n",
            "1/1 [==============================] - 0s 31ms/step\n",
            "1/1 [==============================] - 0s 34ms/step\n",
            "1/1 [==============================] - 0s 34ms/step\n",
            "1/1 [==============================] - 0s 33ms/step\n",
            "1/1 [==============================] - 0s 46ms/step\n",
            "1/1 [==============================] - 0s 33ms/step\n",
            "1/1 [==============================] - 0s 31ms/step\n",
            "1/1 [==============================] - 0s 37ms/step\n",
            "1/1 [==============================] - 0s 24ms/step\n",
            "1/1 [==============================] - 0s 21ms/step\n",
            "1/1 [==============================] - 0s 21ms/step\n",
            "1/1 [==============================] - 0s 22ms/step\n",
            "1/1 [==============================] - 0s 19ms/step\n",
            "1/1 [==============================] - 0s 20ms/step\n",
            "1/1 [==============================] - 0s 20ms/step\n",
            "1/1 [==============================] - 0s 20ms/step\n",
            "1/1 [==============================] - 0s 20ms/step\n",
            "1/1 [==============================] - 0s 20ms/step\n",
            "1/1 [==============================] - 0s 20ms/step\n",
            "1/1 [==============================] - 0s 21ms/step\n",
            "1/1 [==============================] - 0s 25ms/step\n",
            "1/1 [==============================] - 0s 25ms/step\n",
            "1/1 [==============================] - 0s 20ms/step\n",
            "1/1 [==============================] - 0s 21ms/step\n",
            "1/1 [==============================] - 0s 20ms/step\n",
            "1/1 [==============================] - 0s 19ms/step\n",
            "1/1 [==============================] - 0s 20ms/step\n",
            "1/1 [==============================] - 0s 20ms/step\n",
            "1/1 [==============================] - 0s 21ms/step\n",
            "1/1 [==============================] - 0s 20ms/step\n",
            "1/1 [==============================] - 0s 21ms/step\n",
            "1/1 [==============================] - 0s 21ms/step\n",
            "1/1 [==============================] - 0s 25ms/step\n",
            "1/1 [==============================] - 0s 23ms/step\n",
            "1/1 [==============================] - 0s 24ms/step\n",
            "1/1 [==============================] - 0s 22ms/step\n",
            "1/1 [==============================] - 0s 20ms/step\n",
            "1/1 [==============================] - 0s 20ms/step\n",
            "1/1 [==============================] - 0s 21ms/step\n",
            "1/1 [==============================] - 0s 20ms/step\n",
            "1/1 [==============================] - 0s 21ms/step\n",
            "1/1 [==============================] - 0s 20ms/step\n",
            "1/1 [==============================] - 0s 19ms/step\n",
            "1/1 [==============================] - 0s 21ms/step\n",
            "1/1 [==============================] - 0s 26ms/step\n",
            "1/1 [==============================] - 0s 28ms/step\n",
            "1/1 [==============================] - 0s 20ms/step\n",
            "1/1 [==============================] - 0s 31ms/step\n",
            "1/1 [==============================] - 0s 19ms/step\n",
            "1/1 [==============================] - 0s 20ms/step\n",
            "1/1 [==============================] - 0s 20ms/step\n",
            "1/1 [==============================] - 0s 20ms/step\n",
            "1/1 [==============================] - 0s 23ms/step\n",
            "1/1 [==============================] - 0s 23ms/step\n",
            "1/1 [==============================] - 0s 20ms/step\n",
            "1/1 [==============================] - 0s 21ms/step\n",
            "1/1 [==============================] - 0s 22ms/step\n",
            "1/1 [==============================] - 0s 25ms/step\n",
            "1/1 [==============================] - 0s 25ms/step\n",
            "1/1 [==============================] - 0s 20ms/step\n",
            "1/1 [==============================] - 0s 24ms/step\n",
            "1/1 [==============================] - 0s 20ms/step\n"
          ]
        }
      ]
    },
    {
      "cell_type": "code",
      "source": [
        "import matplotlib.dates as mdates\n",
        "import matplotlib.pyplot as plt\n",
        "\n",
        "# Generate future dates for predictions\n",
        "last_date = data.index[-1]\n",
        "predict_data_index_90 = pd.date_range(start=last_date + pd.Timedelta(days=1), periods=90, freq='D')\n",
        "predict_data_index_60 = pd.date_range(start=last_date + pd.Timedelta(days=1), periods=60, freq='D')\n",
        "predict_data_index_30 = pd.date_range(start=last_date + pd.Timedelta(days=1), periods=30, freq='D')\n",
        "\n",
        "# Plot the data\n",
        "plt.figure(figsize=(6, 5))\n",
        "\n",
        "# Plot actual prices\n",
        "plt.plot(data.index, scaler.inverse_transform(scaled_prices), label='Actual')\n",
        "\n",
        "# Plot predictions\n",
        "plt.plot(predict_data_index_90, lst_output_90, label='Predict 90 days', linestyle='--')\n",
        "plt.plot(predict_data_index_60, lst_output_60, label='Predict 60 days', linestyle='--')\n",
        "plt.plot(predict_data_index_30, lst_output_30, label='Predict 30 days', linestyle='--')\n",
        "\n",
        "# Set x-axis formatting and rotation\n",
        "plt.gca().xaxis.set_major_formatter(mdates.DateFormatter(\"%Y-%m\"))\n",
        "plt.xticks(rotation=45)\n",
        "\n",
        "plt.xlabel('Date')\n",
        "plt.ylabel('Price')\n",
        "plt.title('Cryptocurrency Price Prediction')\n",
        "plt.legend()\n",
        "plt.tight_layout()\n",
        "plt.show()\n"
      ],
      "metadata": {
        "colab": {
          "base_uri": "https://localhost:8080/",
          "height": 507
        },
        "id": "0_20RoyJI372",
        "outputId": "df688dac-3c4f-42ed-f992-0ec87c92ec89"
      },
      "execution_count": 76,
      "outputs": [
        {
          "output_type": "display_data",
          "data": {
            "text/plain": [
              "<Figure size 600x500 with 1 Axes>"
            ],
            "image/png": "[encoded data removed]"
          },
          "metadata": {}
        }
      ]
    }
  ]
}